{
 "cells": [
  {
   "cell_type": "markdown",
   "metadata": {},
   "source": [
    "### Learning Objectives\n",
    "* To use `<random>` to generate random numbers \n",
    "* To use `<chrono>` to measure running times\n",
    "* To implement sequential and binary search of both arrays\n",
    "\n",
    "### Instructions\n",
    "Read and study the following sections, run their code examples and solve their challenges. This worksheet has the following challenges:\n",
    "* [CHALLENGE 01](#ch01)\n",
    "* [CHALLENGE 02](#ch02)\n",
    "* [CHALLENGE 03](#ch03)\n",
    "* [CHALLENGE 04](#ch04)\n",
    "\n",
    "Run your coding challenges and fix any errors they might have before downloading and submitting your completed worksheet for grading. When done, open the menu **File >> Download as >> HTML (.html)** to download your worksheet in HTML format. **Submit the downloaded *.html* file via Canvas**.\n",
    "\n",
    "# Hashing\n",
    "In the previous worksheet, we saw two ways of searching: sequential search which takes $O(n)$ and binary search which takes $O(log(n))$. Both of these searches are comparison-based. While binary search is efficient, it only works for sorted arrays. \n",
    "\n",
    "Hashing gives us a way for searching data that is not limited to sorted arrays and is more efficient than both sequential and binary search. Because comparison-based search cannot do better than $O(log(n))$, hashing must not be comparison-based if it is to do any better than binary search.\n",
    "\n",
    "So what is hashing? Let's start by having an example.\n",
    "\n",
    "Assume we have the data `3, 5, 7, 4, 2, 10, 12, 8`. We want to store this data in such a way that it is efficient to search. To do that we use a **hash table** which is a simple array with a capacity. Looking at this data, we see that its values range from `2` to `12` and its size is `8`. That is we can use an array with enough capacity as our hash table. For reasons that will be clear later on, we choose a capacity that is a prime number. Let's use `17` for this example."
   ]
  },
  {
   "cell_type": "code",
   "execution_count": null,
   "metadata": {},
   "outputs": [],
   "source": [
    "const int CAPACITY = 17;\n",
    "int htable[CAPACITY]{0};"
   ]
  },
  {
   "cell_type": "markdown",
   "metadata": {},
   "source": [
    "The `{0}` at the end of last statement above instructs C++ to initialize the elements of this table to `0`.\n",
    "\n",
    "For this array to work as a hash table, we need to use indexing. That means finding a way to map each value(also called a key) to the cell where it will be stored. To do that, we use a function that takes a value as an argument and returns its index in the hash table. We call this function a `hash function`.  A simple common example hash function uses the modular division `%` (the \"mod\" operator) like you see below."
   ]
  },
  {
   "cell_type": "code",
   "execution_count": null,
   "metadata": {},
   "outputs": [],
   "source": [
    "int hash(int key){\n",
    "    return key % CAPACITY;\n",
    "}"
   ]
  },
  {
   "cell_type": "markdown",
   "metadata": {},
   "source": [
    "Here we are using the \"mod\" operator `%` to find the index where the argument key or value should be saved in the table. Now we create two functions:\n",
    "- a function named `put` to add the a given key or value to the hash table."
   ]
  },
  {
   "cell_type": "code",
   "execution_count": null,
   "metadata": {},
   "outputs": [],
   "source": [
    "void put(int key){\n",
    "    htable[hash(key)] = key;\n",
    "}"
   ]
  },
  {
   "cell_type": "markdown",
   "metadata": {},
   "source": [
    "- a function named `contains` to return whether a give key exists in the hash table."
   ]
  },
  {
   "cell_type": "code",
   "execution_count": null,
   "metadata": {},
   "outputs": [],
   "source": [
    "bool contains(int key){\n",
    "    return htable[hash(key)] == key;\n",
    "}"
   ]
  },
  {
   "cell_type": "markdown",
   "metadata": {},
   "source": [
    "Here we are searching for the value of `key`. So we use the hash function on the searched for `key` to get its corresponding index in the hash table. Then we access the table cell where that index is and see if `key` is there. If so we return `true`; otherwise `false` is returned.\n",
    "\n",
    "This kind of searching is not comparison-based and it very efficient. \n",
    "\n",
    "### <a id=\"ch01\">CHALLENGE 01</a>\n",
    "**Q1**. What is the running time in Big-O notation of the `put` function?"
   ]
  },
  {
   "cell_type": "raw",
   "metadata": {},
   "source": [
    "Your answer goes here"
   ]
  },
  {
   "cell_type": "markdown",
   "metadata": {},
   "source": [
    "**Q2**. What is the running time in Big-O notation of the `contains` function?"
   ]
  },
  {
   "cell_type": "raw",
   "metadata": {},
   "source": [
    "Your answer goes here"
   ]
  },
  {
   "cell_type": "markdown",
   "metadata": {},
   "source": [
    "## Displaying the hash table\n",
    "Having done that, we can now enter the above data to `htable`."
   ]
  },
  {
   "cell_type": "code",
   "execution_count": null,
   "metadata": {},
   "outputs": [],
   "source": [
    "put(3);\n",
    "put(5);\n",
    "put(7);\n",
    "put(4);\n",
    "put(2);\n",
    "put(10);\n",
    "put(12);\n",
    "put(8);"
   ]
  },
  {
   "cell_type": "markdown",
   "metadata": {},
   "source": [
    "Let us see how `htable` looks like after putting all the above keys in it. Here is a function to display `htable` in a nice format."
   ]
  },
  {
   "cell_type": "code",
   "execution_count": null,
   "metadata": {},
   "outputs": [],
   "source": [
    "#include <iostream>\n",
    "#include <iomanip>\n",
    "#include <string>\n",
    "void printHTable(){\n",
    "    std::cout << std::setw(8) << \"index: \"; \n",
    "    for(int i = 0; i < CAPACITY; i++){\n",
    "        std::cout << std::setw(4) << i;\n",
    "    }\n",
    "    std::cout << std::endl << std::setw(8) << ' ' \n",
    "              << std::string(4 * CAPACITY + 1, '=') << std::endl;\n",
    "    std::cout << std::setw(8) << \"data: \"; \n",
    "    for(int i = 0; i < CAPACITY; i++){\n",
    "        if(htable[i] == 0) {\n",
    "            std::cout << \"|\" << std::setw(3) << ' ';\n",
    "        } else {\n",
    "            std::cout << \"|\" << std::setw(3) << htable[i];\n",
    "        }\n",
    "    }\n",
    "    std::cout << \"|\" << std::endl << std::setw(8) << ' ' \n",
    "              << std::string(4 * CAPACITY + 1, '=') << std::endl;\n",
    "    \n",
    "}"
   ]
  },
  {
   "cell_type": "markdown",
   "metadata": {},
   "source": [
    "Now let's call this function to see what `htable` look like:"
   ]
  },
  {
   "cell_type": "code",
   "execution_count": null,
   "metadata": {},
   "outputs": [],
   "source": [
    "printHTable();"
   ]
  },
  {
   "cell_type": "markdown",
   "metadata": {},
   "source": [
    "Here a few example search calls."
   ]
  },
  {
   "cell_type": "code",
   "execution_count": null,
   "metadata": {},
   "outputs": [],
   "source": [
    "std::cout << contains(10) << std::endl;\n",
    "std::cout << contains(6) << std::endl;\n",
    "std::cout << contains(7) << std::endl;\n",
    "std::cout << contains(18) << std::endl;"
   ]
  },
  {
   "cell_type": "markdown",
   "metadata": {},
   "source": [
    "### <a id=\"ch02\">CHALLENGE 02</a>\n",
    "**Q1**. At what cell will `put(28)` store the key value `28`?"
   ]
  },
  {
   "cell_type": "raw",
   "metadata": {},
   "source": [
    "Your answer goes here"
   ]
  },
  {
   "cell_type": "markdown",
   "metadata": {},
   "source": [
    "**Q2**. At what cell will `put(17)` store the key value `17`?"
   ]
  },
  {
   "cell_type": "raw",
   "metadata": {},
   "source": [
    "Your answer goes here"
   ]
  },
  {
   "cell_type": "markdown",
   "metadata": {},
   "source": [
    "# Collisions\n",
    "Having a search function that runs in constant time $O(1)$ is exactly what we are looking for. But will it work beyond the above example. In other words:\n",
    "- How big should the hash table be compared to the data? \n",
    "- Can we store more data than the size of the hash table?\n",
    "- Can the hash function return the same index for two different keys? \n",
    "- How do we handle having more than one key mapped by the hash function to the same index?\n",
    "\n",
    "Right now the hash table `htable` does not allow for storing more elements than its capacity; that is more than `17` elements. Also, the above `hash()` function maps both `3`, `20`, and `37` to the same index. That means running the following three calls:"
   ]
  },
  {
   "cell_type": "code",
   "execution_count": null,
   "metadata": {},
   "outputs": [],
   "source": [
    "put(3);\n",
    "put(20);\n",
    "put(37);"
   ]
  },
  {
   "cell_type": "markdown",
   "metadata": {},
   "source": [
    "results in the following table:"
   ]
  },
  {
   "cell_type": "code",
   "execution_count": null,
   "metadata": {},
   "outputs": [],
   "source": [
    "printHTable();"
   ]
  },
  {
   "cell_type": "markdown",
   "metadata": {},
   "source": [
    "Notice that keys `3` and `20` are missing from the table. Only `37` exists. This is because all the `3`, `20`, and `37` keys mere mapped to the cell at index 3 and therefore has only the key of the last `put` call. This means the keys `3` and `20` are lost.\n",
    "\n",
    "We call having two or more keys mapped to the same index in a hash table a `collision` and we have to have a way to handle collisions. There are multiple strategies to handle collisions. In this worksheet, we'll cover two strategies: **chaining** and **linear probing**\n",
    "\n",
    "# Chaining (open hashing)\n",
    "One way of handling collisions is to change the hash table from an array of keys to an array of linked lists. This allows for storing more than one key value at the same index. We call this **chained hash table**. Each linked list is called a **bucket** and is used to store all the keys that map to the same index.\n",
    "\n",
    "Here is a class named `ChainedHashtable` that uses the build-in c++ doubly linked list class `std::list<>` to implement a chained hash table."
   ]
  },
  {
   "cell_type": "code",
   "execution_count": null,
   "metadata": {},
   "outputs": [],
   "source": [
    "#include <list>\n",
    "\n",
    "template<typename T>\n",
    "class ChainedHashtable {\n",
    "private:\n",
    "  unsigned sz = 0, capacity = 499;\n",
    "  std::list<T>* htable;\n",
    "  int hash(T e){ return e % capacity; }\n",
    "    \n",
    "public:\n",
    "  ChainedHashtable(unsigned capacity):  sz(0), capacity(capacity), htable(new std::list<T>[capacity]{}){}\n",
    "  ChainedHashtable(const ChainedHashtable<T>& c) = delete; \n",
    "  ChainedHashtable<T>& operator=(const ChainedHashtable<T>&& c) = delete;\n",
    "\n",
    "  friend std::ostream& operator<<(std::ostream& out, const ChainedHashtable<T>& t){\n",
    "    for(int i = 0; i < t.capacity; i++){\n",
    "      out << std::setw(6) << i << \": \";\n",
    "\n",
    "      for(auto it = t.htable[i].begin(); it != t.htable[i].end(); ++it){\n",
    "        out << *it << \" \";\n",
    "      }\n",
    "      out << std::endl;\n",
    "    } \n",
    "    \n",
    "    return out;\n",
    "  }\n",
    "\n",
    "  void put(T e){ htable[hash(e)].push_back(e); sz++; }\n",
    "  bool remove(T e){ htable[hash(e)].remove(e); sz--; }\n",
    "  bool empty(){ return sz == 0; }\n",
    "  bool full(){ return sz == capacity; }\n",
    "  int size() { return sz; }\n",
    "  bool contains(T e) {\n",
    "    auto bucket = htable[hash(e)];\n",
    "    for(auto it = bucket.begin(); it != bucket.end(); ++it){\n",
    "      if (*it == e) return true;\n",
    "    }\n",
    "    \n",
    "    return  false;\n",
    "  }\n",
    "\n",
    "  ~ChainedHashtable(){\n",
    "      delete[] htable;\n",
    "  }\n",
    "};"
   ]
  },
  {
   "cell_type": "markdown",
   "metadata": {},
   "source": [
    "Notice the use of `= delete` to tell C++ that this class does not support copying. Let's test this class on the above example."
   ]
  },
  {
   "cell_type": "code",
   "execution_count": null,
   "metadata": {},
   "outputs": [],
   "source": [
    "#include <iostream>\n",
    "ChainedHashtable<int> cht {17};\n",
    "\n",
    "cht.put(5);\n",
    "cht.put(7);\n",
    "cht.put(4);\n",
    "cht.put(2);\n",
    "cht.put(10);\n",
    "cht.put(12);\n",
    "cht.put(8);\n",
    "cht.put(3);\n",
    "cht.put(20);\n",
    "cht.put(37);\n",
    "\n",
    "std::cout << cht;"
   ]
  },
  {
   "cell_type": "markdown",
   "metadata": {},
   "source": [
    "As you can see, there were two collisions: both `20` and `37`collided with the value at index `3` and were added to the same linked list because they all were mapped by the `hash` function to the same index `3`. Because this table has access linked lists, it can accommodate any number of keys even more that the capacity of the the hash table. Notice also the use of prime numbers for capacity. This is to make sure that keys are distributed all over the table and do not cluster, which is important for performance.\n",
    "\n",
    "### <a id=\"ch03\">CHALLENGE 03</a>\n",
    "Having the following chained hash table:\n",
    "\n",
    "```\n",
    "0: 7 21 28\n",
    "1:\n",
    "2: 9 23 30\n",
    "3:\n",
    "4:\n",
    "5:\n",
    "6: 13\n",
    "\n",
    "```\n",
    "\n",
    "Print out how this table will look like after the following code:\n",
    "```c++\n",
    "put(44);\n",
    "put(33);\n",
    "put(50);\n",
    "put(20);\n",
    "```"
   ]
  },
  {
   "cell_type": "raw",
   "metadata": {},
   "source": [
    "Your answer goes here"
   ]
  },
  {
   "cell_type": "markdown",
   "metadata": {},
   "source": [
    "# Linear probing (close hashing) \n",
    "\n",
    "What if we want to save the keys inside the hash table without using linked lists. How do we handle collisions then? We could used **linear probing** for that. Say that you have a key value $k$ whose hash is $h_k$. If the element at index $h_k$ is empty, then we store $k$ there and we are done. If, however, $h_k$ is not empty, then we check the element at index $h_k + 1$; if it is empty we store $k$ in it, else we check the index $h_k + 2$ and do the same. We keep doing this until we find an empty cell to store $k$ in or reach the end of the table. If that is the case, we move to the beginning of the table and check if the element at index $0$ is empty.\n",
    "\n",
    "Here is a class implementing this."
   ]
  },
  {
   "cell_type": "code",
   "execution_count": null,
   "metadata": {},
   "outputs": [],
   "source": [
    "template<typename T>\n",
    "struct Cell {\n",
    "  T info;\n",
    "  bool empty = true;\n",
    "};\n",
    "\n",
    "template<typename T>\n",
    "class LinearHashtable {\n",
    "private:\n",
    "  unsigned sz = 0, capacity = 499;\n",
    "  Cell<T>* htable;\n",
    "  int hash(T e){ return e % capacity; }\n",
    "public:\n",
    "  LinearHashtable(int capacity):  sz(0), capacity(capacity), htable(new Cell<T>[capacity]{}){}\n",
    "  LinearHashtable(const LinearHashtable<T>& c) = delete;\n",
    "  LinearHashtable<T>& operator=(const LinearHashtable<T>&& c) = delete;\n",
    "\n",
    "  friend std::ostream& operator<<(std::ostream& out, const LinearHashtable<T>& t){\n",
    "    for(int i = 0; i < t.capacity; i++){\n",
    "      out << std::setw(6) << i << \": \";\n",
    "      if(!t.htable[i].empty) out << t.htable[i].info;\n",
    "      out << std::endl;\n",
    "    } \n",
    "\n",
    "    out << std::endl;\n",
    "    return out;\n",
    "  }\n",
    "\n",
    "  void put(T e){\n",
    "    if(full()) throw std::runtime_error(\"Table is full.\");\n",
    "\n",
    "    int t = hash(e);\n",
    "    if(htable[t].empty){\n",
    "      htable[t] = {e, false};\n",
    "    } else {\n",
    "      int i = 1;\n",
    "      while (!htable[(t + i) % capacity].empty) i++;\n",
    "      htable[(t + i) % capacity] = {e, false};\n",
    "    }\n",
    "\n",
    "    sz++;\n",
    "  }\n",
    "\n",
    "  bool remove(T e){\n",
    "    if(empty()) return false;\n",
    "\n",
    "    int t = hashCode(e);\n",
    "    if(!htable[t].empty && htable[t].info == e){\n",
    "      htable[t].empty = true;\n",
    "      sz--;\n",
    "      return true;\n",
    "    } else {\n",
    "      int i = 1;\n",
    "      while (i < capacity){\n",
    "        if(!htable[(t + i) % capacity].empty &&  htable[(t + i) % capacity].info == e){\n",
    "          htable[(t + i) % capacity].empty = true;\n",
    "          sz--;\n",
    "          return true;\n",
    "        }\n",
    "        \n",
    "        i++;\n",
    "      }\n",
    "      \n",
    "      return false;\n",
    "    }\n",
    "  }\n",
    "\n",
    "  bool contains(T e) {\n",
    "    int t = hashCode(e);\n",
    "    if(!htable[t].empty && htable[t].info == e){\n",
    "      return true;\n",
    "    } else {\n",
    "      int i = 1;\n",
    "      while (i < capacity){\n",
    "        if(!htable[(t + i) % capacity].empty && htable[(t + i) % capacity].info == e) {\n",
    "          return true;\n",
    "        }\n",
    "\n",
    "        i++;\n",
    "      }\n",
    "      return  false;\n",
    "    }\n",
    "  }\n",
    "\n",
    "  bool empty(){ return sz == 0; }\n",
    "  bool full(){ return sz == capacity; }\n",
    "  int size() { return sz; }\n",
    "\n",
    "  ~LinearHashtable(){\n",
    "      delete[] htable;\n",
    "  }\n",
    "};"
   ]
  },
  {
   "cell_type": "markdown",
   "metadata": {},
   "source": [
    "Here is example program testing this class."
   ]
  },
  {
   "cell_type": "code",
   "execution_count": null,
   "metadata": {},
   "outputs": [],
   "source": [
    "LinearHashtable<int> lht {17};\n",
    "\n",
    "lht.put(5);\n",
    "lht.put(7);\n",
    "lht.put(4);\n",
    "lht.put(2);\n",
    "lht.put(10);\n",
    "lht.put(12);\n",
    "lht.put(8);\n",
    "lht.put(3);\n",
    "lht.put(32);\n",
    "lht.put(33);\n",
    "\n",
    "std::cout << lht;"
   ]
  },
  {
   "cell_type": "markdown",
   "metadata": {},
   "source": [
    "To see linear probing in action, let's put `20` in this table and print it. "
   ]
  },
  {
   "cell_type": "code",
   "execution_count": null,
   "metadata": {},
   "outputs": [],
   "source": [
    "lht.put(20);\n",
    "std::cout << lht;"
   ]
  },
  {
   "cell_type": "markdown",
   "metadata": {},
   "source": [
    "We see that `20` was stored in the cell at index `6`. This is because the cell at index `20 % 17 = 3` was not empty, therefore we check the cells at index 4 and 5 which were not empty either. The next available cell after that was at index `6` which is where `20` is stored. Similarly, putting `37` will cause a conflict with the cell at index `3` and therefore will be stored at the available cell after that, which is `9`. Let's see that in action."
   ]
  },
  {
   "cell_type": "code",
   "execution_count": null,
   "metadata": {
    "scrolled": true
   },
   "outputs": [],
   "source": [
    "lht.put(37);\n",
    "std::cout << lht;"
   ]
  },
  {
   "cell_type": "markdown",
   "metadata": {},
   "source": [
    "Finally, let's see what happen when we put `50` in this table. `50 % 17` is `16` which has a conflict with the key currently at index `16`. So where will the key `50` be saved? Let us see."
   ]
  },
  {
   "cell_type": "code",
   "execution_count": null,
   "metadata": {
    "scrolled": true
   },
   "outputs": [],
   "source": [
    "lht.put(50);\n",
    "std::cout << lht;"
   ]
  },
  {
   "cell_type": "markdown",
   "metadata": {},
   "source": [
    "As you can see, `50` is stored at the cell at index `0` because having hit the end of the table (index `16`), linear probing starts over at the beginning of the table (index `0`), which happens to be empty. Thus `50` is stored at cell `0`."
   ]
  },
  {
   "cell_type": "markdown",
   "metadata": {},
   "source": [
    "### <a id=\"ch04\">CHALLENGE 04</a>\n",
    "Looking at the following linear hash table:\n",
    "\n",
    "```\n",
    "0: 7\n",
    "1: 21\n",
    "2: 9\n",
    "3: 29\n",
    "4: 6\n",
    "5:\n",
    "6: 13\n",
    "\n",
    "```\n",
    "Type the `put` function calls necessary to generate this hash table."
   ]
  },
  {
   "cell_type": "raw",
   "metadata": {},
   "source": [
    "Your answer goes here"
   ]
  }
 ],
 "metadata": {
  "kernelspec": {
   "display_name": "C++17",
   "language": "C++17",
   "name": "xcpp17"
  },
  "language_info": {
   "codemirror_mode": "text/x-c++src",
   "file_extension": ".cpp",
   "mimetype": "text/x-c++src",
   "name": "c++",
   "version": "17"
  }
 },
 "nbformat": 4,
 "nbformat_minor": 2
}
