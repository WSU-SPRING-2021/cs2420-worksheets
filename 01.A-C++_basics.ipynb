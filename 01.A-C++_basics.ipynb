{
 "cells": [
  {
   "cell_type": "markdown",
   "metadata": {},
   "source": [
    "### Learning Objectives\n",
    "* To define variables and\n",
    "* To write loops and conditionals\n",
    "* To receive input and format output\n",
    "\n",
    "### Instructions\n",
    "Read and study the following sections, run their code examples and solve their challenges. This worksheet has the following challenges:\n",
    "* [CHALLENGE 01](#ch01)\n",
    "\n",
    "Run your coding challenges and fix any errors they might have before downloading and submitting your completed worksheet for grading. When done, open the menu **File >> Download as >> HTML (.html)** to download your worksheet in HTML format. **Submit the downloaded *.html* file via Canvas**.\n",
    "\n",
    "# C++ Basics\n",
    "\n",
    "## The Hello World program\n",
    "Here is the simplest C++ program. It contains only one function named `main`. This function does only one thing: it prints the string \"Hello, World!\" to the screen.\n",
    "\n",
    "``` c++\n",
    "// FILE: ex01-hello.cpp\n",
    "#include <iostream>\n",
    "\n",
    "int main(){\n",
    "  std::cout << \"Hello, world!\"\n",
    "            << std::endl;\n",
    "\n",
    "  return 0;\n",
    "}\n",
    "```\n",
    "\n",
    "Use the `std::cout` along with the **insertion operator** `<<` to output text (strings and numbers) to the console. We can use `std::endl` to output a line break. To use `std::cout`, we must first include the `<iostream>` header file.\n",
    "\n",
    "Here is the example hello-world output statement. Run it by selecting and running (using Run button) the following two code cells."
   ]
  },
  {
   "cell_type": "code",
   "execution_count": null,
   "metadata": {},
   "outputs": [],
   "source": [
    "#include <iostream>"
   ]
  },
  {
   "cell_type": "code",
   "execution_count": null,
   "metadata": {},
   "outputs": [],
   "source": [
    "std::cout << \"Hello, world!\" << std::endl;"
   ]
  },
  {
   "cell_type": "markdown",
   "metadata": {},
   "source": [
    "## Using namespaces\n",
    "To avoid having to put `std::` in front of every `cout`, `endl`, and other functions from the standard C++ library, we could use the `using namespace std;` statement typically, but not necessarily, right after the include directives.\n",
    "\n",
    "``` c++\n",
    "// FILE: ex01-hello-2.cpp\n",
    "#include <iostream>\n",
    "using namespace std;\n",
    "\n",
    "int main(){\n",
    "  cout << \"Hello, world!\\n\";\n",
    "\n",
    "  return 0;\n",
    "}\n",
    "```"
   ]
  },
  {
   "cell_type": "code",
   "execution_count": null,
   "metadata": {},
   "outputs": [],
   "source": [
    "using namespace std;"
   ]
  },
  {
   "cell_type": "markdown",
   "metadata": {},
   "source": [
    "## Data types\n",
    "C++ programs work with data of many types. The most common data types are :\n",
    "* Integers like 1, 5, 10, -16: we use the keyword `int` to define integers.\n",
    "* Decimals such as .2, 5.3, 3.2: we use the keyword `double` to define double-precision decimals and the keyword `float` to define single-precision decimals. Use `double` for decimals unless you are told otherwise.\n",
    "* Characters: which are single letters or symbols written between single quotes, such as the letter `'A'`, the digit `'8'`, the symbol `'@'` the line break character `'\\n'`, the tab character `'\\t'`. We use the keyword `char` to define single characters.\n",
    "* Booleans which are either `true` or `false`. We use the keyword `bool` to define booleans.\n",
    "* Strings which are one or more characters between double quotes such as the `\"hello world\"` text or the name `\"Sam\"`. We use the class `string` to define strings, which requires including the `<string>` header file.\n",
    "\n",
    "We must use these data types to define variables. \n",
    "\n",
    "To define a variable, we start with the data type of the variable followed by its name:\n",
    "\n",
    "``` c++\n",
    "  <data-type> <name>;\n",
    "```\n",
    "\n",
    "Optionally we can initialize the variable at the time of its creation by providing an initial value:\n",
    "\n",
    "``` c++\n",
    "  <data-type> <name> = <initial-value>;\n",
    "```\n",
    "\n",
    "**NOTE:** variable names must be valid **C++ identifiers**. That means they:\n",
    "* can only contain letters, digits, and underscores, \n",
    "* cannot start with a digit, and \n",
    "* cannot be a C++ keyword."
   ]
  },
  {
   "cell_type": "markdown",
   "metadata": {},
   "source": [
    "## Reading input from the console\n",
    "\n",
    "And just like we used `cout` with the **insertion** `<<` operator to output to the console, we can use `cin` to read input data from the keyboard. To do that, we must first define a variable with the same data type as the input value.\n",
    "\n",
    "Here is an example of reading two integer values. Run it and enter two integers."
   ]
  },
  {
   "cell_type": "code",
   "execution_count": null,
   "metadata": {},
   "outputs": [],
   "source": [
    "int x, y;\n",
    "cout << \"Enter two integers: \";\n",
    "cin >> x >> y;"
   ]
  },
  {
   "cell_type": "markdown",
   "metadata": {},
   "source": [
    "To display the values you entered:"
   ]
  },
  {
   "cell_type": "code",
   "execution_count": null,
   "metadata": {},
   "outputs": [],
   "source": [
    "cout << x << '\\t' << y << endl;"
   ]
  },
  {
   "cell_type": "markdown",
   "metadata": {},
   "source": [
    "Similarly to receive `double` input, we define a `double` variable:"
   ]
  },
  {
   "cell_type": "code",
   "execution_count": null,
   "metadata": {},
   "outputs": [],
   "source": [
    "double f_temp; // To be entered\n",
    "double c_temp; // To be calculated\n",
    "\n",
    "cout << \"Temperature in fahrenheit:\\n\";\n",
    "cin >> f_temp;"
   ]
  },
  {
   "cell_type": "markdown",
   "metadata": {},
   "source": [
    "### <a id=\"ch01\">CHALLENGE 01</a>\n",
    "In the code cell below, prompt the user for two integers and print out the prime numbers that lie between them."
   ]
  },
  {
   "cell_type": "code",
   "execution_count": null,
   "metadata": {},
   "outputs": [],
   "source": [
    "//TODO"
   ]
  },
  {
   "cell_type": "markdown",
   "metadata": {},
   "source": [
    "# Loops\n",
    "We use loops to repeat things over and over. C++, like many other languages, support three kinds of loops: the `for` loop, the `while` loop, and the `do-while` loop. As of C++11, a forth special loop named the **range-based** `for` loop was added; We will see this new loop later in class.\n",
    "\n",
    "## The `for` loop\n",
    "The `for` loop is perhaps the most popular. It takes the following form:\n",
    "\n",
    "```c++\n",
    "// For repeating a single statement\n",
    "for(initialize; test; increment)\n",
    "  Statement;\n",
    "```\n",
    "or\n",
    "```c++ \n",
    "// For repeating one or more statements\n",
    "for(initialize; test; increment){\n",
    "  Statement(s);\n",
    "}\n",
    "```\n",
    "\n",
    "To control how many times the statement(s) is(are) repeated, the `for` loop uses a loop variable which is initialized in the `initialize` part of the loop, incremented (or decremented) in the `increment` part. The `test` part is a boolean expression (or a condition) that when `true` allows the loop to continue and when `false` terminates it."
   ]
  },
  {
   "cell_type": "markdown",
   "metadata": {},
   "source": [
    "## The `while` loop\n",
    "The `while` loop is the most general loop of all three. It takes the following form:\n",
    "\n",
    "```c++\n",
    "// For repeating a single statement\n",
    "while(test)\n",
    "  Statement;\n",
    "```\n",
    "or\n",
    "```c++\n",
    "// For repeating one or more statements\n",
    "while(test){\n",
    "  Statement(s);\n",
    "}\n",
    "```\n",
    "\n",
    "It keeps running until the test condition is `false`. Here are a few example `while` loops. Compare these examples to those of the `for` loop."
   ]
  },
  {
   "cell_type": "markdown",
   "metadata": {},
   "source": [
    "## The `do-while` loop\n",
    "This loop is similar to the `while` loop with one exception: it guarantees that its statement(s) will run at least once. It takes the following form:\n",
    "\n",
    "```c++\n",
    "// For repeating a single statement\n",
    "do \n",
    "  Statement;\n",
    "while(condition);\n",
    "```\n",
    "or\n",
    "\n",
    "```c++\n",
    "// For repeating one or more statements\n",
    "do{\n",
    "  Statement(s);\n",
    "} while(test);\n",
    "```\n",
    "Here are a few example `do-while` loops. Again compare these examples to those of the `while` and the `for` loops."
   ]
  },
  {
   "cell_type": "markdown",
   "metadata": {},
   "source": [
    "### Using `setw` to organize output into tables\n",
    "The code cell below attempts to generate a data table like this:\n",
    "\n",
    "| x | 2 * x | 3 * x | 4 * x | 5 * x |\n",
    "| - | ----- | ----- | ----- | ----- |\n",
    "| 1 | 2     | 3     | 4     | 5     |\n",
    "| 2 | 4     | 6     | 8     | 10    |\n",
    "| 3 | 6     | 9     | 12    | 15    |\n",
    "| 4 | 8     | 12    | 16    | 20    |\n",
    "| 5 | 10    | 15    | 20    | 25    |"
   ]
  },
  {
   "cell_type": "code",
   "execution_count": null,
   "metadata": {},
   "outputs": [],
   "source": [
    "cout << \"x\" << \"2*x\" << \"3*x\" << \"4*x\" << \"5*x\" << endl;\n",
    "for(int x = 1; x <= 5; x++){\n",
    "  cout << x;\n",
    "  for(int y = 2; y <= 5; y++){\n",
    "      cout << x * y;\n",
    "  }\n",
    "  \n",
    "  cout << endl;\n",
    "}"
   ]
  },
  {
   "cell_type": "markdown",
   "metadata": {},
   "source": [
    "The output above has the correct data; but it does not look like a table; it lacks the proper spacing. Instead of spacing the data manually, we can use `setw` to do that. All we have to do is:\n",
    "* include the `<iomanip>` header file\n",
    "* determine the width of each column by coming up with width numbers that we think would make the table look nice\n",
    "* call `setw` before displaying any text or number and pass it the width of the column that text or number belongs to\n",
    "\n",
    "By doing this, `setw` will take care of the spacing for us. Here the same code as before but with `setw`."
   ]
  },
  {
   "cell_type": "code",
   "execution_count": null,
   "metadata": {},
   "outputs": [],
   "source": [
    "#include <iomanip>\n",
    "cout << setw(4) << \"x\" << setw(6) << \"2*x\" << setw(6) <<\"3*x\" << setw(6) <<\"4*x\" << setw(6) << \"5*x\" << endl;\n",
    "for(int x = 1; x <= 5; x++){\n",
    "  cout << setw(4) << x;\n",
    "  for(int y = 2; y <= 5; y++){\n",
    "      cout << setw(6) << x * y;\n",
    "  }\n",
    "  \n",
    "  cout << endl;\n",
    "}"
   ]
  },
  {
   "cell_type": "markdown",
   "metadata": {},
   "source": [
    "Now, that looks like a table. Notice that we called `setw` before displaying each value and that we passed the column width the value belong to as an argument to `setw`. *In this example, the first column is 4-spaces wide and all the remaining columns are 6-spaces wide each*. Play with different column widths.\n",
    "\n",
    "Notice also how each row in this table has the same number of columns and that we use `endl` to terminate a row."
   ]
  },
  {
   "cell_type": "markdown",
   "metadata": {},
   "source": [
    "## Decisions (conditionals)\n",
    "C++ supports the following three flavors of the `if-else` conditional.\n",
    "\n",
    "## The `if` conditional\n",
    "\n",
    "``` c++\n",
    "// if with a single statement.\n",
    "if(condition)\n",
    "  Statement;\n",
    "```\n",
    "or\n",
    "```c++\n",
    "// if with one or more statements.\n",
    "if(condition){\n",
    "  Statement(s);\n",
    "}\n",
    "```\n",
    "\n",
    "## The `if-else` conditional\n",
    "``` c++\n",
    "// if-else with a single statement.\n",
    "if(condition)\n",
    "  Statement;\n",
    "else\n",
    "  Statement;\n",
    "```\n",
    "or\n",
    "```c++\n",
    "// if-else with one or more statements.\n",
    "if(condition){\n",
    "  Statement(s);\n",
    "}else{\n",
    "  Statement(s);\n",
    "}\n",
    "```\n",
    "## The `if-else-if` conditional\n",
    "``` c++\n",
    "// if-else-if with a single statement.\n",
    "if(condition1)\n",
    "  Statement;\n",
    "else if(condition2)\n",
    "  Statement;\n",
    "else\n",
    "  Statement;\n",
    "```\n",
    "or\n",
    "```c++\n",
    "// if-else-if with one or more statements.\n",
    "if(condition1){\n",
    "  Statement(s);\n",
    "}else if(condition2){\n",
    "  Statement(s);\n",
    "}else{\n",
    "  Statement(s);\n",
    "}\n",
    "```\n",
    "\n",
    "Here is an example of finding the minimum of two entered numbers."
   ]
  },
  {
   "cell_type": "code",
   "execution_count": null,
   "metadata": {},
   "outputs": [],
   "source": [
    "double a, b;\n",
    "cout << \"Enter two decimal members: \";\n",
    "cin >> a >> b;\n",
    "\n",
    "if(a > b){\n",
    "  cout << \"Minimum: \" << b << endl;\n",
    "}else{\n",
    "  cout << \"Minimum: \" << a << endl;\n",
    "}"
   ]
  },
  {
   "cell_type": "markdown",
   "metadata": {},
   "source": [
    "And if we want to display the results in a table-like format like:\n",
    "\n",
    "|  a  |  b  | Minimum |\n",
    "| --- | --- | ------- |\n",
    "| 4.5 | 3.9 | 3.9     |\n",
    "\n",
    "we use `setw` like this:"
   ]
  },
  {
   "cell_type": "code",
   "execution_count": null,
   "metadata": {},
   "outputs": [],
   "source": [
    "cout << \"Enter two decimal members: \";\n",
    "cin >> a >> b;\n",
    "\n",
    "cout << setw(9) << \"a\" << setw(9) << \"b\" << setw(12) << \"Minimum\" << endl;\n",
    "cout << setw(9) << a << setw(9) << b;\n",
    "if(b > a){\n",
    "  cout << setw(12) << a << endl;\n",
    "}else{\n",
    "  cout << setw(12) << b << endl;\n",
    "}"
   ]
  }
 ],
 "metadata": {
  "kernelspec": {
   "display_name": "C++14",
   "language": "C++14",
   "name": "xcpp14"
  },
  "language_info": {
   "codemirror_mode": "text/x-c++src",
   "file_extension": ".cpp",
   "mimetype": "text/x-c++src",
   "name": "c++",
   "version": "14"
  }
 },
 "nbformat": 4,
 "nbformat_minor": 2
}
