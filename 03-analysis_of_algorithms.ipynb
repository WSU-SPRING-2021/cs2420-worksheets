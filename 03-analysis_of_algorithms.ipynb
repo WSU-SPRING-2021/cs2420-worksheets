{
 "cells": [
  {
   "cell_type": "markdown",
   "metadata": {},
   "source": [
    "### Learning Objectives\n",
    "* To define what analysis of algorithm.\n",
    "* To measure algorithm time by counting dominating operations.\n",
    "* To express algorithm times using the **Big-O** notation.\n",
    "\n",
    "### Instructions\n",
    "Read and study the following sections, run their code examples and solve their challenges. This worksheet has the following challenges:\n",
    "* [CHALLENGE 01](#ch01)\n",
    "* [CHALLENGE 02](#ch02)\n",
    "* [CHALLENGE 03](#ch03)\n",
    "\n",
    "Run your coding challenges and fix any errors they might have before downloading and submitting your completed worksheet for grading. When done, open the menu **File >> Download as >> HTML (.html)** to download your worksheet in HTML format. **Submit the downloaded *.html* file via Canvas**.\n",
    "\n",
    "# Analysis of algorithms\n",
    "Often we have more than one way to solve a problem. Each one of these ways is called **an algorithm** which is simply a precise set of instructions to solve a problem. How do we then compare between two algorithms solving the same problem and determine which one is better?\n",
    "\n",
    "Answering this question is at the core of what analysis of algorithms is.  To start, let's identify the attributes or quantities that we can measure and use to describe algorithms. There are many quantities to list including but not limited to:\n",
    "\n",
    "* the programming language used\n",
    "* how many lines of code\n",
    "* the time it takes to run the algorithm\n",
    "* the space (in memory) it requires to run \n",
    "\n",
    "Because algorithms are language-agnostic, we consider only the time and space. There is also the size of the input the algorithm runs on that needs also to be considered. This is because efficient algorithms (in terms of time and/or space) running on small input might not be so efficient when running on large input.\n",
    "\n",
    "To summarize, we analyze an algorithm by considering its time and space as functions of its input size. Such analysis is important for many reasons:\n",
    "\n",
    "* To have a way of predicting the performance of an algorithm \n",
    "* To compare two or more algorithms\n",
    "* To provide guarantees that a particular algorithm will not exceed a certain bound \n",
    "* To avoid performance problems\n",
    "\n",
    "But measuring time is not as easy as it may sounds at first. This is because the actual time an algorithm takes to run deffer from one machine to another, and from one compiler to another, and from one operating system to another. We need to abstract all these differences away and be able to **use time without actually measuring time**. \n",
    "\n",
    "So we use a **theoretical (computer) model** where every single operation takes the same unit of time to run and where the overall time of an algorithm is calculated by counting how many operations are performed based on the given input. The number of operations performed by the algorithm would then be the same on any computer. \n",
    "\n",
    "In other words,  using this model reduces measuring the time an algorithm takes to run to counting the number of operations performed by it.\n",
    "\n",
    "It also turns out that we only need to approximate the operation counts and not be exact. Such approximation gives us the ability to study the time and/or space behavior of an algorithm as a function of its input without getting bogged down with the details of exact counting. And the key to this approximation is the fact that in algorithms certain operations are dominant. For example, in an algorithm that adds numbers, addition is the dominating operation, which in a search algorithm, comparison is the dominating operation. Similarly, in a matrix multiplication algorithm which involves addition and multiplication, multiplication is the dominating operation. \n",
    "\n",
    "When analyzing algorithms, we only need to identify the dominating operations and count them; the other operations can be ignored. \n",
    "\n",
    "## Example: Gift delivery\n",
    "There is a Gift Shop and n households to deliver to separated by 1 mile from each other and arranged in the following order:\n",
    "\n",
    "GS......1......2......3......4......    ......n "
   ]
  },
  {
   "cell_type": "code",
   "execution_count": null,
   "metadata": {},
   "outputs": [],
   "source": [
    "#include <iostream>\n",
    "using namespace std;"
   ]
  },
  {
   "cell_type": "code",
   "execution_count": null,
   "metadata": {
    "scrolled": true
   },
   "outputs": [],
   "source": [
    "void travel(int to, int back, int& distance){\n",
    "  distance += to + back;\n",
    "}"
   ]
  },
  {
   "cell_type": "markdown",
   "metadata": {},
   "source": [
    "We have two algorithms for gift delivery:\n",
    "\n",
    "### Algorithm 1\n",
    "* Use one driver\n",
    "* Driver carries n gifts and travels from GS to 1 and delivers\n",
    "* Driver then travel from 1 to 2 and delivers\n",
    "* Driver repeats this until n is reached\n",
    "* Driver travels back from n to GS"
   ]
  },
  {
   "cell_type": "code",
   "execution_count": null,
   "metadata": {},
   "outputs": [],
   "source": [
    "// Algorithm 1\n",
    "// GS-->1-->2-->...-->n\n",
    "// ^                  |\n",
    "// |                  |\n",
    "// +------------------+\n",
    "void algorithm1(int n, int& distance){\n",
    "  distance = 0;\n",
    "  for(int i = 0; i < n; i++){\n",
    "    travel(1, 0, distance);\n",
    "  }\n",
    "  travel(0, n, distance);\n",
    "}"
   ]
  },
  {
   "cell_type": "markdown",
   "metadata": {},
   "source": [
    "### <a id=\"ch01\">CHALLENGE 01</a>\n",
    "Give a formula $D(n)$ for the total distance traveled by `algorithm1` as a function of $n$."
   ]
  },
  {
   "cell_type": "raw",
   "metadata": {},
   "source": [
    "// Answer goes here"
   ]
  },
  {
   "cell_type": "markdown",
   "metadata": {},
   "source": [
    "### Algorithm 2\n",
    "* Uses one driver\n",
    "* Driver carries one gift and travels from GS to 1 and then back to GS\n",
    "* Driver carries another gift and travels from GS to 2 and then back to GS\n",
    "* Driver repeats this until how n is reached."
   ]
  },
  {
   "cell_type": "code",
   "execution_count": null,
   "metadata": {},
   "outputs": [],
   "source": [
    "// Algorithm 2\n",
    "// +------------------+\n",
    "// |                  |\n",
    "// +--------+         |\n",
    "// |        |         |\n",
    "// |        v         v\n",
    "// GS-->1   2   ...   n\n",
    "// ^    |   |         |\n",
    "// |    |   |         |\n",
    "// +----+---+---------+\n",
    "\n",
    "void algorithm2(int n, int& distance){\n",
    "  distance = 0;\n",
    "  for(int i = 1; i <= n; i++){\n",
    "    travel(i, i, distance);\n",
    "  }\n",
    "}"
   ]
  },
  {
   "cell_type": "markdown",
   "metadata": {},
   "source": [
    "### <a id=\"ch02\">CHALLENGE 02</a>\n",
    "Give a formula $D(n)$ for the total distance traveled by `algorithm2` as a function of $n$."
   ]
  },
  {
   "cell_type": "raw",
   "metadata": {},
   "source": [
    "// Answer goes here"
   ]
  },
  {
   "cell_type": "markdown",
   "metadata": {},
   "source": [
    "### Running and comparing `algorithm1` and `algorithm2`\n",
    "Here is a simple program that runs the above algorithms and prints their distances. **Is the outcome consistent with your answers?**"
   ]
  },
  {
   "cell_type": "code",
   "execution_count": null,
   "metadata": {},
   "outputs": [],
   "source": [
    "int distance = 0;\n",
    "int n = 50;\n",
    "  \n",
    "algorithm1(n, distance);\n",
    "cout << \"A1: \" << distance << endl;\n",
    "  \n",
    "distance = 0;\n",
    "algorithm2(n, distance);\n",
    "cout << \"A2: \" << distance << endl;"
   ]
  },
  {
   "cell_type": "markdown",
   "metadata": {},
   "source": [
    "### <a id=\"ch03\">CHALLENGE 03</a>\n",
    "The above implementation of `algorithm1` and `algorithm2` is an example of structured programming. Let's remedy that by rewriting these algorithms using object-oriented programming.\n",
    "\n",
    "\n",
    "In the code cell below, define a C++ class named `GiftDelivery` that implements the above `travel`, `algorithm1` and `algorithm2` as member functions. The class should have two data members `distance` and `n`. It should define a constructor with a single argument for `n` and an empty destructor. It should also have member function named `distanceTraveled` that returns the value of the distance member. In the code cell after that test your class be calling both arguments and printing their reported distances."
   ]
  },
  {
   "cell_type": "code",
   "execution_count": null,
   "metadata": {},
   "outputs": [],
   "source": [
    "// Define class GiftDelivery here"
   ]
  },
  {
   "cell_type": "code",
   "execution_count": null,
   "metadata": {},
   "outputs": [],
   "source": [
    "// Test class GiftDelivery goes here"
   ]
  },
  {
   "cell_type": "markdown",
   "metadata": {},
   "source": [
    "## The Big-O, $\\Omega$, and $\\Theta$ notations\n",
    "Mathematically we express algorithm time in terms of three asymptotic function notations:\n",
    "\n",
    "**Big-O definition:** We say $T(n)$ is Big-O of $f(n)$ or $T(n) = O(f(n))$ if there are positive constants $c$ and $n_0$ such that $T(n) \\leq cf(n)$ for all $n \\geq n_0$.\n",
    "\n",
    "**Omega Definition:** We say $T(n)$ is omega of $g(n)$ or $T(n) = \\Omega(g(n))$ if there are positive constants $c$ and $n_0$ such that $T(n) \\geq cg(n)$ for all $n \\geq n_0$.\n",
    "\n",
    "**Theta Definition:** We say $T(n)$ is theta of $f(n)$ or $T(n) = \\Theta(f(n))$ if $T(n) = O(f(n))$ and $T(n) = \\Omega(f(n))$.\n",
    "\n",
    "The **Big-O** notation is the most commonly used notation of the three and it represents upper bounds. In other words, as input size grows without bounds, the algorithm time will not exceed the **Big-O** function.\n",
    "\n",
    "The **Omega** notation represents lower bounds; the time that the algorithm will not go below as the input size grows without bounds.\n",
    "\n",
    "The **Theta** notation represents  tight bounds.\n",
    "\n",
    "All these notations represent growth rates.\n",
    "\n",
    "\n",
    "## Calculating running times\n",
    "Below are examples big-O functions along with the reduction rules we used to calculate them.\n",
    "\n",
    "|$T(n)$       |$O(f(n))$     | Name          | Reduction rule             |\n",
    "|-------------|--------------|---------------|----------------------------|\n",
    "|$1$          |$O(1)$        | constant      |                            |\n",
    "|$logn + 2$  |$O(logn)$        | logarithmic   | Ignore lower terms         |\n",
    "|$n + 10$     |$O(n)$        | linear        | Ignore lower terms         |\n",
    "|$n log n + 3n$|$O(nlogn)$   | linearithmic  | Ignore lower terms         |\n",
    "|$100n^2$     |$O(n^2)$      | quadratic     | Ignore leading constants   |\n",
    "|$7n^3+4n^2+2n+7$ |$O(n^3)$  | cubic | Ignore leading constants and lower terms |\n",
    "|$2^n+n^3$ |$O(2^n)$ | exponential | Ignore leading constants and lower terms |\n",
    "\n"
   ]
  },
  {
   "cell_type": "code",
   "execution_count": null,
   "metadata": {},
   "outputs": [],
   "source": []
  }
 ],
 "metadata": {
  "kernelspec": {
   "display_name": "C++17",
   "language": "C++17",
   "name": "xcpp17"
  },
  "language_info": {
   "codemirror_mode": "text/x-c++src",
   "file_extension": ".cpp",
   "mimetype": "text/x-c++src",
   "name": "c++",
   "version": "-std=c++17"
  }
 },
 "nbformat": 4,
 "nbformat_minor": 2
}
