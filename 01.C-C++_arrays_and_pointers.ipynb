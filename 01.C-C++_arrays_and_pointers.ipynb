{
 "cells": [
  {
   "cell_type": "markdown",
   "metadata": {},
   "source": [
    "### Learning Objectives\n",
    "* To define and use pointers.\n",
    "* To distinguish between references and pointers.\n",
    "* To organize data into arrays.\n",
    "\n",
    "### Instructions\n",
    "Read and study the following sections, run their code examples and solve their challenges. This worksheet has the following challenges:\n",
    "* [CHALLENGE 04](#ch04)\n",
    "\n",
    "Run your coding challenges and fix any errors they might have before downloading and submitting your completed worksheet for grading. When done, open the menu **File >> Download as >> HTML (.html)** to download your worksheet in HTML format. **Submit the downloaded *.html* file via Canvas**."
   ]
  },
  {
   "cell_type": "code",
   "execution_count": 1,
   "metadata": {},
   "outputs": [],
   "source": [
    "#include <iostream>\n",
    "using namespace std;"
   ]
  },
  {
   "cell_type": "markdown",
   "metadata": {},
   "source": [
    "# Arrays\n",
    "\n",
    "In the real world, we often group values of the same type into lists or arrays, and the elements in these arrays are then accessed by their ordered places (or indices) in these arrays. C++ allows us to define arrays using the square brackets `[]`. Here are some examples.\n"
   ]
  },
  {
   "cell_type": "code",
   "execution_count": 2,
   "metadata": {},
   "outputs": [],
   "source": [
    "int oddNumbers[10];\n",
    "double bets[100];\n",
    "string tweets[12];"
   ]
  },
  {
   "cell_type": "markdown",
   "metadata": {},
   "source": [
    "In all of these definitions, one must specify the size of the array (the number of elements in it) ahead of time. This is why these arrays are described as **static**; the compiler must know exactly how many elements are there before the program runs.\n",
    "\n",
    "If you know what the values of the array are going to be, you can put them separated by commas inside curly braces and use them to initialize the array."
   ]
  },
  {
   "cell_type": "code",
   "execution_count": 3,
   "metadata": {},
   "outputs": [],
   "source": [
    "int primesUnder10[4] = {2, 3, 5, 7};\n",
    "char letterGrades[] = {'A', 'B', 'C', 'D', 'E'};\n",
    "string days[] {  // as of C++11, the = is not required.\n",
    "    \"sun\", \"mon\", \"tue\", \n",
    "    \"wed\", \"thu\", \"fri\", \"sat\" \n",
    "};"
   ]
  },
  {
   "cell_type": "markdown",
   "metadata": {},
   "source": [
    "Notice that the size of the array is not needed when the array is initialized using a brace-enclosed comma-separated list of values, This is because the C++ compiler will be able to get that number by counting the supplied values. "
   ]
  },
  {
   "cell_type": "markdown",
   "metadata": {},
   "source": [
    "## Accessing individual elements\n",
    "\n",
    "To access an individual element inside an array we use **zero-based indexing**. This means that every element in the array is given an index number starting with the value 0 for the first element, 1 for the second and so on. "
   ]
  },
  {
   "cell_type": "code",
   "execution_count": 4,
   "metadata": {},
   "outputs": [
    {
     "name": "stdout",
     "output_type": "stream",
     "text": [
      "2\n",
      "7\n",
      "C\n",
      "B\n"
     ]
    }
   ],
   "source": [
    "int primes[] = { 2, 3, 5, 7 };\n",
    "cout << primes[0] << endl; // first element\n",
    "cout << primes[3] << endl; // fourth element\n",
    "char grades[] = { 'A', 'B', 'C', 'F'}; \n",
    "cout << grades[2] << endl;\n",
    "cout << grades[1] << endl;"
   ]
  },
  {
   "cell_type": "markdown",
   "metadata": {},
   "source": [
    "Trying to access an element outside the bounds of an array is a dangerous thing. Unfortunately, C++ warns us about but does not prevent us from doing that."
   ]
  },
  {
   "cell_type": "markdown",
   "metadata": {},
   "source": [
    "## Iterating over arrays\n",
    "\n",
    "Using indices allows us to iterate over the elements of an array. For example, the following `for` loop displays the elements of the `days` array side by side with their indices (using `setw`, of course)."
   ]
  },
  {
   "cell_type": "code",
   "execution_count": 6,
   "metadata": {},
   "outputs": [
    {
     "name": "stdout",
     "output_type": "stream",
     "text": [
      "Day   Index\n",
      "===========\n",
      "sun       0\n",
      "mon       1\n",
      "tue       2\n",
      "wed       3\n",
      "thu       4\n",
      "fri       5\n",
      "sat       6\n"
     ]
    }
   ],
   "source": [
    "cout << setw(3) << \"Day\" << setw(8) << \"Index\" << endl;\n",
    "cout << \"===========\" << endl;\n",
    "for (int i = 0; i < 7; i++) {\n",
    "    cout << setw(3) << days[i] << setw(8) << i << endl;\n",
    "}"
   ]
  },
  {
   "cell_type": "markdown",
   "metadata": {},
   "source": [
    "## The range-based `for` loop\n",
    "\n",
    "To simplify iterating over arrays, C++11 introduced the range-based `for` loop which is similar to  Java's enhanced for loop. Unlike the \"regular\" `for` loop, it does not use indices. It takes the form:\n",
    "\n",
    "``` c++\n",
    "for (<datatype> <variable> : <array>) {\n",
    "    <statement(s)>\n",
    "}\n",
    "```\n",
    "Here is how simple it is to iterate over the the `days` array. You can read it as **\"for each day in days do something\"**"
   ]
  },
  {
   "cell_type": "code",
   "execution_count": 7,
   "metadata": {},
   "outputs": [
    {
     "name": "stdout",
     "output_type": "stream",
     "text": [
      "Day of week: sun\n",
      "Day of week: mon\n",
      "Day of week: tue\n",
      "Day of week: wed\n",
      "Day of week: thu\n",
      "Day of week: fri\n",
      "Day of week: sat\n"
     ]
    }
   ],
   "source": [
    "for (string day : days) {\n",
    "  cout << \"Day of week: \" << day << endl;\n",
    "}"
   ]
  },
  {
   "cell_type": "markdown",
   "metadata": {},
   "source": [
    "## Arrays of structures\n",
    "Structures can also be grouped into arrays. Given the structures:"
   ]
  },
  {
   "cell_type": "code",
   "execution_count": 8,
   "metadata": {},
   "outputs": [],
   "source": [
    "struct Date {\n",
    "  int day;\n",
    "  int month;\n",
    "  int year;\n",
    "};\n",
    "\n",
    "struct Event {\n",
    "   Date from;\n",
    "   Date to;\n",
    "   string name;\n",
    "};"
   ]
  },
  {
   "cell_type": "markdown",
   "metadata": {},
   "source": [
    "We can define an array of 15 events like this:"
   ]
  },
  {
   "cell_type": "code",
   "execution_count": 9,
   "metadata": {},
   "outputs": [],
   "source": [
    "Event events[15];"
   ]
  },
  {
   "cell_type": "markdown",
   "metadata": {},
   "source": [
    "And we can even use brace-enclosed comma-separated lists to define and initialize arrays of structures like this:"
   ]
  },
  {
   "cell_type": "code",
   "execution_count": 10,
   "metadata": {},
   "outputs": [],
   "source": [
    "Event trips[] = {\n",
    "    { {20, 6, 2019}, {26, 6, 2019}, \"Visit to DC\" },\n",
    "    { {13, 8, 2019}, {21, 8, 2019}, \"Trip to Europe\"}\n",
    "};"
   ]
  },
  {
   "cell_type": "markdown",
   "metadata": {},
   "source": [
    "How do we display these events in a table like this using the range-based `for` loop?\n",
    "\n",
    "| FROM      | TO        | TRIP           |\n",
    "| --------- | --------- | -------------- |\n",
    "| 6/20/2019 | 6/26/2019 | Visit to DC    |\n",
    "| 8/13/2019 | 8/21/2019 | Trip to Europe |"
   ]
  },
  {
   "cell_type": "markdown",
   "metadata": {},
   "source": [
    "Well! Here is one way of doing this. Notice how this example manually inserts spaces in multiple places to make sure the output looks like a table."
   ]
  },
  {
   "cell_type": "code",
   "execution_count": 11,
   "metadata": {},
   "outputs": [
    {
     "name": "stdout",
     "output_type": "stream",
     "text": [
      "FROM      TO        TRIP\n",
      "-----------------------------------\n",
      "6/20/2019 6/26/2019 Visit to DC\n",
      "8/13/2019 8/21/2019 Trip to Europe\n"
     ]
    }
   ],
   "source": [
    "cout << \"FROM      \"  << \"TO        \" << \"TRIP\" << endl;\n",
    "cout << \"-----------------------------------\" << endl;\n",
    "for(Event e : trips){\n",
    "    cout << e.from.month << '/' << e.from.day << '/' << e.from.year << \" \"\n",
    "         << e.to.month << '/' << e.to.day << '/' << e.to.year  << \" \"\n",
    "         << e.name << endl;\n",
    "}"
   ]
  },
  {
   "cell_type": "markdown",
   "metadata": {},
   "source": [
    "# Vectors\n",
    "\n",
    "Arrays in C++ are **static**; their size must be known ahead of time and, once created, they cannot be resized. For **dynamic** arrays, C++ provides vectors.\n",
    "\n",
    "Like arrays, a vector is simply a sequence of elements you access by indexing. Unlike arrays, vectors are dynamic; they expand and shrink as needed and their size need not be known ahead of time.\n",
    " \n",
    "To use vector,\n",
    "* include the `<vector>` header file.\n",
    "* define a vector variable whose data type is the standard class template  `vector` followed by the angle brackets `<>` with the datatype of the elements in between.\n",
    "\n",
    "Here is an example vector of integers."
   ]
  },
  {
   "cell_type": "code",
   "execution_count": 12,
   "metadata": {
    "scrolled": true
   },
   "outputs": [],
   "source": [
    "#include <vector>\n",
    "using namespace std;\n",
    "\n",
    "vector<int> numbers;"
   ]
  },
  {
   "cell_type": "markdown",
   "metadata": {},
   "source": [
    "We can now add elements to this vector using the `push_back` function."
   ]
  },
  {
   "cell_type": "code",
   "execution_count": 13,
   "metadata": {
    "scrolled": true
   },
   "outputs": [
    {
     "name": "stdout",
     "output_type": "stream",
     "text": [
      "Enter integers (or any letter to stop): 4\n",
      "6\n",
      "g\n"
     ]
    }
   ],
   "source": [
    "int input;\n",
    "cout << \"Enter integers (or any letter to stop): \";\n",
    "while(cin >> input){ \n",
    "    numbers.push_back(input); \n",
    "}"
   ]
  },
  {
   "cell_type": "markdown",
   "metadata": {},
   "source": [
    "Having entered these numbers we can use the `at()` function within a `for` loop to iterate over the elements of this vector."
   ]
  },
  {
   "cell_type": "code",
   "execution_count": 14,
   "metadata": {},
   "outputs": [
    {
     "name": "stdout",
     "output_type": "stream",
     "text": [
      "+ 4\n",
      "+ 6\n"
     ]
    }
   ],
   "source": [
    "for(int i = 0; i < numbers.size(); i++){\n",
    "    cout << \"+ \" << numbers.at(i) << endl; \n",
    "}"
   ]
  },
  {
   "cell_type": "markdown",
   "metadata": {},
   "source": [
    "or we could simply use the square brackets `[]` as if it was an array."
   ]
  },
  {
   "cell_type": "code",
   "execution_count": 15,
   "metadata": {},
   "outputs": [
    {
     "name": "stdout",
     "output_type": "stream",
     "text": [
      "- 4\n",
      "- 6\n"
     ]
    }
   ],
   "source": [
    "for(int i = 0; i < numbers.size(); i++){\n",
    "    cout << \"- \" << numbers[i] << endl; \n",
    "}"
   ]
  },
  {
   "cell_type": "markdown",
   "metadata": {},
   "source": [
    "We can also use the range-based `for` loop like this."
   ]
  },
  {
   "cell_type": "code",
   "execution_count": 16,
   "metadata": {
    "scrolled": false
   },
   "outputs": [
    {
     "name": "stdout",
     "output_type": "stream",
     "text": [
      "= 4\n",
      "= 6\n"
     ]
    }
   ],
   "source": [
    "for(int m : numbers){ \n",
    "    cout << \"= \" << m << endl; \n",
    "}"
   ]
  },
  {
   "cell_type": "markdown",
   "metadata": {},
   "source": [
    "# Pointers\n",
    "\n",
    "One of the most powerful and low-level features of C++ is **pointers**, which were inherited from the C language. Put simply a pointer is a variable whose value is a memory address. This means that in C++ actual memory addresses are values that can be assigned to pointer variables. And once you have a memory address you can use it to read or write to the memory location it points to. "
   ]
  },
  {
   "cell_type": "code",
   "execution_count": 17,
   "metadata": {},
   "outputs": [],
   "source": [
    "#include <iostream>\n",
    "#include <iomanip>\n",
    "#include <string>\n",
    "using namespace std;"
   ]
  },
  {
   "cell_type": "markdown",
   "metadata": {},
   "source": [
    "Given these variables:"
   ]
  },
  {
   "cell_type": "code",
   "execution_count": 18,
   "metadata": {},
   "outputs": [],
   "source": [
    "int var1 = 11;\n",
    "int var2 = 22;\n",
    "int var3 = 33;\n",
    "double dvar = 45.78;"
   ]
  },
  {
   "cell_type": "markdown",
   "metadata": {},
   "source": [
    "We can obtain their memory addresses using the **address of operator** `&` like this:"
   ]
  },
  {
   "cell_type": "code",
   "execution_count": 19,
   "metadata": {},
   "outputs": [
    {
     "name": "stdout",
     "output_type": "stream",
     "text": [
      "0x103464fd0\n",
      "0x103464fd4\n",
      "0x103464fd8\n"
     ]
    }
   ],
   "source": [
    "cout << &var1 << endl\n",
    "     << &var2 << endl    \n",
    "     << &var3 << endl;"
   ]
  },
  {
   "cell_type": "markdown",
   "metadata": {},
   "source": [
    "We must not confuse the **address of operator** with references. Both use the ampersand character `&` but: \n",
    "* in the case of the **address of operator**, `&` comes in front of an already defined variable to get its memory address.\n",
    "* in the case of references, `&` follows the data type during the definition of a reference variable."
   ]
  },
  {
   "cell_type": "code",
   "execution_count": 20,
   "metadata": {},
   "outputs": [
    {
     "name": "stdout",
     "output_type": "stream",
     "text": [
      "0x103464fd0\n",
      "11\n"
     ]
    }
   ],
   "source": [
    "int &ref = var1; // Reference\n",
    "cout << &var1 << endl; // Address of\n",
    "cout << ref << endl;"
   ]
  },
  {
   "cell_type": "markdown",
   "metadata": {},
   "source": [
    "As stated above, a pointer is a variable whose value is a memory address. We use the asterisk `*` operator to define pointers. For example:"
   ]
  },
  {
   "cell_type": "code",
   "execution_count": 21,
   "metadata": {},
   "outputs": [],
   "source": [
    "int *iptr; // A pointer to a location that holds an integer\n",
    "double* dptr; // A pointer to a location that holds a double\n",
    "char * ptr; // A pointer to a location that holds a character"
   ]
  },
  {
   "cell_type": "markdown",
   "metadata": {},
   "source": [
    "The above pointers are not initialized yet. It’s extremely important that a pointer is initialized before it is used. That could happen by assigning the pointer the address of an existing variable using the **address of operator**. "
   ]
  },
  {
   "cell_type": "code",
   "execution_count": 22,
   "metadata": {},
   "outputs": [],
   "source": [
    "iptr = &var1;\n",
    "dptr = &dvar;"
   ]
  },
  {
   "cell_type": "markdown",
   "metadata": {},
   "source": [
    "The general rule of thumb is that a pointer must always point to a valid memory location or is assigned the `nullptr` value. The above `ptr` pointer has nowhere to point to, so it should be initialized to `nullptr`."
   ]
  },
  {
   "cell_type": "code",
   "execution_count": 23,
   "metadata": {},
   "outputs": [],
   "source": [
    "ptr = nullptr;"
   ]
  },
  {
   "cell_type": "markdown",
   "metadata": {},
   "source": [
    "The keyword `nullptr` was added by C++11 and it should be used instead of the C constant `NULL` you might see in legacy C++ code.\n",
    "\n",
    "Once we have a pointer, we can use the asterisk `*` as a **dereference operator** in front of the pointer to retrieve or change the actual value it points to. For example, having `cptr` point to `choice`, we can use `*cptr` to print and change the value of `choice`."
   ]
  },
  {
   "cell_type": "code",
   "execution_count": 24,
   "metadata": {},
   "outputs": [
    {
     "name": "stdout",
     "output_type": "stream",
     "text": [
      "A\n",
      "Z"
     ]
    }
   ],
   "source": [
    "char choice = 'A';\n",
    "char *cptr = &choice;\n",
    "\n",
    "cout << *cptr << endl;\n",
    "*cptr = 'Z';\n",
    "cout << choice;"
   ]
  },
  {
   "cell_type": "markdown",
   "metadata": {},
   "source": [
    "You might ask why we need pointers if we can use variables instead to read and write to memory. The answer to that is:\n",
    "* Variables are good when you know how much memory your program needs ahead of time, but most often we don't know that, and we need the ability to request memory from the operating system dynamically. Pointers are the only way to do that. \n",
    "* Pointers are critical to implementing certain C++ facilities like arrays.\n",
    "* Pointers can be used for passing arguments to functions."
   ]
  },
  {
   "cell_type": "markdown",
   "metadata": {},
   "source": [
    "## Passing arguments by pointer\n",
    "Pointers are also used to efficiently pass large data to functions. Functions with pointer parameters such as the `centimizeByPtr` function here is said to be **passing arguments by pointer**. This is similar to passing by reference in the sense that the original value is accessible from the function and if the function changes that value, that change is seen by the calling program. Here is an example with the three ways of passing arguments to functions side by side: \n",
    "* by value, \n",
    "* by reference, and \n",
    "* by pointer."
   ]
  },
  {
   "cell_type": "code",
   "execution_count": 25,
   "metadata": {
    "scrolled": true
   },
   "outputs": [],
   "source": [
    "double centimizeByVal(double len){ \n",
    "    return len * 2.54; \n",
    "}"
   ]
  },
  {
   "cell_type": "code",
   "execution_count": 26,
   "metadata": {},
   "outputs": [],
   "source": [
    "void centimizeByRef(double& len){ \n",
    "    len = len * 2.54; \n",
    "}"
   ]
  },
  {
   "cell_type": "code",
   "execution_count": 27,
   "metadata": {},
   "outputs": [],
   "source": [
    "void centimizeByPtr(double* len){ \n",
    "    *len = *len * 2.54; \n",
    "}"
   ]
  },
  {
   "cell_type": "markdown",
   "metadata": {},
   "source": [
    "Here is an example of using these functions:"
   ]
  },
  {
   "cell_type": "code",
   "execution_count": 28,
   "metadata": {},
   "outputs": [
    {
     "name": "stdout",
     "output_type": "stream",
     "text": [
      "11\n",
      "27.94\n",
      "11\n",
      "\n",
      "27.94\n",
      "\n",
      "12\n",
      "30.48\n"
     ]
    }
   ],
   "source": [
    "double n = 11;\n",
    "cout << n << endl;\n",
    "cout << centimizeByVal(n) << endl << n << \"\\n\\n\";\n",
    "\n",
    "centimizeByRef(n);\n",
    "cout << n << endl;\n",
    "\n",
    "n = 12; cout << \"\\n\" << n << endl;\n",
    "centimizeByPtr(&n);\n",
    "cout << n << endl;"
   ]
  },
  {
   "cell_type": "markdown",
   "metadata": {},
   "source": [
    "The rule of thumb here is to use:\n",
    "* passing by value for simple arguments (integers, characters, booleans, floats, and doubles)\n",
    "* passing by pointer for arrays. Remember: array names are themselves pointers.\n",
    "* passing by reference or by pointer for complex arguments (strings, objects, structures, and so on)\n",
    "* and given a choice between by reference and by pointer, choose by reference because references are safer that pointers."
   ]
  },
  {
   "cell_type": "markdown",
   "metadata": {},
   "source": [
    "Here is an example of passing an array to a function by pointer. Notice how the function `swapValues2` is defined to receive a pointer but is passed an array during testing."
   ]
  },
  {
   "cell_type": "code",
   "execution_count": 29,
   "metadata": {},
   "outputs": [],
   "source": [
    "// Definition\n",
    "void swapValues2(int* ptr){\n",
    " int temp = *ptr;\n",
    " *ptr = *(ptr + 1);\n",
    " *(ptr + 1) = temp;\n",
    "}"
   ]
  },
  {
   "cell_type": "code",
   "execution_count": 30,
   "metadata": {},
   "outputs": [
    {
     "name": "stdout",
     "output_type": "stream",
     "text": [
      "Initially:\n",
      "11, 17\n",
      "After swapValues2:\n",
      "17, 11\n"
     ]
    }
   ],
   "source": [
    "// Testing\n",
    "int vals[] = {11, 17};\n",
    "\n",
    "cout << \"Initially:\" << endl;\n",
    "cout << *vals << \", \" << *(vals + 1) << endl;\n",
    "\n",
    "swapValues2(vals);\n",
    "cout << \"After swapValues2:\" << endl;\n",
    "cout << *vals << \", \" << *(vals + 1) << endl;"
   ]
  },
  {
   "cell_type": "markdown",
   "metadata": {},
   "source": [
    "## Memory management\n",
    "When a program is loaded into memory, that memory is organized into three segments: \n",
    "* the text segment is where the actual executable program code is loaded,\n",
    "* the stack segment is where local variables are allocated, and\n",
    "* finally the heap segment, where global variables and dynamic memory are allocated.\n",
    "\n",
    "And all the variables we've seen so far have been local variables created inside functions, whether it's the main function or other functions. These variables are known to the compiler before the program runs and are allocated in the stack segment. Stack variables are limited by the fact that the sizes of their memory footprints must be known before the program runs. They, however, have the advantage of automatic memory management which means we don't need to worry about cleaning up after them.\n",
    "\n",
    "Here are some examples of stack variables."
   ]
  },
  {
   "cell_type": "code",
   "execution_count": 31,
   "metadata": {},
   "outputs": [],
   "source": [
    "#include <vector>\n",
    "int xvar;\n",
    "string msg = \"Good morning!\";\n",
    "double scores[100];\n",
    "vector<char> choices;"
   ]
  },
  {
   "cell_type": "markdown",
   "metadata": {},
   "source": [
    "But often it is not easy, or even possible, for a program to know how much memory it will need before it runs. These programs require the ability to request memory dynamically at run-time. C++ gives us the keyword `new` to do that. This **new operator** allocates memory dynamically by requesting it from the operating system and returns a pointer to it.\n",
    "\n",
    "However, these dynamically allocated memory locations are not automatically returned to the operating system when the program is done with them. It's up to us the programmers to do that or risk leaking memory. For cleaning up after these dynamically allocated memory locations, C++ provides us with the keyword `delete`. \n",
    "\n",
    "Here is an example of dynamically allocating memory for a double variable using the `new` operator and returning it back to the operating system using the `delete` operator."
   ]
  },
  {
   "cell_type": "code",
   "execution_count": 32,
   "metadata": {},
   "outputs": [
    {
     "name": "stdout",
     "output_type": "stream",
     "text": [
      "Enter score:\n",
      "56\n",
      "The entered score is 56 is stored at 0x7ff240d8d5e0\n"
     ]
    }
   ],
   "source": [
    "double* score = new double;\n",
    "\n",
    "cout << \"Enter score:\" << endl;\n",
    "cin >> *score;\n",
    "\n",
    "cout << \"The entered score is \" << *score << \" is stored at \" << score << endl;\n",
    "\n",
    "// Cleaning after score\n",
    "delete score;"
   ]
  },
  {
   "cell_type": "markdown",
   "metadata": {},
   "source": [
    "The above example uses the `new` and `delete` operators to allocates and clean up after a single value. What if we want a big memory chunk that accommodates an array of values? Well, C++ provides the `new[]` and `delete[]` operators for that. Here is an example of allocating memory for 5 integers, reading the values of those integers from the keyboard, printing them, and finally returning their allocated memory back to the operating system."
   ]
  },
  {
   "cell_type": "code",
   "execution_count": 33,
   "metadata": {
    "scrolled": true
   },
   "outputs": [
    {
     "name": "stdout",
     "output_type": "stream",
     "text": [
      "Enter number 1: 4\n",
      "Enter number 2: 5\n",
      "Enter number 3: 6\n",
      "Enter number 4: 7\n",
      "Enter number 5: 5\n",
      "   INDEX    NUMBER\n",
      "       0         4\n",
      "       1         5\n",
      "       2         6\n",
      "       3         7\n",
      "       4         5\n"
     ]
    }
   ],
   "source": [
    "int *nums = new int[5];\n",
    "\n",
    "for(int i = 0; i < 5; i++){\n",
    "    cout << \"Enter number \"<< i + 1 << \": \";\n",
    "    cin >> nums[i];\n",
    "}\n",
    "\n",
    "cout << setw(8) << \"INDEX\" << setw(10) << \"NUMBER\" << endl;\n",
    "for(int i = 0; i < 5; i++){\n",
    "    cout << setw(8) << i << setw(10) << nums[i] << endl;\n",
    "}\n",
    "// Clean after numbers; return them to the OS\n",
    "delete[] nums;"
   ]
  },
  {
   "cell_type": "markdown",
   "metadata": {},
   "source": [
    "And once an object or array is deleted, it's considered trash and must not be used again."
   ]
  },
  {
   "cell_type": "markdown",
   "metadata": {},
   "source": [
    "## The arrow `->` operator\n",
    "\n",
    "The above `new`, `new[]`, `delete`, and `delete[]` operators work the same for structures and classes. For example, given the following structure:"
   ]
  },
  {
   "cell_type": "code",
   "execution_count": 34,
   "metadata": {},
   "outputs": [],
   "source": [
    "struct Time {\n",
    "    int hrs;\n",
    "    int min;\n",
    "    int sec; \n",
    "};"
   ]
  },
  {
   "cell_type": "markdown",
   "metadata": {},
   "source": [
    "We can create a dynamically allocated structure object using the `new` operator like this."
   ]
  },
  {
   "cell_type": "code",
   "execution_count": 35,
   "metadata": {},
   "outputs": [],
   "source": [
    "Time *t = new Time;"
   ]
  },
  {
   "cell_type": "markdown",
   "metadata": {},
   "source": [
    "And because `t` is a pointer, we can use the **dereference operator** `*` to access the actual structure object and make changes to it."
   ]
  },
  {
   "cell_type": "code",
   "execution_count": 36,
   "metadata": {},
   "outputs": [
    {
     "name": "stdout",
     "output_type": "stream",
     "text": [
      "11:45:17\n"
     ]
    }
   ],
   "source": [
    "(*t).hrs = 11;\n",
    "(*t).min = 45;\n",
    "(*t).sec = 17;\n",
    "\n",
    "cout << (*t).hrs << \":\" << (*t).min << \":\" << (*t).sec << endl;"
   ]
  },
  {
   "cell_type": "markdown",
   "metadata": {},
   "source": [
    "But having to keep typing `(*t)` every time we want to access the structure value is too much. So C++ provides a better alternative called the arrow `->` operator which allows us to rewrite the above code as:"
   ]
  },
  {
   "cell_type": "code",
   "execution_count": 37,
   "metadata": {},
   "outputs": [
    {
     "name": "stdout",
     "output_type": "stream",
     "text": [
      "11:45:17\n"
     ]
    }
   ],
   "source": [
    "t->hrs = 11;\n",
    "t->min = 45;\n",
    "t->sec = 17;\n",
    "\n",
    "cout << t->hrs << \":\" << t->min << \":\" << t->sec << endl;"
   ]
  },
  {
   "cell_type": "markdown",
   "metadata": {},
   "source": [
    "which is much cleaner. Just remember that the arrow `->` can only be used after pointers to structure and/or class objects.\n",
    "\n",
    "To return the allocated memory back to the operating system we run:"
   ]
  },
  {
   "cell_type": "code",
   "execution_count": 38,
   "metadata": {},
   "outputs": [],
   "source": [
    "delete t;"
   ]
  },
  {
   "cell_type": "markdown",
   "metadata": {},
   "source": [
    "### <a id=\"ch04\">CHALLENGE 04</a>\n",
    "Define a float pointer and use the `new` operator to allocate memory for it. Prompt the user to enter a value for it and print the entered value. When done clean up after it using the `delete` operator."
   ]
  }
 ],
 "metadata": {
  "kernelspec": {
   "display_name": "C++14",
   "language": "C++14",
   "name": "xcpp14"
  },
  "language_info": {
   "codemirror_mode": "text/x-c++src",
   "file_extension": ".cpp",
   "mimetype": "text/x-c++src",
   "name": "c++",
   "version": "14"
  }
 },
 "nbformat": 4,
 "nbformat_minor": 2
}
