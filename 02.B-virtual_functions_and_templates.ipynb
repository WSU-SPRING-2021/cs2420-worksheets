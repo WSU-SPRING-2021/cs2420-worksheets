{
 "cells": [
  {
   "cell_type": "markdown",
   "metadata": {},
   "source": [
    "### Learning Objectives\n",
    "* To define virtual functions.\n",
    "* To define template classes.\n",
    "\n",
    "### Instructions\n",
    "Read and study the following sections, run their code examples and solve their challenges. This worksheet has the following challenges:\n",
    "* [CHALLENGE 02](#ch02)\n",
    "\n",
    "Run your coding challenges and fix any errors they might have before downloading and submitting your completed worksheet for grading. When done, open the menu **File >> Download as >> HTML (.html)** to download your worksheet in HTML format. **Submit the downloaded *.html* file via Canvas**."
   ]
  },
  {
   "cell_type": "markdown",
   "metadata": {},
   "source": [
    "# Virtual Functions\n",
    "\n",
    "In addition to encapsulation and inheritance, **polymorphism** is the third principle of object-oriented programming. It means multiple forms. and it is supported by C++ at both compile-time and run-time. At compile-time, we can think of function overloading and operator overloading as forms of polymorphism, where the same function name or operator is used to mean and do different things in different contexts. At run-time polymorphism is achieved by combining inheritance and **virtual functions**.\n",
    "\n",
    "Generally speaking **virtual** means existing in appearance but not in reality. In c++, a **virtual function** is a member function declared at the base class and redefined (or overridden) by a derived class. When this happens, the derived class will have access to two functions with the same name and signature: one provided by the base class and the other by the derived class itself. When a **virtual function** is called, the compiler defers deciding on which function definition to use until run-time. We call this **late binding** which is different from the **early binding** utilized by non-virtual functions.\n",
    "\n",
    "To understand **virtual functions** and the difference between **early binding** and **late binding**, let's look at an example. First here is our base class:"
   ]
  },
  {
   "cell_type": "code",
   "execution_count": 1,
   "metadata": {},
   "outputs": [],
   "source": [
    "#include <iostream>\n",
    "using namespace std;\n",
    "\n",
    "class Base {\n",
    "public:\n",
    "    void show() { cout << \"Base\\n\"; }\n",
    "};"
   ]
  },
  {
   "cell_type": "markdown",
   "metadata": {},
   "source": [
    "Next let's create two \"regular\" classes that derive from it. Both of these classes override the `show()` function. No `virtual` functions yet."
   ]
  },
  {
   "cell_type": "code",
   "execution_count": 2,
   "metadata": {},
   "outputs": [],
   "source": [
    "class Derived1 : public Base {\n",
    "public:\n",
    "    void show() { cout << \"Derived 1\\n\"; }\n",
    "};\n",
    "\n",
    "class Derived2 : public Base {\n",
    "public:\n",
    "    void show() { cout << \"Derived 2\\n\"; }\n",
    "};"
   ]
  },
  {
   "cell_type": "markdown",
   "metadata": {},
   "source": [
    "Using these classes, we can create the following objects:"
   ]
  },
  {
   "cell_type": "code",
   "execution_count": 3,
   "metadata": {
    "scrolled": true
   },
   "outputs": [],
   "source": [
    "Derived1 dr1; \n",
    "Derived2 dr2_1, dr2_2;"
   ]
  },
  {
   "cell_type": "markdown",
   "metadata": {},
   "source": [
    "Now we call the `show()` functions on these objects and study the output:"
   ]
  },
  {
   "cell_type": "code",
   "execution_count": 4,
   "metadata": {},
   "outputs": [
    {
     "name": "stdout",
     "output_type": "stream",
     "text": [
      "Derived 1\n",
      "Derived 2\n",
      "Derived 2\n"
     ]
    }
   ],
   "source": [
    "dr1.show();\n",
    "dr2_1.show();\n",
    "dr2_2.show();"
   ]
  },
  {
   "cell_type": "markdown",
   "metadata": {},
   "source": [
    "These calls are behaving as expected, with each calling the version of `show()` defined in its own class.\n",
    "\n",
    "Let's now see what happens when `Base` pointers are used."
   ]
  },
  {
   "cell_type": "code",
   "execution_count": 5,
   "metadata": {},
   "outputs": [
    {
     "name": "stdout",
     "output_type": "stream",
     "text": [
      "Base\n",
      "Base\n"
     ]
    }
   ],
   "source": [
    "Base* bptr; \n",
    "bptr = &dr1; \n",
    "bptr->show();\n",
    "bptr = &dr2_1; \n",
    "bptr->show();"
   ]
  },
  {
   "cell_type": "markdown",
   "metadata": {},
   "source": [
    "Here the `show()`  function of the `Base` class is called instead of the ones from the derived classes. This  is inspite of this  pointer `bptr` pointing to a `Derived1` object first and a `Derived2` object after that. This is example of **early binding** with the compiler determining which version of `show()` to use at compile-time based on the type of the pointer, which is `Base`.\n",
    "\n",
    "Let's try the same thing with a `Base` reference:"
   ]
  },
  {
   "cell_type": "code",
   "execution_count": 6,
   "metadata": {},
   "outputs": [
    {
     "name": "stdout",
     "output_type": "stream",
     "text": [
      "Base\n"
     ]
    }
   ],
   "source": [
    "Base& bref = dr2_2;\n",
    "bref.show();"
   ]
  },
  {
   "cell_type": "markdown",
   "metadata": {},
   "source": [
    "**Early binding** happens here as well. \n",
    "\n",
    "To enable **late binding** we need to use **virtual functions**. Here is an example of virtual functions starting with the base class:"
   ]
  },
  {
   "cell_type": "code",
   "execution_count": 7,
   "metadata": {},
   "outputs": [],
   "source": [
    "class AnotherBase {\n",
    "public:\n",
    "    virtual void show() { cout << \"Another Base\\n\"; }\n",
    "    virtual ~AnotherBase(){} // Virtual destructor\n",
    "};"
   ]
  },
  {
   "cell_type": "markdown",
   "metadata": {},
   "source": [
    "Notice the use of the keyword `virtual` in front of the `show()` function. This makes this function **virtual** and instructs the compiler to enable **late binding** on it. \n",
    "\n",
    "Notice the adding  of the virtual destructor. The destructor should be maked virtual on any class with one ore more virtual functions. This is to make sure objects of derived classes are destroyed properly. This applies **polymorphism** and **late binding** to object cleanup and makes sure that the correct destructors based on the actual objects are called when objects are deleted. \n",
    "\n",
    "Let's define two derived classes of this base class:"
   ]
  },
  {
   "cell_type": "code",
   "execution_count": 8,
   "metadata": {},
   "outputs": [],
   "source": [
    "class AnotherDerived1 : public AnotherBase {\n",
    "public:\n",
    "    void show() { cout << \"Another Derived 1\\n\"; }\n",
    "};\n",
    "\n",
    "class AnotherDerived2 : public AnotherBase {\n",
    "public:\n",
    "    void show() { cout << \"Another Derived 2\\n\"; }\n",
    "};"
   ]
  },
  {
   "cell_type": "markdown",
   "metadata": {},
   "source": [
    "\n",
    "Notice that we did not use the keyword `virtual` inside these derived class; only inside the base. This is because a function needs only be defined as `virtual` once and in the base class. After that, no matter how many times a it is  inherited, it remains virtual.\n",
    "\n",
    "Let's now see what **virtual functions** do, starting with the following objects:"
   ]
  },
  {
   "cell_type": "code",
   "execution_count": 9,
   "metadata": {},
   "outputs": [],
   "source": [
    "AnotherDerived1 ad1; \n",
    "AnotherDerived2 ad2_1, ad2_2;"
   ]
  },
  {
   "cell_type": "markdown",
   "metadata": {},
   "source": [
    "First, let's call the `show()` function using the **dot operator**."
   ]
  },
  {
   "cell_type": "code",
   "execution_count": 10,
   "metadata": {},
   "outputs": [
    {
     "name": "stdout",
     "output_type": "stream",
     "text": [
      "Another Derived 1\n",
      "Another Derived 2\n",
      "Another Derived 2\n"
     ]
    }
   ],
   "source": [
    "ad1.show();\n",
    "ad2_1.show();\n",
    "ad2_2.show();"
   ]
  },
  {
   "cell_type": "markdown",
   "metadata": {},
   "source": [
    "This worked as expected. Let's see what happens when `Base` pointers are used. "
   ]
  },
  {
   "cell_type": "code",
   "execution_count": 11,
   "metadata": {},
   "outputs": [
    {
     "name": "stdout",
     "output_type": "stream",
     "text": [
      "Another Derived 1\n",
      "Another Derived 2\n"
     ]
    }
   ],
   "source": [
    "AnotherBase* abptr; \n",
    "abptr = &ad1; \n",
    "abptr->show();\n",
    "abptr = &ad2_1; \n",
    "abptr->show();"
   ]
  },
  {
   "cell_type": "markdown",
   "metadata": {},
   "source": [
    "Now the correct `show()` function is called based on the actual object. This is **late binding** in action. \n",
    "\n",
    "Let's try the same thing, but  with a `Base` reference:"
   ]
  },
  {
   "cell_type": "code",
   "execution_count": 12,
   "metadata": {},
   "outputs": [
    {
     "name": "stdout",
     "output_type": "stream",
     "text": [
      "Another Derived 2\n"
     ]
    }
   ],
   "source": [
    "AnotherBase& abref = ad2_2;\n",
    "abref.show();"
   ]
  },
  {
   "cell_type": "markdown",
   "metadata": {},
   "source": [
    "The correct `show()` function is being called and **late binding** worked here as well.\n",
    "\n",
    "To summarize, A **virtual function**:\n",
    "* is a member function that is declared as `virtual' in a base class and redefined (or overridden) by one or more derived classes.\n",
    "* works like a *normal* non-virtual function when accessed by the **dot operator**.\n",
    "* supports **late binding** as opposed to **early binding** when accessed via a pointer or a reference.\n",
    "\n",
    "### <a id=\"ch02\">CHALLENGE 02</a>\n",
    "**PART 1**: Define a class named `Rectangle` with four data members:\n",
    "* two integers x and y for the coordinates of the upper left corner.\n",
    "* two integers width and height for its width and height.\n",
    "\n",
    "This class should have a constructor that takes four arguments one for each of its data members. It should also have a virtual function named `getName()` that returns the string `\"Rectangle\"` and a virtual destructor.\n",
    "\n",
    "**PART 2**: Knowing that a square is a rectangle whose width and height are the same, define a class names `Square` that inherits from `Rectangle` This class should have a constructor that takes three arguments (x, y, and width) and delegates initialization to the `Rectangle` constructor. It should also override the `getName()` function by returning the string `\"Square\"`."
   ]
  },
  {
   "cell_type": "code",
   "execution_count": 13,
   "metadata": {},
   "outputs": [],
   "source": [
    "//TODO: The Rectangle class"
   ]
  },
  {
   "cell_type": "code",
   "execution_count": 14,
   "metadata": {},
   "outputs": [],
   "source": [
    "//TODO: The Square class"
   ]
  },
  {
   "cell_type": "markdown",
   "metadata": {},
   "source": [
    "## Pure functions\n",
    "\n",
    "Finally, there is the notion of **pure virtual functions**, which are defined by having the `= 0` at the end of their prototypes. A **pure virtual function** is a function that has no actual definition within the class that declares it; only the prototype is provided. This makes any class declaring one or more pure function **an abstract class**. which is a class whose implementation is not complete and therefore cannot be used to create objects. \n",
    "\n",
    "Here is an example abstract class."
   ]
  },
  {
   "cell_type": "code",
   "execution_count": 15,
   "metadata": {},
   "outputs": [],
   "source": [
    "class SomeClass {\n",
    "public:\n",
    "    virtual void print() = 0; // a pure function\n",
    "};"
   ]
  },
  {
   "cell_type": "markdown",
   "metadata": {},
   "source": [
    "Having a **pure virtual function** makes this class **abstract**, which means it is not complete (or concrete) and cannot, therefore, be used to create objects. For example, the following statement throws a compilation error. Uncomment it then run it to see these errors."
   ]
  },
  {
   "cell_type": "code",
   "execution_count": 16,
   "metadata": {},
   "outputs": [],
   "source": [
    "// SomeClass sc;"
   ]
  },
  {
   "cell_type": "markdown",
   "metadata": {},
   "source": [
    "To summarize, **abstract classes** are meant to be subclassed or inherited by other classes. Their **pure functions** are like holes that make them incomplete and unfit to be used for creating objects."
   ]
  },
  {
   "cell_type": "markdown",
   "metadata": {},
   "source": [
    "## Another example\n",
    "\n",
    "Let's have a final example that shows how to combine as many of these manipulators as possible. In this example, we have the following structure that represents digital colors. A digital color has three components: red, green, and blue. Each of these components takes a value between 0 and 255. We also define an array of the seven colors of the rainbow."
   ]
  },
  {
   "cell_type": "code",
   "execution_count": 17,
   "metadata": {},
   "outputs": [],
   "source": [
    "struct Color {\n",
    "    int r, g, b;\n",
    "    string name;\n",
    "};\n",
    "\n",
    "Color rainbow[] = {\n",
    "    {255, 0, 0, \"Red\"},\n",
    "    {255, 127, 0, \"Orange\"},\n",
    "    {255, 255, 0, \"Yello\"},\n",
    "    {0, 255, 0, \"Green\"},\n",
    "    {0, 0, 255, \"Blue\"},\n",
    "    {75, 0, 130, \"Indigo\"},\n",
    "    {143, 0, 255, \"Violet\"}\n",
    "};"
   ]
  },
  {
   "cell_type": "markdown",
   "metadata": {},
   "source": [
    "Here is a loop that displays these colors with their decimal and hexadecimal representations in the following format.\n",
    "\n",
    "```text\n",
    "COLOR      DECIMAL(rgb)          HEXADECIMAL(rgb)\n",
    "========== ===================== ================ \n",
    "Red....... 255   0   0 ......... FF 0  0  \n",
    "Orange.... 255 127   0 ......... FF 7F 0  \n",
    "Yello..... 255 255   0 ......... FF FF 0  \n",
    "Green.....   0 255   0 ......... 0  FF 0  \n",
    "Blue......   0   0 255 ......... 0  0  FF \n",
    "Indigo....  75   0 130 ......... 4B 0  82 \n",
    "Violet.... 143   0 255 ......... 8F 0  FF \n",
    "```"
   ]
  },
  {
   "cell_type": "code",
   "execution_count": 18,
   "metadata": {},
   "outputs": [
    {
     "name": "stdout",
     "output_type": "stream",
     "text": [
      "COLOR      DECIMAL(rgb)          HEXADECIMAL(rgb)\n",
      "========== ===================== ================ \n",
      "Red....... 255   0   0 ......... ff 0  0  \n",
      "Orange.... 255 127   0 ......... ff 7f 0  \n",
      "Yello..... 255 255   0 ......... ff ff 0  \n",
      "Green.....   0 255   0 ......... 0  ff 0  \n",
      "Blue......   0   0 255 ......... 0  0  ff \n",
      "Indigo....  75   0 130 ......... 4b 0  82 \n",
      "Violet.... 143   0 255 ......... 8f 0  ff \n"
     ]
    }
   ],
   "source": [
    "\n",
    "cout << left << setw(10) << \"COLOR\" << ' ' << setw(11) \n",
    "     << \"DECIMAL(rgb)\" << setw(10) << ' ' << setw(8) << \"HEXADECIMAL(rgb)\" << endl;\n",
    "cout << right << setfill('=') << setw(11) << \"= \" \n",
    "     << setfill('=') << setw(22) << \"= \" \n",
    "     << setfill('=') << setw(17) << \"= \" << endl;\n",
    "\n",
    "for(Color c : rainbow){\n",
    "    cout << left << setfill('.') << setw(10) << c.name << ' '\n",
    "         << dec << setfill(' ') << right << setw(3) << c.r // Decimal\n",
    "         << right << setw(4) << c.g\n",
    "         << right << setw(4) << c.b << ' '\n",
    "         << hex << setfill('.') << right << setw(10) << ' ' << setfill(' ') <<  left << setw(3) << c.r // Hexadecimal\n",
    "         << setfill(' ') << setw(3) << c.g\n",
    "         << setw(3) << c.b\n",
    "         << endl;\n",
    "}"
   ]
  },
  {
   "cell_type": "markdown",
   "metadata": {},
   "source": [
    "Notice that the color names and the decimal numbers are right-aligned while the hexadecimal numbers are left-aligned.\n"
   ]
  },
  {
   "cell_type": "markdown",
   "metadata": {},
   "source": [
    "# Class templates\n",
    "\n",
    "**Generic programming** in C++ does not stop at **function templates**, it also supports **class templates**. Here is an example using the vector class."
   ]
  },
  {
   "cell_type": "code",
   "execution_count": 19,
   "metadata": {},
   "outputs": [
    {
     "name": "stdout",
     "output_type": "stream",
     "text": [
      "Grade average: 89.4\n"
     ]
    }
   ],
   "source": [
    "vector<double> grades = {89.5, 91.0, 96.25, 75.5, 94.75};\n",
    "double average = 0;\n",
    "for(double grade : grades){\n",
    "    average += grade / grades.size();\n",
    "}\n",
    "\n",
    "cout << \"Grade average: \" << average << endl;"
   ]
  },
  {
   "cell_type": "markdown",
   "metadata": {},
   "source": [
    "Did you notice the angle brackets `<>` after `vector`? That tells us that `vector` is a **class template**. Other class templates that the C++ standard library comes with include `map`, `array`, `queue` and `stack`, to name a few. As a matter of fact, class templates are critical to implementing the classic data structures and algorithms that are the bedrock of computer science.\n",
    "\n",
    "Like function templates, we define class templates using the keyword `template` followed by angle brackets `<>` with one or more type declarations in between; each preceded by the `typename` or `class` keyword. Here is an example class template `A` with a single type argument `T`. "
   ]
  },
  {
   "cell_type": "code",
   "execution_count": 20,
   "metadata": {},
   "outputs": [],
   "source": [
    "template <typename T>\n",
    "class A{\n",
    "public:\n",
    "    A(T a): m(a){}\n",
    "    void show(){\n",
    "        cout << \"My number is: \" << m << endl;\n",
    "    }\n",
    "    ~A(){}\n",
    "private:\n",
    "    T m;\n",
    "};"
   ]
  },
  {
   "cell_type": "markdown",
   "metadata": {},
   "source": [
    "To create an object from a class template, we must provide the type between the angle brackets `<>` as you see here. In other words, the angle brackets `<>` are not optional as was the case with function templates.\n",
    "\n",
    "Here is a program with three different objects of this `A` class: one in the stack and two in the heap using the `new` operator. Because each of these objects has a different type, the compiler will create thee different actual classes from this class template: one for `int`, another for `double` and the last one for `string`."
   ]
  },
  {
   "cell_type": "code",
   "execution_count": 21,
   "metadata": {
    "scrolled": true
   },
   "outputs": [
    {
     "name": "stdout",
     "output_type": "stream",
     "text": [
      "My number is: 38\n",
      "My number is: 44.5\n",
      "My number is: James\n"
     ]
    }
   ],
   "source": [
    "A<int> a(56);\n",
    "a.show();\n",
    "\n",
    "A<double> *b = new A<double>(44.5);\n",
    "b->show();\n",
    "\n",
    "A<string> *n = new A<string>(\"James\");\n",
    "n->show();\n",
    "\n",
    "delete b, n;"
   ]
  },
  {
   "cell_type": "markdown",
   "metadata": {},
   "source": [
    "Here is another class template `BC` with two type arguments followed by two objects of this class."
   ]
  },
  {
   "cell_type": "code",
   "execution_count": 22,
   "metadata": {},
   "outputs": [],
   "source": [
    "template <typename E, typename T>\n",
    "class BC{\n",
    "public:\n",
    "    BC(E b, T c): b(b), c(c){}\n",
    "    void print(){\n",
    "        cout << \"b: \" << b << \", \"\n",
    "             << \"c: \" << c << endl;\n",
    "    }\n",
    "    ~BC(){}\n",
    "private:\n",
    "    E b;\n",
    "    T c;\n",
    "};"
   ]
  },
  {
   "cell_type": "code",
   "execution_count": 23,
   "metadata": {},
   "outputs": [
    {
     "name": "stdout",
     "output_type": "stream",
     "text": [
      "b: a, c: 89.05\n",
      "b: Washington, c: a\n"
     ]
    }
   ],
   "source": [
    "BC<int, double> bc1(10, 89.05);\n",
    "bc1.print();\n",
    "\n",
    "BC<string, short> *bcptr = new BC<string, short>(\"Washington\", 10);\n",
    "bcptr->print();\n",
    "delete bcptr;"
   ]
  },
  {
   "cell_type": "markdown",
   "metadata": {},
   "source": [
    "## Templates with constant type arguments\n",
    "Class templates can have constant type arguments. The template class `array` from the standard library, for example, requires two type arguments to create a static array: the type of the data in the array and size of the array. "
   ]
  },
  {
   "cell_type": "code",
   "execution_count": 24,
   "metadata": {},
   "outputs": [],
   "source": [
    "#include <array>\n",
    "array<int, 2> vals = {11, 17};"
   ]
  },
  {
   "cell_type": "markdown",
   "metadata": {},
   "source": [
    "Here is an example of using constant type arguments to create our `OwnArray`. It has two constructors: a no-argument constructor and a one-argument constructor."
   ]
  },
  {
   "cell_type": "code",
   "execution_count": 25,
   "metadata": {},
   "outputs": [],
   "source": [
    "template <typename T, unsigned short S> \n",
    "class OwnArray { \n",
    "private: \n",
    "    T *data; \n",
    "    int size; \n",
    "public: \n",
    "    OwnArray(): size(S), data(new T[S]){} \n",
    "    OwnArray(T *arr): OwnArray(){\n",
    "        for(int i = 0; i < size; i++){\n",
    "            data[i] = arr[i]; \n",
    "        } \n",
    "    } \n",
    "    void print(){\n",
    "        for (int i = 0; i < size; i++){\n",
    "            cout << \" \" << *(data + i); \n",
    "        }\n",
    "        cout << endl; \n",
    "    } \n",
    "    ~OwnArray(){\n",
    "        delete[] data;\n",
    "    }\n",
    "}; "
   ]
  },
  {
   "cell_type": "markdown",
   "metadata": {},
   "source": [
    "Notice how the one-argument constructor delegates the initialization of the `data` member to the no-argument constructor. Here is an example of using this class:"
   ]
  },
  {
   "cell_type": "code",
   "execution_count": 26,
   "metadata": {},
   "outputs": [
    {
     "name": "stdout",
     "output_type": "stream",
     "text": [
      " mam ma mia\n"
     ]
    }
   ],
   "source": [
    "string arr[] = {\"mam\", \"ma\", \"mia\"};\n",
    "OwnArray<string, 3> oa(arr);\n",
    "oa.print();"
   ]
  },
  {
   "cell_type": "markdown",
   "metadata": {},
   "source": [
    "And like regular classes, we can separate the definition of class template from its implementation. To that we have to repeat the `template <...>` phrase in front of every constructor/function/destructor. Here is the same class template `OwnArray` with separate definition and implementation. "
   ]
  },
  {
   "cell_type": "code",
   "execution_count": 27,
   "metadata": {},
   "outputs": [],
   "source": [
    "template <typename T, unsigned short S> \n",
    "class OwnArray2 { \n",
    "private: \n",
    "    T *data; \n",
    "    int size; \n",
    "public: \n",
    "    OwnArray2(); \n",
    "    OwnArray2(T *arr);\n",
    "    void print(); \n",
    "    ~OwnArray2();\n",
    "}; "
   ]
  },
  {
   "cell_type": "code",
   "execution_count": 28,
   "metadata": {},
   "outputs": [],
   "source": [
    "template <typename T, unsigned short S>\n",
    "OwnArray2<T,S>::OwnArray2(): size(S), data(new T[S]){} "
   ]
  },
  {
   "cell_type": "code",
   "execution_count": 29,
   "metadata": {},
   "outputs": [],
   "source": [
    "template <typename T, unsigned short S>\n",
    "OwnArray2<T,S>::OwnArray2(T *arr): OwnArray2(){\n",
    "    for(int i = 0; i < size; i++){\n",
    "        data[i] = arr[i]; \n",
    "    } \n",
    "} "
   ]
  },
  {
   "cell_type": "code",
   "execution_count": 30,
   "metadata": {},
   "outputs": [],
   "source": [
    "template <typename T, unsigned short S>\n",
    "void OwnArray2<T,S>::print(){\n",
    "    for (int i = 0; i < size; i++){\n",
    "        cout << \" \" << *(data + i); \n",
    "    }\n",
    "    cout << endl; \n",
    "} "
   ]
  },
  {
   "cell_type": "code",
   "execution_count": 31,
   "metadata": {},
   "outputs": [],
   "source": [
    "template <typename T, unsigned short S>\n",
    "OwnArray2<T,S>::~OwnArray2(){\n",
    "    delete[] data;\n",
    "}"
   ]
  },
  {
   "cell_type": "markdown",
   "metadata": {},
   "source": [
    "Here is an example of using his new class template."
   ]
  },
  {
   "cell_type": "code",
   "execution_count": 32,
   "metadata": {},
   "outputs": [
    {
     "name": "stdout",
     "output_type": "stream",
     "text": [
      " mam ma mia\n"
     ]
    }
   ],
   "source": [
    "OwnArray2<string, 3> ob(arr);\n",
    "ob.print();"
   ]
  },
  {
   "cell_type": "markdown",
   "metadata": {},
   "source": [
    "To summarize, function and class templates are very powerful in eliminating code redundancy. They are necessary to implementing many of most commonly used classes in C++ including the vector class."
   ]
  }
 ],
 "metadata": {
  "kernelspec": {
   "display_name": "C++17",
   "language": "C++17",
   "name": "xcpp17"
  },
  "language_info": {
   "codemirror_mode": "text/x-c++src",
   "file_extension": ".cpp",
   "mimetype": "text/x-c++src",
   "name": "c++",
   "version": "17"
  }
 },
 "nbformat": 4,
 "nbformat_minor": 2
}
