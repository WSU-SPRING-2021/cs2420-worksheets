{
 "cells": [
  {
   "cell_type": "markdown",
   "metadata": {},
   "source": [
    "### Learning Objectives\n",
    "* To implement the basic operations on a doubly linked lists\n",
    "* To distinguish stacks from queues\n",
    "* To implement stacks and queues using doubly linked lists\n",
    "\n",
    "### Instructions\n",
    "Read and study the following sections, run their code examples and solve their challenges. This worksheet has the following challenges:\n",
    "* [CHALLENGE 01](#ch01)\n",
    "* [CHALLENGE 02](#ch02)\n",
    "* [CHALLENGE 03](#ch03)\n",
    "\n",
    "Run your coding challenges and fix any errors they might have before downloading and submitting your completed worksheet for grading. When done, open the menu **File >> Download as >> HTML (.html)** to download your worksheet in HTML format. **Submit the downloaded *.html* file via Canvas**.\n",
    "\n",
    "# Doubly linked lists\n",
    "Linked lists where each node has two pointers one to the node before it and the other to the node after it are called **doubly linked lists**. Such lists allow for iterating over nodes from `back` to `front`. \n",
    "\n",
    "Let's see what implementing a doubly linked list looks like compared to the previously implemented singly linked list.\n",
    "\n",
    "## The `node` data structure\n",
    "Let's start with the `Node` data structure."
   ]
  },
  {
   "cell_type": "code",
   "execution_count": null,
   "metadata": {},
   "outputs": [],
   "source": [
    "template<typename T>\n",
    "struct Node {\n",
    "  T info;\n",
    "  Node<T>* next;\n",
    "  Node<T>* prev;\n",
    "\n",
    "  Node(T info): info(info), next(nullptr), prev(nullptr){}\n",
    "  Node(T info, Node<T>* nxt, Node<T>* prv): info(info), next(nxt), prev(prv){}\n",
    "};"
   ]
  },
  {
   "cell_type": "markdown",
   "metadata": {},
   "source": [
    "Here a node consists of three pieces: `info` for storing the actual value of the node, `next` which is a pointer to the next node in the list, and `prev` which is a pointer to the previous node in the list. It's having this `prev` pointer that makes doubly linked lists different from singly linked lists. \n",
    "\n",
    "We now can use this `Node` structure to create the linked list class. \n",
    "\n",
    "## The `List` ADT"
   ]
  },
  {
   "cell_type": "code",
   "execution_count": null,
   "metadata": {},
   "outputs": [],
   "source": [
    "#include <iostream>\n",
    "#include <initializer_list>\n",
    "\n",
    "template<typename T>\n",
    "class List {\n",
    "public:\n",
    "  List(){};\n",
    "  List(const std::initializer_list<T>& lst){\n",
    "    for(auto it = lst.begin(); it != lst.end(); ++it){\n",
    "      add_back(*it);\n",
    "    }\n",
    "  }\n",
    "  List(const List<T>& lst){\n",
    "    auto current = lst.front;\n",
    "    while(current){\n",
    "      add_back(current->info);\n",
    "      current = current->next;\n",
    "    }     \n",
    "  }\n",
    "  List<T>& operator=(const List<T>& lst){\n",
    "    deleteAll();\n",
    "    auto current = lst.front;\n",
    "    while(current){\n",
    "      add_back(current->info);\n",
    "      current = current->next;\n",
    "    }\n",
    "\n",
    "    return *this;      \n",
    "  }\n",
    "    \n",
    "  List<T>& add_back(T info);\n",
    "  List<T>& add_front(T info);\n",
    "  bool add_before(T info, T before);\n",
    "    \n",
    "  bool remove_back();\n",
    "  bool remove_front();\n",
    "  bool remove(T info);\n",
    "    \n",
    "  bool find(T info) {\n",
    "    auto current = front;\n",
    "    while(current){\n",
    "      if(current->info == info){\n",
    "        return true;\n",
    "      }\n",
    "\n",
    "      current = current->next;\n",
    "    }\n",
    "\n",
    "    return false;      \n",
    "  }\n",
    "    \n",
    "  friend std::ostream& operator<<(std::ostream& out, const List<T>& lst){\n",
    "    auto current = lst.front;\n",
    "    out << \"[\" << lst.size << \"]: \";\n",
    "    while(current){\n",
    "      out << current->info << \" \";\n",
    "      current = current->next;\n",
    "    }\n",
    "\n",
    "    return out;\n",
    "  }\n",
    "    \n",
    "  unsigned getSize() const { return size; }\n",
    "  bool empty() const { return size == 0u; }\n",
    "  T peek_front() const { \n",
    "    if(empty()) throw std::runtime_error(\"List is empty\");\n",
    "    return front->info; \n",
    "  }\n",
    "  T peek_back() const { \n",
    "    if(empty()) throw std::runtime_error(\"List is empty\");\n",
    "    return back->info; \n",
    "  }\n",
    "  void clear() { deleteAll(); }\n",
    "  ~List(){ deleteAll(); }\n",
    "    \n",
    "protected:\n",
    "  unsigned size = 0u;\n",
    "  Node<T>* front = nullptr;   \n",
    "  Node<T>* back = nullptr;\n",
    "    \n",
    "  void deleteAll(){\n",
    "    auto current = front;\n",
    "    while(current){\n",
    "      auto tmp = current;\n",
    "      current = current->next;\n",
    "      delete tmp;\n",
    "    }\n",
    "\n",
    "    front = nullptr;\n",
    "    back = nullptr;\n",
    "    size = 0u;\n",
    "  }\n",
    "};"
   ]
  },
  {
   "cell_type": "markdown",
   "metadata": {},
   "source": [
    "This is the same class as the singly linked list we implemented before. The only difference is that when we implement the `add` and `remove` functions, we must set the `prev` pointers of the nodes properly as nodes are added to or removed from the list. \n",
    "\n",
    "## Adding nodes to a doubly linked list\n",
    "There are different ways to add nodes to a linked list. Nodes can be added to the back of the list using the `add_back` function or at the front using the `add_front` function.\n",
    "\n",
    "The `add_back` function must check if the list has a back node and, if so, makes the newly created node the new back, and let its `prev` pointer point to the old back. If not, the list is empty and the newly created node will become both the front and back of the list. It finally increments the size of the list by one."
   ]
  },
  {
   "cell_type": "code",
   "execution_count": null,
   "metadata": {},
   "outputs": [],
   "source": [
    "template<typename T>\n",
    "List<T>& List<T>::add_back(T info){\n",
    "  auto node = new Node<T>(info, nullptr, back);\n",
    "  if(back){\n",
    "    back->next = node;\n",
    "    back = node;\n",
    "  } else { // empty list\n",
    "    front = node;\n",
    "    back = node;\n",
    "  }\n",
    "\n",
    "  size++;\n",
    "  return *this;\n",
    "}"
   ]
  },
  {
   "cell_type": "markdown",
   "metadata": {},
   "source": [
    "Similarly `add_front` needs to make the newly created node the new front of the list and increment the size of the list by one. The the `prev` pointer of the old front needs to point to the new front and the `prev` pointer of the new front must be `nullptr`."
   ]
  },
  {
   "cell_type": "code",
   "execution_count": null,
   "metadata": {},
   "outputs": [],
   "source": [
    "template<typename T>\n",
    "List<T>& List<T>::add_front(T info){\n",
    "  auto node = new Node<T>(info, front, nullptr);\n",
    "  if(front){\n",
    "    front->prev = node;\n",
    "    front = node;\n",
    "  } else { // empty list\n",
    "    front = back = node;\n",
    "  }\n",
    "\n",
    "  size++;\n",
    "\n",
    "  return *this;\n",
    "}"
   ]
  },
  {
   "cell_type": "markdown",
   "metadata": {},
   "source": [
    "## Removing nodes from a doubly linked list"
   ]
  },
  {
   "cell_type": "markdown",
   "metadata": {},
   "source": [
    "Having the `prev` pointer eliminates the need to loop over the list to find the node that precedes what node that will be removed. This makes `remove_back` in doubly linked lists than in singly linked lists."
   ]
  },
  {
   "cell_type": "code",
   "execution_count": null,
   "metadata": {},
   "outputs": [],
   "source": [
    "template<typename T>\n",
    "bool List<T>::remove_back(){\n",
    "  if(front == back){\n",
    "    if(!front){\n",
    "      return false;\n",
    "    }\n",
    "\n",
    "    delete back;\n",
    "    front = back = nullptr;\n",
    "  } else{\n",
    "    auto pred = back->prev;\n",
    "    pred->next = nullptr;\n",
    "    delete back;\n",
    "    back = pred;\n",
    "  }\n",
    "\n",
    "  size--;\n",
    "  return true;\n",
    "}"
   ]
  },
  {
   "cell_type": "markdown",
   "metadata": {},
   "source": [
    "Similarly `remove_front` needs to remove the front node and make its next node (if any) the new front."
   ]
  },
  {
   "cell_type": "code",
   "execution_count": null,
   "metadata": {},
   "outputs": [],
   "source": [
    "template<typename T>\n",
    "bool List<T>::remove_front(){\n",
    "  if(front == back){\n",
    "    if(!front){\n",
    "      return false;\n",
    "    }\n",
    "\n",
    "    delete front;\n",
    "    front = back = nullptr;\n",
    "  } else{\n",
    "    auto tmp = front;\n",
    "    front = front->next;\n",
    "    front->prev = nullptr;\n",
    "    delete tmp;\n",
    "  }\n",
    "\n",
    "  size--;\n",
    "  return true;\n",
    "}"
   ]
  },
  {
   "cell_type": "markdown",
   "metadata": {},
   "source": [
    "Given a value, we can also remove the node that has that value from anywhere in the list. Again, no need to find the predecessor of the node to be removed; the `prev` pointer of that node points to it. Here is what the `remove` function looks like."
   ]
  },
  {
   "cell_type": "code",
   "execution_count": null,
   "metadata": {},
   "outputs": [],
   "source": [
    "template<typename T>\n",
    "bool List<T>::remove(T info){\n",
    "  if(front == nullptr){\n",
    "    return false;\n",
    "  }else if(front->info == info){\n",
    "    auto tmp = front;\n",
    "    front = front->next;\n",
    "    front->prev = nullptr;\n",
    "    delete tmp;\n",
    "    size--;\n",
    "    return true;\n",
    "  } else {\n",
    "    auto current = front->next;\n",
    "    while(current){\n",
    "      if(current->info == info){\n",
    "        if(current == back){\n",
    "          back = current->prev;\n",
    "        } else {\n",
    "          current->next->prev = current->prev;    \n",
    "        }\n",
    "        current->prev->next = current->next;\n",
    "        delete current;\n",
    "        size--;\n",
    "        return true;\n",
    "      }\n",
    "      current = current->next;\n",
    "    }\n",
    "\n",
    "    return true;\n",
    "  }\n",
    "}"
   ]
  },
  {
   "cell_type": "markdown",
   "metadata": {},
   "source": [
    "Having done that. Here is an example using this class."
   ]
  },
  {
   "cell_type": "code",
   "execution_count": null,
   "metadata": {},
   "outputs": [],
   "source": [
    "#include <iostream>\n",
    "using namespace std;\n",
    "\n",
    "List<int> lst;\n",
    "lst.add_back(4).add_front(3).add_back(5).add_front(2).add_back(10);\n",
    "cout << lst << endl;\n",
    "lst.add_front(12).add_back(1);\n",
    "cout << lst << endl;\n",
    "\n",
    "lst.remove_back();\n",
    "lst.remove_front();\n",
    "lst.remove(15);\n",
    "lst.remove(2);\n",
    "cout << lst << endl;\n",
    "\n",
    "if(lst.find(5)){\n",
    "    cout << 5 << \" was found\" << endl;\n",
    "}"
   ]
  },
  {
   "cell_type": "markdown",
   "metadata": {},
   "source": [
    "### <a id=\"ch01\">CHALLENGE 01</a>\n",
    "Go back to the code cell where the template class `List` is defined and add the following public member function to it.\n",
    "\n",
    "```c++\n",
    "bool add_before(T info, T before);\n",
    "```\n",
    "You'll need to restart and rerun all the code cells after that.\n",
    "\n",
    "In the code cell below, define the `add_before` function. This function should create a new node with the given `info` and add it to the list right before the node containing the given `before` value. It then increments the size by one and returns `true`. If no node with the given `before` value is found, then no node is added to the list and `false` is returned. Make sure the `prev` and `next` pointers of impacted nodes are set up properly.\n",
    "\n",
    "Run your code and make sure it compiles without errors and warnings."
   ]
  },
  {
   "cell_type": "code",
   "execution_count": null,
   "metadata": {},
   "outputs": [],
   "source": [
    "// TODO: Implement add_before here"
   ]
  },
  {
   "cell_type": "markdown",
   "metadata": {},
   "source": [
    "# Stacks\n",
    "A stack is a simple data structure that allows us to put items on top of one another such that only the item at the top is accessible. Think of stacks of books or trays of dishes as example stacks. A stack works in **last in first out** (LIFO) manner. That is the last item to add to the stack is the first item to pop out.\n",
    "\n",
    "A sack supports the following functions:\n",
    "- `clear`: removes all items from the stack.\n",
    "- `empty`: returns whether or not the stack is empty.\n",
    "- `push`: adds an item to the top of the stack.\n",
    "- `pop`: removes the item at the top of the stack.\n",
    "- `top`: returns the item at the top of the stack without removing it.\n",
    "\n",
    "There are many ways to implement a stack. We can use a dynamic array and keep expanding it as the stack grows. Alternatively, we can use a vector or a linked list for that. Let's use the above doubly linked list class `List`to implement it. And we can do that in one of two ways:\n",
    "- By creating a stack class that inherits from the `List` class.\n",
    "- By creating a stack class with a data member whose data type is the `List` class.\n",
    "\n",
    "We'll use the first way to implement the stack, and we start by having the abstract class `StackADT` which captures what a stack is and what operations it supports."
   ]
  },
  {
   "cell_type": "code",
   "execution_count": null,
   "metadata": {},
   "outputs": [],
   "source": [
    "template <typename T>\n",
    "class StackADT{\n",
    "public:\n",
    "  virtual void clear() = 0;\n",
    "  virtual bool empty() const = 0;\n",
    "  virtual void push(T e) = 0;\n",
    "  virtual T top() const = 0;\n",
    "  virtual T pop() = 0;\n",
    "  virtual ~StackADT(){}\n",
    "};"
   ]
  },
  {
   "cell_type": "markdown",
   "metadata": {},
   "source": [
    "Here is a concrete stack class named `Stack` that inherits from both `StackADT` (publicly) and `List<>` (privately)."
   ]
  },
  {
   "cell_type": "code",
   "execution_count": null,
   "metadata": {},
   "outputs": [],
   "source": [
    "template <typename T>\n",
    "class Stack : public StackADT<T>, private List<T>{\n",
    "public:\n",
    "  Stack():List<T>(){}\n",
    "  void clear() { List<T>::clear(); }\n",
    "  bool empty() const { return this->size == 0u; }\n",
    "  void push(T e) { this->add_front(e); }\n",
    "  T pop() { \n",
    "    if(empty()) throw runtime_error(\"Stack is empty\");\n",
    "      \n",
    "    T e = this->front->info;\n",
    "    this->remove_front(); \n",
    "    return e;\n",
    "  }\n",
    "    \n",
    "  T top() const { \n",
    "    if(empty()) throw runtime_error(\"Stack is empty\");\n",
    "    return this->front->info; \n",
    "  }  \n",
    "};"
   ]
  },
  {
   "cell_type": "markdown",
   "metadata": {},
   "source": [
    "As you can see, this implementation is clean and short. It uses private inheritance to make all the functions inherited from the class `List<T>` private to the `Stack` class and therefore cannot be passed down to any class inheriting from `Stack`. \n",
    "\n",
    "Here is an example using this `Stack` implementation."
   ]
  },
  {
   "cell_type": "code",
   "execution_count": null,
   "metadata": {},
   "outputs": [],
   "source": [
    "Stack<char> s;\n",
    "s.push('H');\n",
    "s.push('e');\n",
    "s.push('l');\n",
    "s.push('l');\n",
    "s.push('o');\n",
    "\n",
    "cout << s.pop() << endl;\n",
    "cout << s.pop() << endl;\n",
    "cout << s.pop() << endl;\n",
    "cout << s.pop() << endl;\n",
    "cout << s.pop() << endl;\n",
    "cout << s.pop() << endl;"
   ]
  },
  {
   "cell_type": "markdown",
   "metadata": {},
   "source": [
    "### <a id=\"ch02\">CHALLENGE 02</a>\n",
    "In the code cell below, create a class named `VectorizedStack` that uses a vector (from the `<vector>` header file) data member to implement the functions defined in `StackADT`. In the code cell after that, test your class by creating an object of it and calling its member functions."
   ]
  },
  {
   "cell_type": "code",
   "execution_count": null,
   "metadata": {},
   "outputs": [],
   "source": [
    "// TODO: VectorizedStack class goes here"
   ]
  },
  {
   "cell_type": "code",
   "execution_count": null,
   "metadata": {},
   "outputs": [],
   "source": [
    "// TODO: Test your class here"
   ]
  },
  {
   "cell_type": "markdown",
   "metadata": {},
   "source": [
    "## Queues\n",
    "A queue is like a waiting line; it grows by adding items to its back and shrinks by removing items from its front. Unlike a stack, which is a last in first out (lIFO), a queue is a first in first out (FIFO) data structure. That is while a stack uses only one end to push items to and pop them from, a queue uses both ends: one for adding new items and one for removing them. That means the last item has to wait until all items preceding it on the queue are removed. \n",
    "\n",
    "A queue must support the following operations:\n",
    "- `clear`: removes all items fron the queue.\n",
    "- `empty`: returns whether or not the stack is empty.\n",
    "- `enqueue`: adds an item at the end of the queue.\n",
    "- `dequeue`: removes the first item from the queue.\n",
    "- `peek_front`: returns the first item in the queue without removing it.\n",
    "\n",
    "Like the stack, we can use the `List` class to implement a queue in one of two ways:\n",
    "- By creating a queue class that inherits from `List` class.\n",
    "- By creating a queue class with a data member whose data type is the `List` class.\n",
    "\n",
    "This time we'll use the second way. Here is the abstract class `QueueADT` that captures what a queue is and what operations it support."
   ]
  },
  {
   "cell_type": "code",
   "execution_count": null,
   "metadata": {},
   "outputs": [],
   "source": [
    "template <typename T>\n",
    "class QueueADT {\n",
    "public:\n",
    "  virtual void clear() = 0;\n",
    "  virtual bool empty() const = 0;\n",
    "  virtual void enqueue(T e) = 0;\n",
    "  virtual void dequeue() = 0;\n",
    "  virtual T peek_front() const = 0;\n",
    "  virtual ~QueueADT(){}\n",
    "};"
   ]
  },
  {
   "cell_type": "markdown",
   "metadata": {},
   "source": [
    "And here is a concrete `Queue` class."
   ]
  },
  {
   "cell_type": "code",
   "execution_count": null,
   "metadata": {},
   "outputs": [],
   "source": [
    "template <typename T>\n",
    "class Queue : public QueueADT<T>{\n",
    "private:\n",
    "  List<T> lst;\n",
    "public:\n",
    "  Queue():lst(List<T>()){}\n",
    "  void clear() { lst.clear(); }\n",
    "  bool empty() const { return lst.empty(); }\n",
    "  void enqueue(T e) { lst.add_back(e); }\n",
    "  void dequeue() { \n",
    "    if(!empty()){\n",
    "        lst.remove_front();\n",
    "    }\n",
    "  }\n",
    "    \n",
    "  T peek_front() const { \n",
    "    if(empty()) throw runtime_error(\"Queue is empty\");\n",
    "    return lst.peek_front(); \n",
    "  }  \n",
    "\n",
    "};"
   ]
  },
  {
   "cell_type": "markdown",
   "metadata": {},
   "source": [
    "Here is an example using this `Queue` implementation."
   ]
  },
  {
   "cell_type": "code",
   "execution_count": null,
   "metadata": {},
   "outputs": [],
   "source": [
    "Queue<char> q;\n",
    "q.enqueue('H');\n",
    "q.enqueue('e');\n",
    "q.enqueue('l');\n",
    "q.enqueue('l');\n",
    "q.enqueue('o');\n",
    "\n",
    "cout << q.peek_front() << endl;\n",
    "q.dequeue();\n",
    "cout << q.peek_front() << endl;\n",
    "q.dequeue();\n",
    "cout << q.peek_front() << endl;\n",
    "q.dequeue();\n",
    "cout << q.peek_front() << endl;\n",
    "q.dequeue();\n",
    "cout << q.peek_front() << endl;\n",
    "q.dequeue();\n",
    "cout << q.peek_front() << endl;\n",
    "q.dequeue();"
   ]
  },
  {
   "cell_type": "markdown",
   "metadata": {},
   "source": [
    "### <a id=\"ch03\">CHALLENGE 03</a>\n",
    "\n",
    "Consider a stack $S$ and a queue $Q$ each with $n$ items. Answer the following running-time questions using the Big-O notation as a function of $n$."
   ]
  },
  {
   "cell_type": "markdown",
   "metadata": {},
   "source": [
    "**Q1**. What is the running time of each member function of the `Stack` class?"
   ]
  },
  {
   "cell_type": "raw",
   "metadata": {},
   "source": [
    "Your answer goes here"
   ]
  },
  {
   "cell_type": "markdown",
   "metadata": {},
   "source": [
    "**Q2**. What is the running time of each member function of the `Queue` class?"
   ]
  },
  {
   "cell_type": "raw",
   "metadata": {},
   "source": [
    "Your answer goes here"
   ]
  }
 ],
 "metadata": {
  "kernelspec": {
   "display_name": "C++17",
   "language": "C++17",
   "name": "xcpp17"
  },
  "language_info": {
   "codemirror_mode": "text/x-c++src",
   "file_extension": ".cpp",
   "mimetype": "text/x-c++src",
   "name": "c++",
   "version": "-std=c++17"
  }
 },
 "nbformat": 4,
 "nbformat_minor": 2
}
