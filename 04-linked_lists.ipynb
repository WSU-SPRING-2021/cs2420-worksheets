{
 "cells": [
  {
   "cell_type": "markdown",
   "metadata": {},
   "source": [
    "### Learning Objectives\n",
    "* To compare and contract linked lists with built-in arrays\n",
    "* To implement the basic operations of linked lists \n",
    "* To distinguish singly linked lists from doubly linked lists\n",
    "\n",
    "### Instructions\n",
    "Read and study the following sections, run their code examples and solve their challenges. This worksheet has the following challenges:\n",
    "* [CHALLENGE 01](#ch01)\n",
    "* [CHALLENGE 02](#ch02)\n",
    "* [CHALLENGE 03](#ch03)\n",
    "\n",
    "Run your coding challenges and fix any errors they might have before downloading and submitting your completed worksheet for grading. When done, open the menu **File >> Download as >> HTML (.html)** to download your worksheet in HTML format. **Submit the downloaded *.html* file via Canvas**.\n",
    "\n",
    "# Linked lists\n",
    "While built-in arrays are fast, they suffer from three limitations:\n",
    "- They are fixed in size and their sizes must be known at compile-time.\n",
    "- They are contiguous which can make it difficult to create very large arrays in fragmented or limited memory.\n",
    "- It is not efficient to insert an element in the middle of an array because that would require moving some existing elements by one location.\n",
    "\n",
    "Arrays are made of a set of adjacent cells like the following:\n",
    "\n",
    "```\n",
    "    +---+---+---+-----+---+\n",
    "    | 8 | 5 | 9 | ... | 4 |\n",
    "    +---+---+---+-----+---+\n",
    "```\n",
    "which means that going from one element to the next involves incrementing the current index by one.\n",
    "\n",
    "Linked lists on the other hand have their elements scattered all over as you see below.\n",
    "\n",
    "\n",
    "```\n",
    "                   +---+                                       +---+\n",
    "                   | 5 |                                       | 4 |\n",
    "                   +---+       +---+                           +---+\n",
    "                               | 9 |                    \n",
    "                               +---+                      \n",
    "        +---+                                    +-----+    \n",
    "        | 8 |                                    | ... |\n",
    "        +---+                                    +-----+\n",
    "```\n",
    "\n",
    "For these scattered elements to be made into a list, we have link them together and indicate for each one of them what and where the next element is. We also need to mark where the beginning and end of this list are.\n",
    "\n",
    "We call the data structure that maintains all these links and marks a **linked list**.Such data structure gives us something like this:\n",
    "\n",
    "```\n",
    "                   +---+                                       +---+\n",
    "               +-->| 5 |---+                               +-->| 4 |<--back\n",
    "               |   +---+   |    +---+                      |   +---+\n",
    "               |           +--->| 9 |-----+                |\n",
    "               |                +---+     |                |\n",
    "        +---+  |                          |     +-----+    |\n",
    "front-->| 8 |--+                          +---->| ... |----+\n",
    "        +---+                                   +-----+\n",
    "```\n",
    "\n",
    "with `front` marking the start or the head of the list, `back` the end or the tail of it, and arrows emitting from an element and pointing to the next. But how do we point from one element to another? Well, that is what pointers are for.\n",
    "\n",
    "Having such a data structure solves all of these array issues above. Its elements, henceforth called **nodes**, are linked to one another using pointers. These nodes don't have to be contiguous; they can be created one by one at runtime and grow to any list size we want. Finally, this list of linked nodes allows for inserting a node in the middle efficiently; we just need to adjust a few pointers.\n",
    "\n",
    "The linked list example above is what we call a **singly linked list** in which every node has a single pointer pointing to the next element. This list allows us to iterate over its nodes starting with `front` until we reach `back`. It does not however allow for going the opposite direction: `back` to `front`.\n",
    "\n",
    "Linked lists where each node has two pointers one to the node before it and the other to the node after it are called **doubly linked lists**. Such lists allow for iterating over nodes from `back` to `front`.\n",
    "\n",
    "Let's see what implementing a singly linked list looks like. Double linked lists are implemented with a few additions in the same way.\n",
    "\n",
    "## The `node` data structure\n",
    "First we must recognize the fact that linked lists are containers of data and that they need to support data of any type. That means we have to use C++ templates to make our implementation generic, starting with the following `Node` data structure."
   ]
  },
  {
   "cell_type": "code",
   "execution_count": null,
   "metadata": {},
   "outputs": [],
   "source": [
    "template<typename T>\n",
    "struct Node {\n",
    "  T info;\n",
    "  Node<T>* next;\n",
    "\n",
    "  Node(T info): info(info), next(nullptr){}\n",
    "  Node(T info, Node<T>* ptr): info(info), next(ptr){}\n",
    "};"
   ]
  },
  {
   "cell_type": "markdown",
   "metadata": {},
   "source": [
    "Here a node consists of two pieces: `info` for storing the actual value of the node and `next` which is a pointer to the next node in the list. To make creating these nodes easier, notice the two constructors we have for this structure.\n",
    "\n",
    "We now can use this `Node` structure to create the linked list class. \n",
    "\n",
    "## The `List` ADT"
   ]
  },
  {
   "cell_type": "code",
   "execution_count": null,
   "metadata": {},
   "outputs": [],
   "source": [
    "#include <iostream>\n",
    "#include <initializer_list>\n",
    "\n",
    "template<typename T>\n",
    "class List {\n",
    "  unsigned size = 0u;\n",
    "  Node<T>* front = nullptr;   \n",
    "  Node<T>* back = nullptr;\n",
    "  void deleteAll();\n",
    "public:\n",
    "  List();\n",
    "  List(const std::initializer_list<T>& lst);\n",
    "  List(const List<T>& lst);\n",
    "  List<T>& operator=(const List<T>& lst);\n",
    "    \n",
    "  List<T>& add_back(T info);\n",
    "  List<T>& add_front(T info);\n",
    "    \n",
    "  bool remove_back();\n",
    "  bool remove_front();\n",
    "  bool remove(T info);\n",
    "  bool find(T info);\n",
    "    \n",
    "  friend std::ostream& operator<<(std::ostream& out, const List<T>& lst){\n",
    "    auto current = lst.front;\n",
    "    out << \"[\" << lst.size << \"]: \";\n",
    "    while(current){\n",
    "      out << current->info << \" \";\n",
    "      current = current->next;\n",
    "    }\n",
    "\n",
    "    return out;\n",
    "  }\n",
    "    \n",
    "  unsigned getSize() const { return size; }\n",
    "    \n",
    "  ~List();\n",
    "};"
   ]
  },
  {
   "cell_type": "markdown",
   "metadata": {},
   "source": [
    "As the class above indicates, a singly linked list has two pointers `front` and `back` marking the first and last nodes in the list. It also maintains a `size` field that quickly tells how many nodes in the list. These pointers allow us to easily iterate over all the nodes of the list using a simple `while` loop like this:\n",
    "\n",
    "```c++\n",
    "auto current = front;\n",
    "while(current){ // current will be false when nullptr at the end of list is encountered\n",
    "  // TODO: whatever you want to do here\n",
    "    \n",
    "  current = current->next;\n",
    "}\n",
    "```\n",
    "This loop pattern is extremely important and you will see it over and over in the implementation of this class. \n",
    "\n",
    "## Supporting the creation and deletion of linked lists\n",
    "Here is the first constructor."
   ]
  },
  {
   "cell_type": "code",
   "execution_count": null,
   "metadata": {},
   "outputs": [],
   "source": [
    "template<typename T> List<T>::List(){} // empty constructor"
   ]
  },
  {
   "cell_type": "markdown",
   "metadata": {},
   "source": [
    "No need to initialize `size`, `front`, and `back` since they are already initialized. Now we move to the constructor with the initializer list which allows us to create a list and initialize it like this:\n",
    "```c++\n",
    "List<double> lst {2.5, 7.0, 9.5, 17.75};\n",
    "```\n",
    "Here is how this constructor is implemented:"
   ]
  },
  {
   "cell_type": "code",
   "execution_count": null,
   "metadata": {},
   "outputs": [],
   "source": [
    "template<typename T> List<T>::List(const std::initializer_list<T>& lst){// initializer-list constructor\n",
    "  for(auto it = lst.begin(); it != lst.end(); ++it){\n",
    "    add_back(*it);\n",
    "  }\n",
    "}"
   ]
  },
  {
   "cell_type": "markdown",
   "metadata": {},
   "source": [
    "This constructor takes the given comma-separated values one at a time and call the `add_back` which we will implement later to add them to the back of the list. We now move to the copy constructor which allows us to take an existing linked list and create a copy of it. For example\n",
    "\n",
    "```c++\n",
    "List<double> lst {2.5, 7.0, 9.5, 17.75};\n",
    "List<double> copy = lst;\n",
    "```"
   ]
  },
  {
   "cell_type": "code",
   "execution_count": null,
   "metadata": {},
   "outputs": [],
   "source": [
    "template<typename T> List<T>::List(const List<T>& lst){ // copy constructor\n",
    "  auto current = lst.front;\n",
    "  while(current){\n",
    "    add_back(current->info);\n",
    "    current = current->next;\n",
    "  }\n",
    "}"
   ]
  },
  {
   "cell_type": "markdown",
   "metadata": {},
   "source": [
    "The **rule of three** states that if a class defines one (or more) of the following it should probably explicitly define all three:\n",
    "- destructor\n",
    "- copy constructor\n",
    "- copy assignment operator\n",
    "\n",
    "Let's do that starting with the copy assignment operator."
   ]
  },
  {
   "cell_type": "code",
   "execution_count": null,
   "metadata": {},
   "outputs": [],
   "source": [
    "template<typename T> \n",
    "List<T>& List<T>::operator=(const List<T>& lst){ // copy assignment operator\n",
    "  deleteAll();\n",
    "  auto current = lst.front;\n",
    "  while(current){\n",
    "    add_back(current->info);\n",
    "    current = current->next;\n",
    "  }\n",
    "\n",
    "  return *this;\n",
    "}"
   ]
  },
  {
   "cell_type": "markdown",
   "metadata": {},
   "source": [
    "followed by the destructor"
   ]
  },
  {
   "cell_type": "code",
   "execution_count": null,
   "metadata": {},
   "outputs": [],
   "source": [
    "template<typename T> List<T>::~List(){ deleteAll(); } // destructor"
   ]
  },
  {
   "cell_type": "markdown",
   "metadata": {},
   "source": [
    "Both the copy assignment operator and the destructor depend on the private member function `deleteAll` which is in charge of cleaning after deleted nodes and ensuring that memory leak does not happen. Here is what this function looks like:"
   ]
  },
  {
   "cell_type": "code",
   "execution_count": null,
   "metadata": {},
   "outputs": [],
   "source": [
    "template<typename T>\n",
    "void List<T>::deleteAll(){\n",
    "  auto current = front;\n",
    "  while(current){\n",
    "    auto tmp = current;\n",
    "    current = current->next;\n",
    "    delete tmp;\n",
    "  }\n",
    "\n",
    "  front = nullptr;\n",
    "  back = nullptr;\n",
    "  size = 0u;\n",
    "}"
   ]
  },
  {
   "cell_type": "markdown",
   "metadata": {},
   "source": [
    "Notice how this function iterates over the existing nodes of the list and deletes them one by one. It then sets the `front` and `back` pointers to `nullptr` and `size` to zero indicating an empty list.\n",
    "\n",
    "We now turn to adding and removing nodes.\n",
    "\n",
    "## Adding nodes to linked lists\n",
    "There are different ways to add nodes to a linked list. Nodes can be added to the back of the list using the `add_back` function or at the front using the `add_front` function.\n",
    "\n",
    "The `add_back` function must check if the list has a back node and, if so, makes the newly created node the new back. If not, the list is empty and the newly created node will become both the front and back of the list. It finally increments the size of the list by one."
   ]
  },
  {
   "cell_type": "code",
   "execution_count": null,
   "metadata": {},
   "outputs": [],
   "source": [
    "template<typename T>\n",
    "List<T>& List<T>::add_back(T info){\n",
    "  auto node = new Node<T>(info);\n",
    "  if(back){\n",
    "    back->next = node;\n",
    "    back = node;\n",
    "  } else { // empty list\n",
    "    front = node;\n",
    "    back = node;\n",
    "  }\n",
    "\n",
    "  size++;\n",
    "  return *this;\n",
    "}"
   ]
  },
  {
   "cell_type": "markdown",
   "metadata": {},
   "source": [
    "Similarly `add_front` needs to make the newly created node the new front of the list and increment the size of the list by one."
   ]
  },
  {
   "cell_type": "code",
   "execution_count": null,
   "metadata": {},
   "outputs": [],
   "source": [
    "template<typename T>\n",
    "List<T>& List<T>::add_front(T info){\n",
    "  front = new Node<T>(info, front);\n",
    "  if(!back){\n",
    "    back = front;\n",
    "  }\n",
    "\n",
    "  size++;\n",
    "\n",
    "  return *this;\n",
    "}"
   ]
  },
  {
   "cell_type": "markdown",
   "metadata": {},
   "source": [
    "## Removing nodes from linked lists"
   ]
  },
  {
   "cell_type": "markdown",
   "metadata": {},
   "source": [
    "There are many ways in which nodes can be removed from a linked list. We can remove the node at the back of the list using the `remove_back` function or remove the node at the front of the list using the `remove_front` function. These functions need to deal with situations where the list is empty, the list has only one node, and the list has more than one node. Both functions return `false` if nothing is removed and `true` otherwise. And if a node is removed, the size is decremented by one.\n",
    "\n",
    "Here is the implementation of the `remove_back` function."
   ]
  },
  {
   "cell_type": "code",
   "execution_count": null,
   "metadata": {},
   "outputs": [],
   "source": [
    "template<typename T>\n",
    "bool List<T>::remove_back(){\n",
    "  if(front == back){\n",
    "    if(!back){\n",
    "      return false;\n",
    "    }\n",
    "\n",
    "    delete back;\n",
    "    front = nullptr;\n",
    "    back = nullptr;\n",
    "  } else {\n",
    "    auto pred = front;\n",
    "    while(pred->next != back){\n",
    "      pred = pred->next;\n",
    "    }\n",
    "\n",
    "    pred->next = nullptr;\n",
    "    delete back;\n",
    "    back = pred;\n",
    "  }\n",
    "  size--;\n",
    "  return true;\n",
    "}"
   ]
  },
  {
   "cell_type": "markdown",
   "metadata": {},
   "source": [
    "Similarly `remove_front` needs to remove the front node and make its next node (if any) the new front."
   ]
  },
  {
   "cell_type": "code",
   "execution_count": null,
   "metadata": {},
   "outputs": [],
   "source": [
    "template<typename T>\n",
    "bool List<T>::remove_front(){\n",
    "  if(front == back){\n",
    "    if(front == nullptr){\n",
    "      return false;\n",
    "    }\n",
    "\n",
    "    delete front;\n",
    "    front = nullptr;\n",
    "    back = nullptr;\n",
    "  } else {\n",
    "    auto tmp = front;\n",
    "    front = front->next;\n",
    "\n",
    "    delete tmp;\n",
    "  }\n",
    "  size--;\n",
    "  return true;\n",
    "}"
   ]
  },
  {
   "cell_type": "markdown",
   "metadata": {},
   "source": [
    "Given a value, we can also remove the node that has that value from anywhere in the list. This involves searching for that node first. Here is what the `remove` function looks like."
   ]
  },
  {
   "cell_type": "code",
   "execution_count": null,
   "metadata": {},
   "outputs": [],
   "source": [
    "template<typename T>\n",
    "bool List<T>::remove(T info){\n",
    "  if(front == nullptr){\n",
    "    return false;\n",
    "  }else if(front->info == info){\n",
    "    auto tmp = front;\n",
    "    front = front->next;\n",
    "    delete tmp;\n",
    "    size--;\n",
    "    return true;\n",
    "  } else {\n",
    "    auto pred = front;\n",
    "    auto current = front->next;\n",
    "    while(current){\n",
    "      if(current->info == info){\n",
    "        pred->next = current->next;\n",
    "        if(!pred->next){\n",
    "          back = pred;\n",
    "        }\n",
    "        delete current;\n",
    "        size--;\n",
    "        return true;\n",
    "      }\n",
    "      pred = current;\n",
    "      current = current->next;\n",
    "    }\n",
    "\n",
    "    return false;\n",
    "  }\n",
    "}"
   ]
  },
  {
   "cell_type": "markdown",
   "metadata": {},
   "source": [
    "## Searching for a node in a linked list\n",
    "Our last operation involves being able, given a value, to seach if a node within the list has that value. Here is the `find` function for that."
   ]
  },
  {
   "cell_type": "code",
   "execution_count": null,
   "metadata": {},
   "outputs": [],
   "source": [
    "template<typename T>\n",
    "bool List<T>::find(T info){\n",
    "  auto current = front;\n",
    "  while(current){\n",
    "    if(current->info == info){\n",
    "      return true;\n",
    "    }\n",
    "\n",
    "    current = current->next;\n",
    "  }\n",
    "\n",
    "  return false;\n",
    "}"
   ]
  },
  {
   "cell_type": "markdown",
   "metadata": {},
   "source": [
    "This function returns `true` if the searched-for value is found and `false` otherwise."
   ]
  },
  {
   "cell_type": "markdown",
   "metadata": {},
   "source": [
    "### <a id=\"ch01\">CHALLENGE 01</a>\n",
    "Go back to the code cell where the template class `List` is defined and add the following public member function to it.\n",
    "\n",
    "```c++\n",
    "bool add_before(T info, T before);\n",
    "```\n",
    "You'll need to rerun all the code cells after that.\n",
    "\n",
    "This function should create a new node with the given `info` and add it to the list right before the node containing the given `before` value. It then increments the size by one and returns `true`. If no node with the given `before` value is found, then no node is added to the list and `false` is returned.\n",
    "\n",
    "Implement this function in the code cell below. Run your code and make sure it compiles without errors and warnings."
   ]
  },
  {
   "cell_type": "code",
   "execution_count": null,
   "metadata": {},
   "outputs": [],
   "source": [
    "// TODO: Implement add_before here"
   ]
  },
  {
   "cell_type": "markdown",
   "metadata": {},
   "source": [
    "### <a id=\"ch02\">CHALLENGE 02</a>\n",
    "In the code cell below, create three linked list objects one using each constructor and call all the member functions on each object before printing them out."
   ]
  },
  {
   "cell_type": "code",
   "execution_count": null,
   "metadata": {},
   "outputs": [],
   "source": [
    "#include <iostream>\n",
    "using namespace std;\n",
    "\n",
    "//TODO: Rest of your code goes here"
   ]
  },
  {
   "cell_type": "markdown",
   "metadata": {},
   "source": [
    "### <a id=\"ch03\">CHALLENGE 03</a>\n",
    "\n",
    "Consider a linked list with $n$ nodes. Answer the following running-time questions using the Big-O notation as a function of $n$."
   ]
  },
  {
   "cell_type": "markdown",
   "metadata": {},
   "source": [
    "**Q1**. What is the running time of adding a node right before the back of the list using your `add_before` function. "
   ]
  },
  {
   "cell_type": "raw",
   "metadata": {},
   "source": [
    "Your answer goes here"
   ]
  },
  {
   "cell_type": "markdown",
   "metadata": {},
   "source": [
    "**Q2**. What is the running time of trying to find a value that does not exist in a linked list?"
   ]
  },
  {
   "cell_type": "raw",
   "metadata": {},
   "source": [
    "Your answer goes here"
   ]
  },
  {
   "cell_type": "markdown",
   "metadata": {},
   "source": [
    "**Q3**. What is the running time of using the copy constructor to create a linked list that is a copy of an existing list of $n$ nodes."
   ]
  },
  {
   "cell_type": "raw",
   "metadata": {},
   "source": [
    "Your answer goes here"
   ]
  }
 ],
 "metadata": {
  "kernelspec": {
   "display_name": "C++17",
   "language": "C++17",
   "name": "xcpp17"
  },
  "language_info": {
   "codemirror_mode": "text/x-c++src",
   "file_extension": ".cpp",
   "mimetype": "text/x-c++src",
   "name": "c++",
   "version": "-std=c++17"
  }
 },
 "nbformat": 4,
 "nbformat_minor": 2
}
