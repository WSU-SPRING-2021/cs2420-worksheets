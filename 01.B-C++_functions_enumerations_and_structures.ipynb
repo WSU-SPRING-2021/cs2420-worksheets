{
 "cells": [
  {
   "cell_type": "markdown",
   "metadata": {},
   "source": [
    "### Learning Objectives\n",
    "* To prototype and define functions.\n",
    "* To organize data into structures.\n",
    "* To define and manipulate strings\n",
    "\n",
    "### Instructions\n",
    "Read and study the following sections, run their code examples and solve their challenges. This worksheet has the following challenges:\n",
    "* [CHALLENGE 02](#ch02)\n",
    "* [CHALLENGE 03](#ch03)\n",
    "\n",
    "Run your coding challenges and fix any errors they might have before downloading and submitting your completed worksheet for grading. When done, open the menu **File >> Download as >> HTML (.html)** to download your worksheet in HTML format. **Submit the downloaded *.html* file via Canvas**."
   ]
  },
  {
   "cell_type": "code",
   "execution_count": null,
   "metadata": {},
   "outputs": [],
   "source": [
    "#include <iostream>\n",
    "using namespace std;"
   ]
  },
  {
   "cell_type": "markdown",
   "metadata": {},
   "source": [
    "# Functions\n",
    "\n",
    "Functions are the bread and butter of programming. A function is named group of statements that achieves a certain task or produces a specific outcome. Here is the **definition** of a function that prints a a given `n` number of stars in the same line."
   ]
  },
  {
   "cell_type": "code",
   "execution_count": null,
   "metadata": {},
   "outputs": [],
   "source": [
    "void printStars(int n){\n",
    "  for(int i = 0; i < n; i++){\n",
    "    cout << '*';\n",
    "  }\n",
    "  cout << endl;\n",
    "}"
   ]
  },
  {
   "cell_type": "markdown",
   "metadata": {},
   "source": [
    "Now that we have this function, we can use it every time we want to print stars. For example:"
   ]
  },
  {
   "cell_type": "code",
   "execution_count": null,
   "metadata": {},
   "outputs": [],
   "source": [
    "printStars(69);\n",
    "printStars(37);\n",
    "printStars(5);\n",
    "printStars(45);"
   ]
  },
  {
   "cell_type": "markdown",
   "metadata": {},
   "source": [
    "## Function prototypes\n",
    "C++ distinguishes **function definitions** such as the above definition of the `printStars` function from **function prototypes**. A **function prototype** contains only:\n",
    "* the return type, \n",
    "* the name, \n",
    "* the parameter list, and\n",
    "* semicolon\n",
    "\n",
    "Function prototypes typically reside in header files (.h files); they introduce functions to the compiler and allow us to call functions before we define them.\n",
    "\n",
    "Here is the **prototype** of the **function definition** above."
   ]
  },
  {
   "cell_type": "code",
   "execution_count": null,
   "metadata": {},
   "outputs": [],
   "source": [
    "void printStars(int n);"
   ]
  },
  {
   "cell_type": "markdown",
   "metadata": {},
   "source": [
    "Here are two more example function definitions:"
   ]
  },
  {
   "cell_type": "code",
   "execution_count": null,
   "metadata": {},
   "outputs": [],
   "source": [
    "bool isOdd(int x){\n",
    "    return x % 2 != 0;\n",
    "}"
   ]
  },
  {
   "cell_type": "code",
   "execution_count": null,
   "metadata": {},
   "outputs": [],
   "source": [
    "bool isEven(int x){\n",
    "    return !isOdd(x);\n",
    "}"
   ]
  },
  {
   "cell_type": "markdown",
   "metadata": {},
   "source": [
    "Always remember that **a function that is supposed to return a value must contain a `return` statement**."
   ]
  },
  {
   "cell_type": "markdown",
   "metadata": {},
   "source": [
    "## Calling functions\n",
    "Functions have to be called. A function that is never called is useless. We call functions by their names followed by zero or more comma-separated argument list within parentheses `()`. Doing so transfers control from the calling program to the function itself. This control will return back to the calling program when the end of the function is reached or when a `return` statement is encountered. Here are example calls to the functions we defined earlier. These functions are being called to figure out the type of a given number."
   ]
  },
  {
   "cell_type": "code",
   "execution_count": null,
   "metadata": {},
   "outputs": [],
   "source": [
    "cout << setw(8) << \"Number\" << setw(6) << \"Odd?\"    << setw(7) << \"Even?\"    << endl;\n",
    "cout << setw(8) << 97       << setw(6) << isOdd(97) << setw(7) << isEven(97) << endl;\n",
    "cout << setw(8) << 34       << setw(6) << isOdd(34) << setw(7) << isEven(34) << endl;"
   ]
  },
  {
   "cell_type": "markdown",
   "metadata": {},
   "source": [
    "Here is another example function for converting weights from pounds to kilograms, starting with the function prototype."
   ]
  },
  {
   "cell_type": "code",
   "execution_count": null,
   "metadata": {},
   "outputs": [],
   "source": [
    "double lbs2kgs(double);"
   ]
  },
  {
   "cell_type": "markdown",
   "metadata": {},
   "source": [
    "And here is this function's definition."
   ]
  },
  {
   "cell_type": "code",
   "execution_count": null,
   "metadata": {},
   "outputs": [],
   "source": [
    "double lbs2kgs(double pounds){\n",
    "  double kilograms =  0.453592 * pounds;\n",
    "  return kilograms;\n",
    "}"
   ]
  },
  {
   "cell_type": "markdown",
   "metadata": {},
   "source": [
    "Now we can call this function."
   ]
  },
  {
   "cell_type": "code",
   "execution_count": null,
   "metadata": {},
   "outputs": [],
   "source": [
    "double lbs, kgs;\n",
    "\n",
    "cout << \"Enter weight in pounds:\\n\"; cin >> lbs;\n",
    "kgs = lbs2kgs(lbs);\n",
    "cout << \"Weight in kilograms: \" << kgs << endl;"
   ]
  },
  {
   "cell_type": "markdown",
   "metadata": {},
   "source": [
    "This function receives a copy of `lbs` as arguments. To avoid copying big values when calling a function, **references** should be used.\n",
    "\n",
    "## References\n",
    "A reference is just another name or alias for a variable. We use the ampersand `&` operator to define references which takes the form:\n",
    "\n",
    "``` c++\n",
    "<datatype>& <alias> = <variable>;\n",
    "```\n",
    "\n",
    "References are meant to be a safer and better alternative to pointers. Once created, a reference cannot be made to reference another variable and cannot be `null`.\n",
    "\n",
    "For example: "
   ]
  },
  {
   "cell_type": "code",
   "execution_count": null,
   "metadata": {},
   "outputs": [],
   "source": [
    "int v = 9;\n",
    "int& r = v;"
   ]
  },
  {
   "cell_type": "markdown",
   "metadata": {},
   "source": [
    "`r` is a reference or another name for `v`.  That means `r` is pointing to the same location of memory as `v` and by changing `r`, `v` automatically changes."
   ]
  },
  {
   "cell_type": "code",
   "execution_count": null,
   "metadata": {},
   "outputs": [],
   "source": [
    "r = 17;\n",
    "cout << v;"
   ]
  },
  {
   "cell_type": "markdown",
   "metadata": {},
   "source": [
    "Here is an example of passing arguments **by reference**. Notice the use of ampersands `&` after the arguments' datatypes."
   ]
  },
  {
   "cell_type": "code",
   "execution_count": null,
   "metadata": {},
   "outputs": [],
   "source": [
    "// Prototype\n",
    "void swapValues(int&, int&);"
   ]
  },
  {
   "cell_type": "code",
   "execution_count": null,
   "metadata": {},
   "outputs": [],
   "source": [
    "// Definition\n",
    "void swapValues(int& n, int& m){\n",
    "  int o = n;\n",
    "  n = m;\n",
    "  m = o;\n",
    "}"
   ]
  },
  {
   "cell_type": "code",
   "execution_count": null,
   "metadata": {},
   "outputs": [],
   "source": [
    "// Testing\n",
    "int a1 = 10;\n",
    "int b1 = 15;\n",
    "\n",
    "cout << \"a1 = \" << a1 << \", b1 = \" << b1 << endl;\n",
    "swapValues(a1, b1);\n",
    "cout << \"a1 = \" << a1 << \", b1 = \" << b1 << endl;"
   ]
  },
  {
   "cell_type": "markdown",
   "metadata": {},
   "source": [
    "# Structures\n",
    "C++ gives us two main ways to create new data types out of other simpler types: **structures** and **classes**. Structures are meant to help us achieve a better organization of our data or variables by grouping relative variables together to form or create new data types. For example, a date can be thought of as a composite of three simple integers: year, month, and day. We capture that idea by having a structure like this:"
   ]
  },
  {
   "cell_type": "code",
   "execution_count": null,
   "metadata": {},
   "outputs": [],
   "source": [
    "struct Date {\n",
    "  int day;\n",
    "  int month;\n",
    "  int year;\n",
    "};"
   ]
  },
  {
   "cell_type": "markdown",
   "metadata": {},
   "source": [
    "By combining these three integers (which we now call members) together we create a new kind of data named `date`, which we can use to create date variables."
   ]
  },
  {
   "cell_type": "markdown",
   "metadata": {},
   "source": [
    "Here is another example, but this time we are using one structure `Distance` to define another more complex structure `Room`."
   ]
  },
  {
   "cell_type": "code",
   "execution_count": null,
   "metadata": {},
   "outputs": [],
   "source": [
    "struct Distance {\n",
    "  int feet;\n",
    "  double inches;\n",
    "};\n",
    "\n",
    "struct Room {\n",
    "  Distance length;\n",
    "  Distance width;\n",
    "};"
   ]
  },
  {
   "cell_type": "markdown",
   "metadata": {},
   "source": [
    "## Structure variables\n",
    "Once we have a structure defined. we can use it to define structure variables (or objects). Here are example variables of the structures we saw earlier."
   ]
  },
  {
   "cell_type": "code",
   "execution_count": null,
   "metadata": {},
   "outputs": [],
   "source": [
    "Date mlk;\n",
    "Distance roomLength, roomWidth;\n",
    "Room living;"
   ]
  },
  {
   "cell_type": "markdown",
   "metadata": {},
   "source": [
    "We now can use the **dot operator** to read or write the values of these structures' members. For example, given the date variable `mlk`, here is how to set values for its day, month, and year members."
   ]
  },
  {
   "cell_type": "code",
   "execution_count": null,
   "metadata": {},
   "outputs": [],
   "source": [
    "mlk.day = 15;\n",
    "mlk.month = 1;\n",
    "mlk.year = 2019;"
   ]
  },
  {
   "cell_type": "markdown",
   "metadata": {},
   "source": [
    "And there is even a better way to initialize a structure variable at the time of its definition: by using a comma-separated brace-enclosed list like this."
   ]
  },
  {
   "cell_type": "code",
   "execution_count": null,
   "metadata": {},
   "outputs": [],
   "source": [
    "Date mlk_day = {15, 1, 2019};"
   ]
  },
  {
   "cell_type": "markdown",
   "metadata": {},
   "source": [
    "Now we can access the members of this variable using the **dot operator**."
   ]
  },
  {
   "cell_type": "code",
   "execution_count": null,
   "metadata": {},
   "outputs": [],
   "source": [
    "cout << mlk_day.year << '-' << mlk_day.month << '-' << mlk_day.day << endl;"
   ]
  },
  {
   "cell_type": "markdown",
   "metadata": {},
   "source": [
    "And for complex structures like `Room` where we have substructures (like `Distance`), we can define and intialize rooms like this:"
   ]
  },
  {
   "cell_type": "code",
   "execution_count": null,
   "metadata": {},
   "outputs": [],
   "source": [
    "Room bedroom = { { 12, 4}, { 16, 0} };\n",
    "\n",
    "cout << \"length = \" << bedroom.length.feet << \"' \" << bedroom.length.inches << '\"' << endl;\n",
    "cout << \"width = \" << bedroom.width.feet << \"' \" << bedroom.width.inches << '\"' << endl;"
   ]
  },
  {
   "cell_type": "markdown",
   "metadata": {},
   "source": [
    "# Scoped enumeration\n",
    "Often times, we have variables that can take only a limited number of values. Think, for example, about days which can only be Sunday through Saturday. The same goes for months (January through December), letter grades (A through E), directions (east, west, north, south) and so on. \n",
    "\n",
    "C++ gives us the ability to enumerate these possible values so that the compiler knows about them and validates against them.  Here is the definition of an example scoped enumeration named `DayOfWeek`:"
   ]
  },
  {
   "cell_type": "code",
   "execution_count": null,
   "metadata": {},
   "outputs": [],
   "source": [
    "enum class DayOfWeek {\n",
    " SUNDAY = 1, MONDAY, TUESDAY, WEDNESDAY, THURSDAY, FRIDAY, SATURDAY\n",
    "};"
   ]
  },
  {
   "cell_type": "markdown",
   "metadata": {},
   "source": [
    "Here is an enumeration variable definition:"
   ]
  },
  {
   "cell_type": "code",
   "execution_count": null,
   "metadata": {},
   "outputs": [],
   "source": [
    "DayOfWeek day = DayOfWeek::WEDNESDAY;"
   ]
  },
  {
   "cell_type": "markdown",
   "metadata": {},
   "source": [
    "Once we have enumeration variables, we can use them like any other values. For example, we can use them in `if-else` conditionals:"
   ]
  },
  {
   "cell_type": "code",
   "execution_count": null,
   "metadata": {},
   "outputs": [],
   "source": [
    "if(day == DayOfWeek::SATURDAY || day == DayOfWeek::SUNDAY){\n",
    "    cout << \"It is weekend\" << endl;\n",
    "} else {\n",
    "    cout << \"It is a weekday\" << endl;\n",
    "}"
   ]
  },
  {
   "cell_type": "markdown",
   "metadata": {},
   "source": [
    "or in a `switch` statement:"
   ]
  },
  {
   "cell_type": "code",
   "execution_count": null,
   "metadata": {},
   "outputs": [],
   "source": [
    "switch(day){\n",
    "    case DayOfWeek::SUNDAY: cout << \"Sunday\"; break;\n",
    "    case DayOfWeek::MONDAY: cout <<  \"Monday\"; break;\n",
    "    case DayOfWeek::TUESDAY: cout <<  \"Tuesday\"; break;\n",
    "    case DayOfWeek::WEDNESDAY: cout <<  \"Wednesday\"; break;\n",
    "    case DayOfWeek::THURSDAY: cout <<  \"Thursday\"; break;\n",
    "    case DayOfWeek::FRIDAY: cout <<  \"Friday\"; break;\n",
    "    case DayOfWeek::SATURDAY: cout <<  \"Saturday\"; break;\n",
    "}"
   ]
  },
  {
   "cell_type": "markdown",
   "metadata": {},
   "source": [
    "or as an argument to a function:"
   ]
  },
  {
   "cell_type": "code",
   "execution_count": null,
   "metadata": {},
   "outputs": [],
   "source": [
    "void nameDayOfWeek(DayOfWeek d){\n",
    "    switch(d){\n",
    "        case DayOfWeek::SUNDAY: cout << \"Sunday\"; break;\n",
    "        case DayOfWeek::MONDAY: cout <<  \"Monday\"; break;\n",
    "        case DayOfWeek::TUESDAY: cout <<  \"Tuesday\"; break;\n",
    "        case DayOfWeek::WEDNESDAY: cout <<  \"Wednesday\"; break;\n",
    "        case DayOfWeek::THURSDAY: cout <<  \"Thursday\"; break;\n",
    "        case DayOfWeek::FRIDAY: cout <<  \"Friday\"; break;\n",
    "        case DayOfWeek::SATURDAY: cout <<  \"Saturday\"; break;\n",
    "    }\n",
    "} "
   ]
  },
  {
   "cell_type": "code",
   "execution_count": null,
   "metadata": {},
   "outputs": [],
   "source": [
    "cout << \"day is \";\n",
    "nameDayOfWeek(day);"
   ]
  },
  {
   "cell_type": "markdown",
   "metadata": {},
   "source": [
    "or in the definition of a new structure :"
   ]
  },
  {
   "cell_type": "code",
   "execution_count": null,
   "metadata": {},
   "outputs": [],
   "source": [
    "enum class Bill {\n",
    "  HUNDRET = 100, FIFTY = 50,\n",
    "  TWENTY = 20, TEN = 10, \n",
    "  FIVE = 5, ONE = 1\n",
    "};\n",
    "\n",
    "struct Amount {\n",
    "  int number;\n",
    "  Bill kind;\n",
    "};"
   ]
  },
  {
   "cell_type": "markdown",
   "metadata": {},
   "source": [
    "which allows us to express $100 as 5 twenty dollar bills."
   ]
  },
  {
   "cell_type": "code",
   "execution_count": null,
   "metadata": {},
   "outputs": [],
   "source": [
    "Amount firstHundred = { 5, Bill::TWENTY };"
   ]
  },
  {
   "cell_type": "markdown",
   "metadata": {},
   "source": [
    "### <a id=\"ch02\">CHALLENGE 02</a>\n",
    "In the code cells below, define a structure named `BankAccount` with three members: balance (a double), type (a scoped enumeration of two enumerated values SAVANGS and CHECKING), and interest rate (a double). Then define two functions for depositing/withdrawing given amounts into/from the bank accounts passed to them by reference. Finally create an object of this structure and use it to call the `deposit` and `withdraw` functions and print out its balance after each call."
   ]
  },
  {
   "cell_type": "code",
   "execution_count": null,
   "metadata": {},
   "outputs": [],
   "source": [
    "// TODO: Structure goes here"
   ]
  },
  {
   "cell_type": "code",
   "execution_count": null,
   "metadata": {},
   "outputs": [],
   "source": [
    "// TODO: Deposit function goes here"
   ]
  },
  {
   "cell_type": "code",
   "execution_count": null,
   "metadata": {},
   "outputs": [],
   "source": [
    "// TODO: Withdraw function goes here"
   ]
  },
  {
   "cell_type": "code",
   "execution_count": null,
   "metadata": {},
   "outputs": [],
   "source": [
    "// TODO: Test code goes here"
   ]
  },
  {
   "cell_type": "markdown",
   "metadata": {},
   "source": [
    "# Strings\n",
    "\n",
    "Most of the data our programs deal with comes in the form of text which is represented by strings. In C++ we use the standard class `string` from the `<string>` header file to define strings. Here are a few example strings:"
   ]
  },
  {
   "cell_type": "code",
   "execution_count": null,
   "metadata": {},
   "outputs": [],
   "source": [
    "#include <string>\n",
    "\n",
    "string s1(\"Man\");\n",
    "string s2 = \"Beast\";\n",
    "string s3;"
   ]
  },
  {
   "cell_type": "markdown",
   "metadata": {},
   "source": [
    "In C++, srings support assignment:"
   ]
  },
  {
   "cell_type": "code",
   "execution_count": null,
   "metadata": {},
   "outputs": [],
   "source": [
    "s3 = s1;\n",
    "cout << s3;"
   ]
  },
  {
   "cell_type": "markdown",
   "metadata": {},
   "source": [
    "And two strings can be concatenated using the `+` operator:"
   ]
  },
  {
   "cell_type": "code",
   "execution_count": null,
   "metadata": {},
   "outputs": [],
   "source": [
    "s3 += \" and \" + s2;\n",
    "cout << s3;"
   ]
  },
  {
   "cell_type": "markdown",
   "metadata": {},
   "source": [
    "But the `+` operator can only be used to concatenate two strings. That means it cannot be used to concatenate an integer to a string like we are used to in Java. Uncomment the following code cell to see the error you get when you do that."
   ]
  },
  {
   "cell_type": "code",
   "execution_count": null,
   "metadata": {},
   "outputs": [],
   "source": [
    "// s3 += \" can be \" + 2 + \" dangerous.\";"
   ]
  },
  {
   "cell_type": "markdown",
   "metadata": {},
   "source": [
    "To fix this we have to convert the integer to a string first using the `to_string()` function"
   ]
  },
  {
   "cell_type": "code",
   "execution_count": null,
   "metadata": {},
   "outputs": [],
   "source": [
    "s3 += \" can be \" + to_string(2) + \" dangerous.\";\n",
    "cout << s3;"
   ]
  },
  {
   "cell_type": "markdown",
   "metadata": {},
   "source": [
    "## Iterating over the characters of a string\n",
    "\n",
    "Given a string like this:"
   ]
  },
  {
   "cell_type": "code",
   "execution_count": null,
   "metadata": {},
   "outputs": [],
   "source": [
    "string str = \"To be or not to be\";"
   ]
  },
  {
   "cell_type": "markdown",
   "metadata": {},
   "source": [
    "You can use a `for` loop with either the `at()` function or the square brackets `[]` to iterate over the characters of this string. Note that the first character is at index `0`."
   ]
  },
  {
   "cell_type": "code",
   "execution_count": null,
   "metadata": {},
   "outputs": [],
   "source": [
    "for(int i = 0; i < str.length(); i++){\n",
    "  cout << i << '\\t' << str.at(i) << '\\t' << str[i] << endl;\n",
    "}"
   ]
  },
  {
   "cell_type": "markdown",
   "metadata": {},
   "source": [
    "We could also use the range-based `for` loop for this"
   ]
  },
  {
   "cell_type": "code",
   "execution_count": null,
   "metadata": {
    "scrolled": true
   },
   "outputs": [],
   "source": [
    "for(char c : str){\n",
    "  cout << c << \"  .  \";\n",
    "}"
   ]
  },
  {
   "cell_type": "markdown",
   "metadata": {},
   "source": [
    "## Reading strings from the keyboard\n",
    "While we can use `cin >>` to read a single-word string, it does not work for strings with more than one word separated by spaces or tabs. Try to enter a two- or three-word string for the first name field below. What happens?"
   ]
  },
  {
   "cell_type": "code",
   "execution_count": null,
   "metadata": {},
   "outputs": [],
   "source": [
    "string id, first_name;\n",
    "\n",
    "cout << \"Enter ID Number: \";\n",
    "cin >> id;\n",
    "\n",
    "cout << \"Enter First Name: \";\n",
    "cin >> first_name;\n",
    "\n",
    "cout << \"        ID: \" << id << endl\n",
    "     << \"FIRST NAME: \" << first_name << endl;"
   ]
  },
  {
   "cell_type": "markdown",
   "metadata": {},
   "source": [
    "So how do we read a multiword string from the keyword? The answer is to use the `getline()` function like this"
   ]
  },
  {
   "cell_type": "code",
   "execution_count": null,
   "metadata": {},
   "outputs": [],
   "source": [
    "string full_name;\n",
    "\n",
    "cout << \"Enter ID Number: \";\n",
    "cin >> id;\n",
    "\n",
    "cin.ignore(); // To read the line break at the end of the id before we read the full name\n",
    "cout << \"Enter Full Name: \";\n",
    "getline(cin, full_name);\n",
    "\n",
    "cout << \"       ID: \" << id << endl\n",
    "     << \"FULL NAME: \" << full_name << endl;"
   ]
  },
  {
   "cell_type": "markdown",
   "metadata": {},
   "source": [
    "## Printing to memory using `stringstream`\n",
    "\n",
    "So far every time we want to print something we print it to the console screen using `cout`. What if we want to print to memory. We can use the `stringstream` class from the `<sstream>` header file to do that. This allows us to build a large string one piece at a time.\n",
    "\n",
    "For example, given the structure"
   ]
  },
  {
   "cell_type": "code",
   "execution_count": null,
   "metadata": {},
   "outputs": [],
   "source": [
    "struct Event {\n",
    "   Date from;\n",
    "   Date to;\n",
    "   string name;\n",
    "};"
   ]
  },
  {
   "cell_type": "markdown",
   "metadata": {},
   "source": [
    "and the two events"
   ]
  },
  {
   "cell_type": "code",
   "execution_count": null,
   "metadata": {},
   "outputs": [],
   "source": [
    "Event e1 = { {20, 6, 2019}, {26, 6, 2019}, \"Visit DC\" };\n",
    "Event e2 = { {13, 8, 2019}, {21, 8, 2019}, \"Trip to Europe\"};"
   ]
  },
  {
   "cell_type": "markdown",
   "metadata": {},
   "source": [
    "Here is how to create of these trips using `stringstream`:\n",
    "\n",
    "| FROM      | TO        | TRIP           |\n",
    "| --------- | --------- | -------------- |\n",
    "| 6/20/2019 | 6/26/2019 | Visit DC    |\n",
    "| 8/13/2019 | 8/21/2019 | Trip to Europe |\n",
    "\n",
    "\n",
    "First, we need to include the `<sstream>` header file and define a `stringstream` variable. We'll name this variable `sout`,  but it could be any valid identifier."
   ]
  },
  {
   "cell_type": "code",
   "execution_count": null,
   "metadata": {},
   "outputs": [],
   "source": [
    "#include <sstream>\n",
    "\n",
    "stringstream sout;"
   ]
  },
  {
   "cell_type": "markdown",
   "metadata": {},
   "source": [
    "Now we use `sout` instead of `cout`."
   ]
  },
  {
   "cell_type": "code",
   "execution_count": null,
   "metadata": {},
   "outputs": [],
   "source": [
    "sout << \"FROM      \"  << \"TO        \" << \"TRIP\" << endl;\n",
    "sout << \"-----------------------------------\" << endl;\n",
    "\n",
    "sout << e1.from.month << '/' << e1.from.day << '/' << e1.from.year << \" \"\n",
    "     << e1.to.month << '/' << e1.to.day << '/' << e1.to.year  << \" \"\n",
    "     << e1.name << endl;\n",
    "\n",
    "sout << e2.from.month << '/' << e2.from.day << '/' << e2.from.year << \" \"\n",
    "     << e2.to.month << '/' << e2.to.day << '/' << e2.to.year  << \" \"\n",
    "     << e2.name << endl;"
   ]
  },
  {
   "cell_type": "markdown",
   "metadata": {},
   "source": [
    "Finally, let's save the contents of `sout` to a string using the `str()` function."
   ]
  },
  {
   "cell_type": "code",
   "execution_count": null,
   "metadata": {},
   "outputs": [],
   "source": [
    "string dates = sout.str();"
   ]
  },
  {
   "cell_type": "markdown",
   "metadata": {},
   "source": [
    "To see what was printed to memory, print the `dates` string."
   ]
  },
  {
   "cell_type": "code",
   "execution_count": null,
   "metadata": {},
   "outputs": [],
   "source": [
    "cout << dates;"
   ]
  },
  {
   "cell_type": "markdown",
   "metadata": {},
   "source": [
    "### <a id=\"ch03\">CHALLENGE 03</a>\n",
    "Define a string vector named `words`. In a loop, prompt the user to enter single words or `STOP` to terminate the loop. Push every entered word other than `STOP` into the `words` vector. Print the entered words and their lengths in a table-like format using `setw` into a `stringstream` object and then print its contents to the console."
   ]
  },
  {
   "cell_type": "code",
   "execution_count": null,
   "metadata": {},
   "outputs": [],
   "source": [
    "//TODO"
   ]
  }
 ],
 "metadata": {
  "kernelspec": {
   "display_name": "C++14",
   "language": "C++14",
   "name": "xcpp14"
  },
  "language_info": {
   "codemirror_mode": "text/x-c++src",
   "file_extension": ".cpp",
   "mimetype": "text/x-c++src",
   "name": "c++",
   "version": "14"
  }
 },
 "nbformat": 4,
 "nbformat_minor": 2
}
