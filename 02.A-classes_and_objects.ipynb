{
 "cells": [
  {
   "cell_type": "markdown",
   "metadata": {},
   "source": [
    "### Learning Objectives\n",
    "* To define classes and create objects.\n",
    "* To overload operators.\n",
    "\n",
    "### Instructions\n",
    "Read and study the following sections, run their code examples and solve their challenges. This worksheet has the following challenges:\n",
    "* [CHALLENGE 01](#ch01)\n",
    "\n",
    "Run your coding challenges and fix any errors they might have before downloading and submitting your completed worksheet for grading. When done, open the menu **File >> Download as >> HTML (.html)** to download your worksheet in HTML format. **Submit the downloaded *.html* file via Canvas**.\n",
    "\n",
    "# Classes and Objects\n",
    "\n",
    "At the core of OOP are **classes** which represent real-world entities by bringing together their attributes and behaviors. We call this **encapsulation**. In C++, attributes are modeled with variables; they are called data members.  Behaviors are modeled with functions, which we call member functions. \n",
    "\n",
    "Classes also provide a way to organize code. with each class containing both data and function members: some **public** and some **private**. And the ability to use classes to make other classes or to have classes inherit from other classes allows us to minimize code repetition and improve code reuse, both of which are important software-engineering goals.\n",
    "\n",
    "Here is a simple class example:"
   ]
  },
  {
   "cell_type": "code",
   "execution_count": 1,
   "metadata": {},
   "outputs": [],
   "source": [
    "#include <iostream>\n",
    "#include <iomanip>\n",
    "#include <string>\n",
    "using namespace std;"
   ]
  },
  {
   "cell_type": "code",
   "execution_count": 2,
   "metadata": {},
   "outputs": [],
   "source": [
    "class SimpleClass {\n",
    "private:\n",
    "  int someData;\n",
    "\n",
    "public:\n",
    "  void setData(int d){ \n",
    "      someData = d; \n",
    "  }\n",
    "    \n",
    "  void showData(){\n",
    "    cout << \"Data is \" << someData << endl;\n",
    "  }\n",
    "};"
   ]
  },
  {
   "cell_type": "markdown",
   "metadata": {},
   "source": [
    "The `SimpleClass` has a single data member (an attribute) named `someData` and two member functions (behaviors): `setData` and `showData`. The class is divided into two sections: `private` and `public`. Members under the `private` section are private which means they cannot be used outside of the class. Public members can be used inside and outside the class.\n",
    "\n",
    "It's a common practice to have the data members of the class as private so as to protect them being seen outside the class while making the member functions public.\n",
    "\n",
    "Once we have a class, we can use it to create objects. For example:"
   ]
  },
  {
   "cell_type": "code",
   "execution_count": 3,
   "metadata": {},
   "outputs": [],
   "source": [
    "SimpleClass s1, s2; // Creating two objects"
   ]
  },
  {
   "cell_type": "markdown",
   "metadata": {},
   "source": [
    "We can use the **dot operator** to access the public members of these objects."
   ]
  },
  {
   "cell_type": "code",
   "execution_count": 4,
   "metadata": {},
   "outputs": [
    {
     "name": "stdout",
     "output_type": "stream",
     "text": [
      "Data is 500\n",
      "Data is 187\n"
     ]
    }
   ],
   "source": [
    "s1.setData(500);\n",
    "s2.setData(187);\n",
    "s1.showData();\n",
    "s2.showData();"
   ]
  },
  {
   "cell_type": "markdown",
   "metadata": {},
   "source": [
    "We cannot, however, from outside the `SimpleClass` access its private member `someData`. Trying to do so results in errors. Uncomment the following to see these errors."
   ]
  },
  {
   "cell_type": "code",
   "execution_count": 5,
   "metadata": {},
   "outputs": [],
   "source": [
    "/*\n",
    "cout << s1.someData;\n",
    "cout << s2.someData;\n",
    "*/"
   ]
  },
  {
   "cell_type": "markdown",
   "metadata": {},
   "source": [
    "## Class constructors\n",
    "\n",
    "Here is a class that can be used to represent dates. The name of the class is `DateClass`. It has three private data members: `month`, `day`, and `year`. It also has two member functions: `setDate` which is used to set the values of the `month`, `day`, and `year`  members, and `showDate` which prints the date object in a MM/DD/YY format. "
   ]
  },
  {
   "cell_type": "code",
   "execution_count": 6,
   "metadata": {},
   "outputs": [],
   "source": [
    "class DateClass {\n",
    "private:\n",
    "    int month, day, year;\n",
    "public:\n",
    "    void setDate(int mm, int dd, int yyyy){\n",
    "        month = mm;\n",
    "        day = dd;\n",
    "        year = yyyy;\n",
    "    }\n",
    "\n",
    "\n",
    "    void showDate() {\n",
    "        cout << \"The date is \" << setfill('0')\n",
    "             << setw(2) << month << '/'\n",
    "             << setw(2) << day << '/'\n",
    "             << setw(2) << year % 100 << endl;\n",
    "    }\n",
    "};"
   ]
  },
  {
   "cell_type": "markdown",
   "metadata": {},
   "source": [
    "Here is this class being used to create a date object:"
   ]
  },
  {
   "cell_type": "code",
   "execution_count": 7,
   "metadata": {},
   "outputs": [
    {
     "name": "stdout",
     "output_type": "stream",
     "text": [
      "The date is 10/12/18\n"
     ]
    }
   ],
   "source": [
    "DateClass d;\n",
    "d.setDate(10, 12, 2018);\n",
    "d.showDate();"
   ]
  },
  {
   "cell_type": "markdown",
   "metadata": {},
   "source": [
    "Having to write two statements (or more) to create and initialize an object is too much especially if we have to do this for every object we create. Instead of:\n",
    "\n",
    "```c++\n",
    "DateClass d;\n",
    "d.setDate(10, 12, 2018);\n",
    "```\n",
    "can we have something like this?\n",
    "\n",
    "```c++\n",
    "DateClass d(10, 12, 2018);\n",
    "```\n",
    "\n",
    "It turns out: YES we can, thanks to **class constructors**. But what is a **constructor**?\n",
    "\n",
    "A constructor is a special member function with the following properties:\n",
    "* It has the same name as the class. So, our previous `DateClass` would have a constructor whose name is also `DateClass`\n",
    "* It has no return type (not even `void`) and therefore cannot return anything.\n",
    "* It gets called automatically by C++ when objects are created.\n",
    "\n",
    "Here is a class with a single no-argument constructor. This constructor initializes the private data members `count`, and `step` to 0 and 1 respectively. "
   ]
  },
  {
   "cell_type": "code",
   "execution_count": 8,
   "metadata": {},
   "outputs": [],
   "source": [
    "class Counter {\n",
    "private:\n",
    "    unsigned int count;\n",
    "    int step;\n",
    "public:\n",
    "    Counter() : count(0), step(1) { // The constructor\n",
    "        cout << \"init -> count: \" << count << \", step: \"  << step << endl;\n",
    "    }\n",
    "\n",
    "    void increment() { \n",
    "        count += step; \n",
    "    }\n",
    "    \n",
    "    int current() { \n",
    "        return count; \n",
    "    }\n",
    "\n",
    "    ~Counter() { // The destructor\n",
    "        cout << \"fini -> count: \" << count << \", step: \"  << step << endl;\n",
    "    }\n",
    "};"
   ]
  },
  {
   "cell_type": "markdown",
   "metadata": {},
   "source": [
    "Again the constructor has the same name as the class. This constructor also looks different from other functions. It has a colon `:` right after the parentheses followed by `count(0), step(1)`) which looks like two function calls but they are not. We call what is between the colon `:` and the opening brace `{` of the constructor an **initializer list**, which is a comma-separated list of initializations (like `count(0)` and `step(l)`) typically one for each data member. In this example, `count(0)` tells C++ to set the value of the `count` data member to 0. Similarly, `step(1)` tells C++ to set the value of the `step` data member to 1. This **initializer list** `: count(0), step(1)`  makes sure that data members `count` and `step` are initialized to the correct values at the time of creating an object. \n",
    "\n",
    "The body of the constructor in this example is between the curly braces `{}`. Any code inside these braces will run but right after the object has been created. \n",
    "\n",
    "In C++, it is highly recommended that you initialize your data members using an **initializer list** instead of inside the constructor's curly braces `{}`.\n",
    "\n",
    "To see this class in action, let us create an object of it. "
   ]
  },
  {
   "cell_type": "code",
   "execution_count": 9,
   "metadata": {},
   "outputs": [
    {
     "name": "stdout",
     "output_type": "stream",
     "text": [
      "init -> count: 0, step: 1\n"
     ]
    }
   ],
   "source": [
    "Counter c;\n",
    "c.increment();\n",
    "c.increment();\n",
    "c.increment();\n",
    "c.increment();"
   ]
  },
  {
   "cell_type": "markdown",
   "metadata": {},
   "source": [
    "Alternatively we can create an object dynamically using the `new` operator and then use the arrow `->` operator to call the `increment` function."
   ]
  },
  {
   "cell_type": "code",
   "execution_count": 10,
   "metadata": {},
   "outputs": [
    {
     "name": "stdout",
     "output_type": "stream",
     "text": [
      "init -> count: 0, step: 1\n"
     ]
    }
   ],
   "source": [
    "Counter *cptr = new Counter;\n",
    "cptr->increment();\n",
    "cptr->increment();\n",
    "cptr->increment();\n",
    "cptr->increment();"
   ]
  },
  {
   "cell_type": "markdown",
   "metadata": {},
   "source": [
    "## Class descructors\n",
    "\n",
    "C++ allows classes to define another special function called the **destructor**, which gets called automatically when an object is destroyed (using the `delete` operator) or goes out of scope. This destructor:\n",
    "* has a name that starts with the tilde `~` character followed by the same name as the class \n",
    "* it does not take any arguments\n",
    "* it has no return type\n",
    "\n",
    "Here is an example destructor forn the `Counter` class above:\n",
    "\n",
    "```c++\n",
    "    ~Counter() { // The destructor\n",
    "        cout << \"fini -> count: \" << count << \", step: \"  << step << endl;\n",
    "    }\n",
    "```\n",
    "\n",
    "To see the destructor in action, we can create an object inside curly braces to force it to go out of scope."
   ]
  },
  {
   "cell_type": "code",
   "execution_count": 11,
   "metadata": {},
   "outputs": [
    {
     "name": "stdout",
     "output_type": "stream",
     "text": [
      "init -> count: 0, step: 1\n",
      "fini -> count: 4, step: 1\n"
     ]
    }
   ],
   "source": [
    "{\n",
    "    Counter c;\n",
    "    c.increment();\n",
    "    c.increment();\n",
    "    c.increment();\n",
    "    c.increment();\n",
    "}"
   ]
  },
  {
   "cell_type": "markdown",
   "metadata": {},
   "source": [
    "Alternatively, we can create an object using the `new` operator and then `delete` it at the end"
   ]
  },
  {
   "cell_type": "code",
   "execution_count": 12,
   "metadata": {},
   "outputs": [
    {
     "name": "stdout",
     "output_type": "stream",
     "text": [
      "init -> count: 0, step: 1\n",
      "fini -> count: 3, step: 1\n"
     ]
    }
   ],
   "source": [
    "Counter *c2 = new Counter;\n",
    "\n",
    "c2->increment();\n",
    "c2->increment();\n",
    "c2->increment();\n",
    "\n",
    "delete c2;"
   ]
  },
  {
   "cell_type": "markdown",
   "metadata": {},
   "source": [
    "It is important to remember here that C++ will supply a **default constructor** with zero arguments and blank body to every class that does not define any constructor. C++ will also supply a **default destructor** for each class that does not provide one.\n",
    "\n",
    "## Overloaded constructors\n",
    "\n",
    "In C++, a class can have more than one constructor. This is because there might be more than one way to create objects of that class. We call these multiple constructors **overloaded constructors**.  \n",
    "\n",
    "On the other hand, unlike constructors, a destructor cannot be overloaded and a class can only have one destructor.\n",
    "\n",
    "Here is another date class with more than one constuctor."
   ]
  },
  {
   "cell_type": "code",
   "execution_count": 13,
   "metadata": {},
   "outputs": [],
   "source": [
    "class Date {\n",
    "private:\n",
    "    int month, day, year;\n",
    "public:\n",
    "    Date() : month(1), day(1), year(1900) {} // Constructor # 1\n",
    "    Date(int mm, int dd, int yy) : month(mm), day(dd), year(yy) {}  // Constructor # 2\n",
    "\n",
    "    void showDate() {\n",
    "        cout << \"The date is \" << setfill('0')\n",
    "             << setw(2) << month << '/'\n",
    "             << setw(2) << day << '/'\n",
    "             << setw(2) << year % 100 << endl;\n",
    "    }\n",
    "\n",
    "    ~Date(){} // Destructor\n",
    "};"
   ]
  },
  {
   "cell_type": "markdown",
   "metadata": {},
   "source": [
    "Keep in mind that it is OK for a constructor or a destructor to have an empty body as you see here.\n",
    "\n",
    "Having these two constructors gives us two ways to create objects, one for each constructor."
   ]
  },
  {
   "cell_type": "code",
   "execution_count": 14,
   "metadata": {},
   "outputs": [
    {
     "name": "stdout",
     "output_type": "stream",
     "text": [
      "The date is 01/01/00\n",
      "The date is 02/17/19\n"
     ]
    }
   ],
   "source": [
    "// Using constructor #1\n",
    "Date d1;\n",
    "d1.showDate();\n",
    "\n",
    "// Using constructor #2\n",
    "Date d2(2, 17, 2019);\n",
    "d2.showDate();"
   ]
  },
  {
   "cell_type": "markdown",
   "metadata": {},
   "source": [
    "We also have two ways to create date objects using the `new` operator."
   ]
  },
  {
   "cell_type": "code",
   "execution_count": 15,
   "metadata": {},
   "outputs": [
    {
     "name": "stdout",
     "output_type": "stream",
     "text": [
      "The date is 01/01/00\n",
      "The date is 02/17/19\n"
     ]
    }
   ],
   "source": [
    "// Using constructor #1\n",
    "Date *d3 = new Date;\n",
    "d3->showDate();\n",
    "\n",
    "// Using constructor #1\n",
    "Date *d4 = new Date(2, 17, 2019);\n",
    "d4->showDate();\n",
    "\n",
    "delete d3, d4;"
   ]
  },
  {
   "cell_type": "markdown",
   "metadata": {},
   "source": [
    "As a final example, here is another, more complete, counter class."
   ]
  },
  {
   "cell_type": "code",
   "execution_count": 16,
   "metadata": {},
   "outputs": [],
   "source": [
    "class BetterCounter{\n",
    "private:\n",
    "    unsigned count; int step;\n",
    "public:\n",
    "    BetterCounter() : count(0), step(1){} // Constructor # 1\n",
    "    BetterCounter(unsigned c) : count(c), step(1){} // Constructor # 2\n",
    "    BetterCounter(unsigned c, int s) : count(c), step(s){} // Constructor # 3\n",
    "    \n",
    "    void increment(){ count = count + step; }\n",
    "    int current(){ return count; }\n",
    "    \n",
    "    ~BetterCounter(){} // // Destructor\n",
    "};"
   ]
  },
  {
   "cell_type": "markdown",
   "metadata": {},
   "source": [
    "And here is an example object of this new class. "
   ]
  },
  {
   "cell_type": "code",
   "execution_count": 17,
   "metadata": {},
   "outputs": [
    {
     "name": "stdout",
     "output_type": "stream",
     "text": [
      "12"
     ]
    }
   ],
   "source": [
    "BetterCounter* bc = new BetterCounter(11);\n",
    "bc->increment();\n",
    "cout << bc->current();\n",
    "delete bc;"
   ]
  },
  {
   "cell_type": "markdown",
   "metadata": {},
   "source": [
    "## `const` member functions\n",
    "In C++, it is recommended to make any member function that does not change the data members of the object it's called on a `const` function. This is to prevent accidental changes to objects from happening and to be explicit about what these functions can and cannot do. To make a member function `const`, we add the `const` keyword to the end of the function header (right after the parenthesis-enclosed parameter list). Notice that this `const` keyword at the end of the function header is a part of the function signature and needs to be in both the function prototype and the function definition.\n",
    "\n",
    "Here is another version of the `Date` class with the `showDate` function being a `const` function by adding `const` to the end of its header in both of its prototype and definition. We do this because this function is not supposed to change the date object; it only displays it in a certain format."
   ]
  },
  {
   "cell_type": "code",
   "execution_count": 18,
   "metadata": {},
   "outputs": [],
   "source": [
    "class Date2 {\n",
    "private:\n",
    "    int month, day, year;\n",
    "public:\n",
    "    Date2() : month(1), day(1), year(1900) {} // Constructor # 1\n",
    "    Date2(int mm, int dd, int yy) : month(mm), day(dd), year(yy) {}  // Constructor # 2\n",
    "\n",
    "    void showDate() const; // A const function prototype\n",
    "\n",
    "    ~Date2(){} // Destructor\n",
    "};"
   ]
  },
  {
   "cell_type": "code",
   "execution_count": 19,
   "metadata": {},
   "outputs": [],
   "source": [
    "// A const function definition\n",
    "void Date2::showDate() const {\n",
    "    cout << \"The date is \" << setfill('0')\n",
    "         << setw(2) << month << '/'\n",
    "         << setw(2) << day << '/'\n",
    "         << setw(2) << year % 100 << endl;\n",
    "}"
   ]
  },
  {
   "cell_type": "markdown",
   "metadata": {},
   "source": [
    "Another common example of `const` functions is the class **accessor** or **getter** functions."
   ]
  },
  {
   "cell_type": "markdown",
   "metadata": {},
   "source": [
    "## Objects on the stack vs objects on the heap\n",
    "Under memory management, we talked about having two kinds of objects: those defined in the stack and those in the heap. Here are few example objects defined in the stack:\n",
    "\n",
    "```c++\n",
    "DateClass d;\n",
    "Counter c;\n",
    "Date d1;\n",
    "Date d2(2, 17, 2019);\n",
    "BetterCounter bc(11);\n",
    "```\n",
    "\n",
    "For stack objects, we the use the **dot operator** to access their public members. For example:\n",
    "\n",
    "```C++\n",
    "d.setDate(10, 12, 2018);\n",
    "d.showDate();\n",
    "c.increment();\n",
    "d1.showDate();\n",
    "d2.showDate();\n",
    "bc.increment();\n",
    "cout << bc.current();\n",
    "```\n",
    "\n",
    "Objects defined in the heap are created dynamically using the `new` operator. These objects are pointers and must be returned back to the operating system when they are no longer needed using the `delete` operator. Here are some example objects defined in the heap:\n",
    "\n",
    "```c++\n",
    "DateClass *d4 = new DateClass;\n",
    "Counter *c2 = new Counter;\n",
    "Date *d5 = new Date;\n",
    "Date *d6 = new Date(2, 17, 2019);\n",
    "BetterCounter *bc2 = new BetterCounter(11);\n",
    "```\n",
    "\n",
    "Because these heap objects are pointers, we use the **arrow operator** `->` to access their public members:\n",
    "\n",
    "```C++\n",
    "d4->setDate(10, 12, 2018);\n",
    "d4->showDate();\n",
    "c2->increment();\n",
    "d5->showDate();\n",
    "d6->showDate();\n",
    "bc2->increment();\n",
    "cout << bc2->current();\n",
    "```\n",
    "\n",
    "And when these heap objects are no longer needed, they must be *destroyed* or returned back to the operating system using the `delete` operator.\n",
    "\n",
    "```C++\n",
    "delete d4;\n",
    "delete c2;\n",
    "delete d5;\n",
    "delete d6;\n",
    "delete bc2;\n",
    "```"
   ]
  },
  {
   "cell_type": "markdown",
   "metadata": {},
   "source": [
    "## Copy constructors\n",
    "If a class does not define any constructor, the C++ compiler provides it with a no-argument default constructor that does basically nothing. \n",
    "\n",
    "There is another constructor that C++ provides for classes by default. It's the constructor that allows us to create a new object that is a copy of an existing object. "
   ]
  },
  {
   "cell_type": "code",
   "execution_count": 20,
   "metadata": {},
   "outputs": [],
   "source": [
    "#include <iostream>\n",
    "using namespace std;"
   ]
  },
  {
   "cell_type": "code",
   "execution_count": 21,
   "metadata": {},
   "outputs": [],
   "source": [
    "class Date3 {\n",
    "private:\n",
    "    int month, day, year;\n",
    "public:\n",
    "    Date3() : Date3(1, 1, 19900) {} // Constructor # 1\n",
    "    Date3(int mm, int dd, int yy) : month(mm), day(dd), year(yy) {}  // Constructor # 2\n",
    "\n",
    "    void showDate() {\n",
    "        cout << \"The date is \" << setfill('0')\n",
    "             << setw(2) << month << '/'\n",
    "             << setw(2) << day << '/'\n",
    "             << setw(2) << year % 100 << endl;\n",
    "    }\n",
    "\n",
    "    ~Date3(){} // Destructor\n",
    "};"
   ]
  },
  {
   "cell_type": "markdown",
   "metadata": {},
   "source": [
    "And here are two objects of this class:"
   ]
  },
  {
   "cell_type": "code",
   "execution_count": 22,
   "metadata": {},
   "outputs": [
    {
     "name": "stdout",
     "output_type": "stream",
     "text": [
      "The date is 08/12/19\n",
      "The date is 09/23/19\n"
     ]
    }
   ],
   "source": [
    "Date3 day(8,12, 2019);\n",
    "Date3 anotherDay = Date3(9, 23, 2019);\n",
    "day.showDate();\n",
    "anotherDay.showDate();"
   ]
  },
  {
   "cell_type": "markdown",
   "metadata": {},
   "source": [
    "We can use the copy constructor supplied by the compiler by default to make copies of `day` and `anotherDay`. This constructor copies the values of the data members from the source objects to the target objects."
   ]
  },
  {
   "cell_type": "code",
   "execution_count": 23,
   "metadata": {
    "scrolled": true
   },
   "outputs": [
    {
     "name": "stdout",
     "output_type": "stream",
     "text": [
      "The date is 08/12/19\n",
      "The date is 09/23/19\n"
     ]
    }
   ],
   "source": [
    "Date3 dayCopy(day);\n",
    "Date3 anotherDayCopy = anotherDay;\n",
    "dayCopy.showDate();\n",
    "anotherDayCopy.showDate();"
   ]
  },
  {
   "cell_type": "markdown",
   "metadata": {},
   "source": [
    "Notice from the example above that we two ways to create object copies: one without the assignment operator `=` and one with it."
   ]
  },
  {
   "cell_type": "markdown",
   "metadata": {},
   "source": [
    "## The `this` pointer\n",
    "\n",
    "Every object has its own copies of the data members. All objects of the same class share the same definitions of the class member functions. The question is how are the proper data members are accessed and updated by functions if functions are shared by all objects. To answer that, the compiler passes an implicit pointer named `this` as a hidden argument to all nonstatic member function. Such a pointer is available as a local variable within the body of all nonstatic functions. The `this` pointer is a constant pointer that holds the memory address of the current object, and, through it, you can access the actual data members of that object.  \n",
    "\n",
    "Because `this` is a pointer to the current object,\n",
    "* Using the **dereference operator** `*`, we can use the expression `*this` to get the actual object.\n",
    "* Using the **arrow operator**, we can use expressions like `this->feet` or `this->inches` to access the data members of the actual object.\n",
    "\n",
    "Here is another version of the distance class above using the `this` pointer. The expression `this->feet` mean the `feet` data member of this current object."
   ]
  },
  {
   "cell_type": "code",
   "execution_count": 24,
   "metadata": {},
   "outputs": [
    {
     "name": "stdout",
     "output_type": "stream",
     "text": [
      "0' 0\"\n",
      "2' 5\"\n",
      "5' 5\"\n",
      "6' 2\"\n"
     ]
    }
   ],
   "source": [
    "class DistanceClass3{\n",
    "private:\n",
    "    int feet;\n",
    "    int inches;\n",
    "\n",
    "public:\n",
    "    DistanceClass3(): feet(0), inches(0){}\n",
    "    DistanceClass3(int f, int n): feet(f), inches(n){}\n",
    "    void add(const DistanceClass3& d){\n",
    "        this->feet += d.feet + (this->inches + d.inches) / 12;\n",
    "        this->inches = (this->inches + d.inches) % 12;\n",
    "    }\n",
    "    void add(int feet){\n",
    "        this->feet += feet;\n",
    "    }\n",
    "    void add(int feet, int inches){\n",
    "        this->feet += feet + (this->inches + inches) / 12;\n",
    "        this->inches = (this->inches + inches) % 12;\n",
    "    }\n",
    "    \n",
    "    void show(){\n",
    "        cout << this->feet << \"' \" << this->inches << \"\\\"\" << endl;\n",
    "    }\n",
    "};\n",
    "\n",
    "DistanceClass3 dist1;\n",
    "DistanceClass3 *dist2 = new DistanceClass3(2, 5);\n",
    "\n",
    "dist1.show();\n",
    "dist1.add(*dist2);\n",
    "dist1.show();\n",
    "dist1.add(3);\n",
    "dist1.show();\n",
    "dist1.add(0, 9);\n",
    "dist1.show();\n",
    "\n",
    "delete dist2;"
   ]
  },
  {
   "cell_type": "markdown",
   "metadata": {},
   "source": [
    "Using the `this` pointer, we can design our class functions in a way that supports chaining multiple calls in the same line. For example we can re-design the distance class above to allow for replacing the following multiple lines of function calls:\n",
    "\n",
    "```c++\n",
    "dist1.show();\n",
    "dist1.add(*dist2);\n",
    "dist1.show();\n",
    "dist1.add(3);\n",
    "dist1.show();\n",
    "dist1.add(0, 9);\n",
    "dist1.show();\n",
    "```\n",
    "\n",
    "with this single line of **chained** calls:\n",
    "\n",
    "```c++\n",
    "dist1.show().add(*dist2).show().add(3).show().add(0, 9).show();\n",
    "```\n",
    "\n",
    "Here is what this revised class would look like. Notice that all the member functions are now returning a reference to the current object (thanks to the `*this` expression) instead of `void`."
   ]
  },
  {
   "cell_type": "code",
   "execution_count": 25,
   "metadata": {},
   "outputs": [],
   "source": [
    "class DistanceClass4{\n",
    "private:\n",
    "    int feet;\n",
    "    int inches;\n",
    "\n",
    "public:\n",
    "    DistanceClass4(): feet(0), inches(0){}\n",
    "    DistanceClass4(int feet, int inches): feet(feet), inches(inches){}\n",
    "    DistanceClass4& add(const DistanceClass4& d){\n",
    "        this->feet += d.feet + (this->inches + d.inches) / 12;\n",
    "        this->inches = (this->inches + d.inches) % 12;\n",
    "        return *this;\n",
    "    }\n",
    "    DistanceClass4& add(int feet){\n",
    "        this->feet += feet;\n",
    "        return *this;\n",
    "    }\n",
    "    DistanceClass4& add(int feet, int inches){\n",
    "        this->feet += feet + (this->inches + inches) / 12;\n",
    "        this->inches = (this->inches + inches) % 12;\n",
    "        return *this;\n",
    "    }\n",
    "    \n",
    "    DistanceClass4& show(){\n",
    "        cout << this->feet << \"' \" << this->inches << \"\\\"\" << endl;\n",
    "        return *this;\n",
    "    }\n",
    "};"
   ]
  },
  {
   "cell_type": "markdown",
   "metadata": {},
   "source": [
    "Which allows us to chain calls like this:"
   ]
  },
  {
   "cell_type": "code",
   "execution_count": 26,
   "metadata": {
    "scrolled": true
   },
   "outputs": [
    {
     "name": "stdout",
     "output_type": "stream",
     "text": [
      "0' 0\"\n",
      "2' 5\"\n",
      "5' 5\"\n",
      "6' 2\"\n"
     ]
    }
   ],
   "source": [
    "DistanceClass4 dst1;\n",
    "DistanceClass4 *dst2 = new DistanceClass4(2, 5);\n",
    "\n",
    "dst1.show().add(*dst2).show().add(3).show().add(0, 9).show();"
   ]
  },
  {
   "cell_type": "markdown",
   "metadata": {},
   "source": [
    "which, from a software engineering perspective, is shorter and more elegant."
   ]
  },
  {
   "cell_type": "markdown",
   "metadata": {},
   "source": [
    "\n",
    "# Operator Overloading\n",
    "\n",
    "Early on in this course, we learned about the basic (primitive) data types that C++ supports such as `int`, `short`, `long`, `double`, and `float`. These data types support  certain operators such as `+`, `-`, `*`, and `/`, and `%` which allow us to do something like this: "
   ]
  },
  {
   "cell_type": "code",
   "execution_count": 27,
   "metadata": {},
   "outputs": [],
   "source": [
    "#include <iostream>\n",
    "using namespace std;"
   ]
  },
  {
   "cell_type": "code",
   "execution_count": 28,
   "metadata": {},
   "outputs": [
    {
     "name": "stdout",
     "output_type": "stream",
     "text": [
      "13\n",
      "1\n",
      "12\n",
      "3\n",
      "1\n",
      "3.5\n"
     ]
    }
   ],
   "source": [
    "cout << 6 + 7   << endl \n",
    "     << 6 - 5   << endl\n",
    "     << 4 * 3   << endl\n",
    "     << 7 / 2   << endl    // Integer division\n",
    "     << 7 % 2   << endl    // Remainder\n",
    "     << 7 / 2.0 << endl;"
   ]
  },
  {
   "cell_type": "markdown",
   "metadata": {},
   "source": [
    "These basic types also support relational operators such as `<`, `>`, `<=`, `>=`, `==`, and `!=` or logical operators such as `&&` (AND), `||` (OR), and `!` (NOT). This allows us to do something like this:"
   ]
  },
  {
   "cell_type": "code",
   "execution_count": 29,
   "metadata": {},
   "outputs": [
    {
     "name": "stdout",
     "output_type": "stream",
     "text": [
      "1\n",
      "1\n",
      "1\n",
      "1\n",
      "1\n",
      "1\n"
     ]
    }
   ],
   "source": [
    "cout << (6 < 7) << endl\n",
    "     << (7 > 5) << endl\n",
    "     << (4 >= 3) << endl\n",
    "     << (2 <= 7) << endl\n",
    "     << (9 == 9) << endl\n",
    "     << (7.1 != 2.0) << endl;"
   ]
  },
  {
   "cell_type": "markdown",
   "metadata": {},
   "source": [
    "or"
   ]
  },
  {
   "cell_type": "code",
   "execution_count": 30,
   "metadata": {},
   "outputs": [
    {
     "name": "stdout",
     "output_type": "stream",
     "text": [
      "1\n",
      "1\n"
     ]
    }
   ],
   "source": [
    "int x = 4;\n",
    "cout << (x < 7 || x > 5) << endl;\n",
    "cout << (x != 5 && x != 7) << endl;"
   ]
  },
  {
   "cell_type": "markdown",
   "metadata": {},
   "source": [
    "There are the also the assignment operators that allow us to do something like this:"
   ]
  },
  {
   "cell_type": "code",
   "execution_count": 31,
   "metadata": {},
   "outputs": [
    {
     "name": "stdout",
     "output_type": "stream",
     "text": [
      "37, 30, 60, 20, 2\n"
     ]
    }
   ],
   "source": [
    "int ans = 27;\n",
    "\n",
    "ans += 10; \n",
    "cout << ans << \", \";\n",
    "ans -= 7; \n",
    "cout << ans << \", \";\n",
    "ans *= 2;\n",
    "cout << ans << \", \";\n",
    "ans /= 3;\n",
    "cout << ans << \", \";\n",
    "ans %= 3; \n",
    "cout << ans << endl;"
   ]
  },
  {
   "cell_type": "markdown",
   "metadata": {},
   "source": [
    "There are also the assignment operators that allow us to do something like this:"
   ]
  },
  {
   "cell_type": "code",
   "execution_count": 32,
   "metadata": {},
   "outputs": [
    {
     "name": "stdout",
     "output_type": "stream",
     "text": [
      "count=10\n",
      "count=11\n",
      "count=11\n",
      "count=11\n",
      "count=12\n"
     ]
    }
   ],
   "source": [
    "int count = 10;\n",
    "\n",
    "cout << \"count=\" << count << endl; \n",
    "cout << \"count=\" << ++count << endl;\n",
    "cout << \"count=\" << count << endl; \n",
    "cout << \"count=\" << count++ << endl;\n",
    "cout << \"count=\" << count << endl; "
   ]
  },
  {
   "cell_type": "markdown",
   "metadata": {},
   "source": [
    "The great thing about these operators is that they make using integers and decimals easy and efficient. The question is can we use these operators with objects of our own classes. For example, given two distance objects:\n",
    "\n",
    "```c++\n",
    "Distance d1, d2;\n",
    "``` \n",
    "can we do this:\n",
    "\n",
    "```c++\n",
    "Distance d3 = d1 + d2;\n",
    "```\n",
    "instead of:\n",
    "\n",
    "```c++\n",
    "Distance d3 = Distance.add(d1, d2);\n",
    "```\n",
    "The answer is: YES, we can, BUT we have to tell the C++ compiler how these operators should work for objects of our own classes. C++ calls this **operator overloading**, and being able to overload operators sets C++ apart from many languages and gives a lot of power and flexibility.\n",
    "\n",
    "Overloading operators involves thinking of them as functions. For example, having two objects `a` and `b` we can think of the expression `a + b` as `a.operator+(b)`. Similarly the unary operator `++` can be thought of as `a.operator++()`. We can also think of the extraction operator in the expression `cout << \"hello\"` as `operator<<(cout, \"hello\")` and so on. "
   ]
  },
  {
   "cell_type": "markdown",
   "metadata": {},
   "source": [
    "## Two ways to overload operators\n",
    "\n",
    "C++ gives us two ways to overload operators in our classes: \n",
    "* using member functions\n",
    "* Using friend functions\n",
    "\n",
    "Let us go through an example, first. Here we have a class like this:"
   ]
  },
  {
   "cell_type": "code",
   "execution_count": 33,
   "metadata": {},
   "outputs": [],
   "source": [
    "class Counter3 {\n",
    "private:\n",
    "     int count;\n",
    "     int initial;\n",
    "protected:\n",
    "     int step;\n",
    "public:\n",
    "    Counter3(int i): initial(i), count(i), step(1){}\n",
    "    int next(){ return count += step; }\n",
    "    int prev(){ return count -= step; }\n",
    "    int current(){ return count; }\n",
    "    void reset(){ count = initial; }\n",
    "};"
   ]
  },
  {
   "cell_type": "markdown",
   "metadata": {},
   "source": [
    "And we think it makes sense to use the operator ++ to mean `next()` and -- to mean `prev()` and would like the following code to work. Right now it does not. Uncomment the following code cell to see what kind of errors you are getting."
   ]
  },
  {
   "cell_type": "code",
   "execution_count": 34,
   "metadata": {
    "scrolled": false
   },
   "outputs": [],
   "source": [
    "/*\n",
    "Counter c(0);\n",
    "++c; // equivalent ot calling c.next()\n",
    "--c; // equivalent to calling c.prev()\n",
    "cout << c; // Prints the current value of the counter\n",
    "*/"
   ]
  },
  {
   "cell_type": "markdown",
   "metadata": {},
   "source": [
    "To make operators `++`, `--`, and `<<` work for counter objects, the `Counter` class must overload these operators\n",
    "\n",
    "From the above coding challenge, we can think of these operators as functions like this:\n",
    "* `++c` is equivalent to `c.operator++()`\n",
    "* `--c` is equivalent to `c.operator--()`\n",
    "* `cout << c` is equivalent to `operator++(cout, c)`\n",
    "\n",
    "Now we look at the leftmost operands for these operators. For both `++` and `--`, `c`,  which is a `Counter` object, is the leftmost operand. For the `<<` operand,  `cout` is leftmost operand.\n",
    "\n",
    "Because the object `c` belongs to our own `Counter` class and we can easily add functions to it, we use member functions to overload the `++` and `--` operators.\n",
    "\n",
    "On the other side, `cout` is an output stream object of a class given to us by the C++ standard library to which we cannot add member functions. Therefore we use a friend function instead to overload the `<<` operator.\n",
    "\n",
    "In C++, all operator-overloading functions (member or friend) must have a name that starts with the keyword `operator` followed by the operator symbol(s).\n",
    "\n",
    "Here is the `Counter` class after overloading the `++`, `--`, and `<<` operators. I changed the class name to `Counter4` so it does not conflict with the class `Counter3` above."
   ]
  },
  {
   "cell_type": "code",
   "execution_count": 35,
   "metadata": {},
   "outputs": [],
   "source": [
    "class Counter4 {\n",
    "private:\n",
    "     int count;\n",
    "     int initial;\n",
    "protected:\n",
    "     int step;\n",
    "public:\n",
    "    Counter4(int i): initial(i), count(i), step(1){}\n",
    "    int next(){ return count += step; }\n",
    "    int prev(){ return count -= step; }\n",
    "    int current(){ return count; }\n",
    "    void reset(){ count = initial; }\n",
    "    \n",
    "    int operator++(){ return next(); } // Overloads prefix ++\n",
    "    int operator--(){ return prev(); } // Overloads prefix --\n",
    "    \n",
    "    friend ostream& operator<<(ostream& out, Counter4& c){ // Overloads <<\n",
    "        out << c.count;\n",
    "        return out;\n",
    "    } \n",
    "};"
   ]
  },
  {
   "cell_type": "markdown",
   "metadata": {},
   "source": [
    "Having these operator functions tells the C++ compiler what to do when it sees these the `++`, `--`, and `<<` operators used for objects of the `Counter2` class. In other words, we can now run the following code without errors:"
   ]
  },
  {
   "cell_type": "code",
   "execution_count": 36,
   "metadata": {},
   "outputs": [
    {
     "name": "stdout",
     "output_type": "stream",
     "text": [
      "12"
     ]
    }
   ],
   "source": [
    "Counter4 cnt(10);\n",
    "++cnt;\n",
    "--cnt;\n",
    "++cnt;\n",
    "++cnt;\n",
    "cout << cnt;"
   ]
  },
  {
   "cell_type": "markdown",
   "metadata": {},
   "source": [
    "We must keep in mind that a **friend function** is not a member function even if the friend function is defined inside the class. It's just a regular function designated as a friend. Being a friend allows the function to access the private and protected members of this class's objects. In the `Counter2` class, the `operator<<` function, being a friend of the `Counter2` class, is able to access the private member `count` of the `c` object of the `Counter2` class.\n",
    "\n",
    "To summarize, when overloading an operator we need to think of it as a function and find out its leftmost operand:\n",
    "* If the leftmost operand is an object of the class we are overloading, then use a member function\n",
    "* If the leftmost operand is not an object of the class we are overloading, then use a friend function.\n",
    "\n",
    "Pay attention to the signature of the friend `operator<<` function. It's a pattern that is repeated every time you want your object to work with `cout`. There is a similar pattern for `operator>>` which is used to make your object work with `cin`.\n",
    "\n",
    "Let us create another counter class by overloading four more operators:\n",
    "* the `+` operator such that `c + 5` means add 5 to c's count.\n",
    "* the `-` operator such that `c - 6` means subtract 6 from c's count.\n",
    "* the `==` operator such that `c1 == c2` returns true if `c1` has the same values for count, step, and initial as those of `c2`. It returns false otherwise.\n",
    "* the `!=` operator which is the opposite of `==`.\n",
    "* the `>>` operator such that `cin >> c` prompts the user to enter three integers: one for initial, another for count, and the last for step.\n",
    "\n",
    "Here is the new  counter class."
   ]
  },
  {
   "cell_type": "code",
   "execution_count": 37,
   "metadata": {},
   "outputs": [],
   "source": [
    "class Counter5 {\n",
    "private:\n",
    "     int count;\n",
    "     int initial;\n",
    "protected:\n",
    "     int step;\n",
    "public:\n",
    "    Counter5(int i): initial(i), count(i), step(1){}\n",
    "    int next(){ return count += step; }\n",
    "    int prev(){ return count -= step; }\n",
    "    int current(){ return count; }\n",
    "    void reset(){ count = initial; }\n",
    "    \n",
    "    int operator++(){ return next(); } // Overloads prefix ++\n",
    "    int operator--(){ return prev(); } // Overloads prefix --\n",
    "    \n",
    "    friend ostream& operator<<(ostream& out, Counter5& c){ // Overloads <<\n",
    "        out << c.count;\n",
    "        return out;\n",
    "    } \n",
    "    \n",
    "    // The new five operators\n",
    "    void operator+(int n){ count += n; }\n",
    "    void operator-(int n){ count -= n; }\n",
    "    bool operator==(Counter5& c){\n",
    "        return this->initial == c.initial && this->count == c.count && this->step == c.step;\n",
    "    }\n",
    "    bool operator!=(Counter5& c) { return !(*this == c); }\n",
    "    friend istream& operator>>(istream& in, Counter5& c){\n",
    "        cout << \"Enter counter initial, count, and step: \";\n",
    "        in >> c.initial >>  c.count >> c.step;\n",
    "        return in;\n",
    "    }\n",
    "};"
   ]
  },
  {
   "cell_type": "markdown",
   "metadata": {},
   "source": [
    "which allows us to run something like this:"
   ]
  },
  {
   "cell_type": "code",
   "execution_count": 38,
   "metadata": {
    "scrolled": true
   },
   "outputs": [
    {
     "name": "stdout",
     "output_type": "stream",
     "text": [
      "Enter counter initial, count, and step: 0 10 1\n",
      "10\n",
      "11\n",
      "20\n",
      "19\n",
      "1\n",
      "0\n"
     ]
    }
   ],
   "source": [
    "Counter5 c5(0);\n",
    "cin >> c5;\n",
    "cout << c5 << endl;\n",
    "++c5;\n",
    "cout << c5 << endl;\n",
    "c5 + 9;\n",
    "cout << c5 << endl;\n",
    "--c5;\n",
    "cout << c5 << endl;\n",
    "c5 - 2;\n",
    "cout << (c5 == c5) << endl;\n",
    "cout << (c5 != c5) << endl;"
   ]
  },
  {
   "cell_type": "markdown",
   "metadata": {},
   "source": [
    "## Operator overloading restrictions\n",
    "As powerful as operator overloading can be, it comes with a few restrictions:  \n",
    "* You cannot introduce a new operator that C++ does not already support. \n",
    "* You cannot alter the precedence of the operator you are overloading.\n",
    "* You cannot change the number of operands that an operator takes.\n",
    "* Overloaded operators cannot have default arguments.\n",
    "* The following operators cannot be overloaded: `.`, `::`, `.*`, `?:`, and `sizeof`\n",
    "\n",
    "### <a id=\"ch01\">CHALLENGE 01</a>\n",
    "\n",
    "Copy the following class to the code cell below and refactor it so as to overload the following operators:\n",
    "* the `>>` operator such that `cin >> d` prompts the user to enter two integers: feet and inches.\n",
    "* the `<<` operator such that `cout << d` prints out the distance `d` in a format like this: `12' 3\"`.\n",
    "* the `+` operator such that `d + 5` means add 5 feed to d.\n",
    "* the `--` operator such that `--d` means subtract d's fee by 1 foot.\n",
    "* the `==` operator such that `d1 == d2` returns true if `d1` has the same feet and inches as `d2`.\n",
    "\n",
    "```c++\n",
    "class Distance{\n",
    "private:\n",
    "    int feet;\n",
    "    int inches;\n",
    "\n",
    "public:\n",
    "    Distance(): feet(0), inches(0){}\n",
    "    Distance(int feet, int inches): feet(feet), inches(inches){}\n",
    "    Distance& add(const Distance& d){\n",
    "        this->feet += d.feet + (this->inches + d.inches) / 12;\n",
    "        this->inches = (this->inches + d.inches) % 12;\n",
    "        return *this;\n",
    "    }\n",
    "    Distance& add(int feet){\n",
    "        this->feet += feet;\n",
    "        return *this;\n",
    "    }\n",
    "    Distance& add(int feet, int inches){\n",
    "        this->feet += feet + (this->inches + inches) / 12;\n",
    "        this->inches = (this->inches + inches) % 12;\n",
    "        return *this;\n",
    "    }\n",
    "    \n",
    "    Distance& show(){\n",
    "        cout << this->feet << \"' \" << this->inches << \"\\\"\" << endl;\n",
    "        return *this;\n",
    "    }\n",
    "};\n",
    "```"
   ]
  },
  {
   "cell_type": "code",
   "execution_count": 39,
   "metadata": {},
   "outputs": [],
   "source": [
    "//TODO"
   ]
  }
 ],
 "metadata": {
  "kernelspec": {
   "display_name": "C++17",
   "language": "C++17",
   "name": "xcpp17"
  },
  "language_info": {
   "codemirror_mode": "text/x-c++src",
   "file_extension": ".cpp",
   "mimetype": "text/x-c++src",
   "name": "c++",
   "version": "17"
  }
 },
 "nbformat": 4,
 "nbformat_minor": 2
}
