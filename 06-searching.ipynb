{
 "cells": [
  {
   "cell_type": "markdown",
   "metadata": {},
   "source": [
    "### Learning Objectives\n",
    "* To use `<random>` to generate random numbers \n",
    "* To use `<chrono>` to measure running times\n",
    "* To implement sequential and binary search of both arrays\n",
    "\n",
    "### Instructions\n",
    "Read and study the following sections, run their code examples and solve their challenges. This worksheet has the following challenges:\n",
    "* [CHALLENGE 01](#ch01)\n",
    "* [CHALLENGE 02](#ch02)\n",
    "* [CHALLENGE 03](#ch03)\n",
    "\n",
    "Run your coding challenges and fix any errors they might have before downloading and submitting your completed worksheet for grading. When done, open the menu **File >> Download as >> HTML (.html)** to download your worksheet in HTML format. **Submit the downloaded *.html* file via Canvas**.\n",
    "\n",
    "# Importance C++ utilities: random numbers and measuring running times\n",
    "## Generating random numbers:\n",
    "Before C++11, we relied on the C function `rand()` from `<cstdlib>` to generate random numbers. C++11 changes that by providing a dedicated `<random>` header file which hugely improves our ability to generate all sorts of random numbers. Using the `<random>` header file involves working with two fundamental notions:\n",
    "\n",
    "- **Engines**: An engine is an object generating a uniformly distributed sequence of integers.\n",
    "- **Distributions**: A distribution is a function object that takes the sequence of integers produced by the engine and generate a sequence of values according to the mathematical formula of that distribution.\n",
    "\n",
    "Say for instance we want to generate 30 random numbers between 75 and 100. We start by including the `<random>` header file. Then we define an engine and a distribution objects:"
   ]
  },
  {
   "cell_type": "code",
   "execution_count": null,
   "metadata": {},
   "outputs": [],
   "source": [
    "#include <random>\n",
    "\n",
    "std::default_random_engine en;\n",
    "std::uniform_int_distribution<> dist{75,100};"
   ]
  },
  {
   "cell_type": "markdown",
   "metadata": {},
   "source": [
    "The `dist` (the random distribution) is a function object. That means it overloads the `()` operator which allows it to be called like a function. Using `en` and `dist`, we can now generate the required random numbers."
   ]
  },
  {
   "cell_type": "code",
   "execution_count": null,
   "metadata": {},
   "outputs": [],
   "source": [
    "#include <iostream>\n",
    "\n",
    "for(int i = 0; i < 30; i++){\n",
    "  std::cout << dist(en);\n",
    "  if(i < 29) std::cout << \",\";\n",
    "}"
   ]
  },
  {
   "cell_type": "markdown",
   "metadata": {},
   "source": [
    "Notice how `en` is passed as an argument to the function object `dist`. We can even put this into a function like this:"
   ]
  },
  {
   "cell_type": "code",
   "execution_count": null,
   "metadata": {},
   "outputs": [],
   "source": [
    "int random_int(int min, int max){\n",
    "  static std::default_random_engine en; \n",
    "  static std::uniform_int_distribution<int> dist{min, max}; \n",
    "    \n",
    "  return dist(en);\n",
    "}"
   ]
  },
  {
   "cell_type": "markdown",
   "metadata": {},
   "source": [
    "Notice the use of `static` in front of the local variables `en` (the random engine) and `dist` (the random distribution). This is so that these objects are only created once (during the first call of this function) and retained to be used in subsequent calls. Here is an example using this function to simulate rolling a die 100 times. The results are displayed as a histogram."
   ]
  },
  {
   "cell_type": "code",
   "execution_count": null,
   "metadata": {},
   "outputs": [],
   "source": [
    "#include <string>\n",
    "int results[] = {0, 0, 0, 0, 0, 0};\n",
    "for(int i = 0; i < 100; i++){\n",
    "  results[random_int(0, 5)]++;\n",
    "}\n",
    "\n",
    "// Display the results histogram\n",
    "for(int i = 0; i < 6; i++){\n",
    "  std::cout << i + 1 << \": \"\n",
    "            << std::string(results[i], '*') //repeats char '*' resuts[i] times\n",
    "            << std::endl;   \n",
    "}"
   ]
  },
  {
   "cell_type": "markdown",
   "metadata": {},
   "source": [
    "The only issue with the above program is that when it's run over and over you get the same results. This is how random engines and distributions work by default. To make sure new random numbers are generated every time you run the program, provide a different seed value (an integer) every run and pass it to the random engine. Alternatively, we can use the system time to get a seed value. Doing that involves using the `<chrono>` header file."
   ]
  },
  {
   "cell_type": "code",
   "execution_count": null,
   "metadata": {},
   "outputs": [],
   "source": [
    "#include <chrono>\n",
    "int seeded_random_int(int min, int max){\n",
    "  static std::default_random_engine en;\n",
    "  en.seed(std::chrono::system_clock::now().time_since_epoch().count());\n",
    "  static std::uniform_int_distribution<int> dist{min, max}; \n",
    "    \n",
    "  return dist(en);\n",
    "}"
   ]
  },
  {
   "cell_type": "markdown",
   "metadata": {},
   "source": [
    "The `std::chrono::system_clock::now().time_since_epoch().count()` returns a number representing the time passed since the clock epoch: Thu Jan 1, 1970 00:00:00,\n",
    "\n",
    "## Measuring running time using `<chrono>`\n",
    "We can use the facilities of the `<chrono>` header file to measure the time it takes to run one or more operations. The idea is simple, we take a snapshot of the system time in high resolution before the operations start and and we take another snapshot of the time after they finish. Then we get the duration between the start and end time snapshots and display that in the appropriate time units (nanoseconds, microseconds, etc.).\n",
    "\n",
    "Let's repeat the above experiment of throwing a die 100 times but this time we'll record the time it takes to do the experiment from generating the random numbers to displaying the output histogram. \n"
   ]
  },
  {
   "cell_type": "code",
   "execution_count": null,
   "metadata": {
    "scrolled": true
   },
   "outputs": [],
   "source": [
    "#include <iostream>\n",
    "#include <string>\n",
    "#include <chrono>\n",
    "using namespace std;\n",
    "\n",
    "auto start = chrono::high_resolution_clock::now(); // Take this first time snapshot\n",
    "\n",
    "int data[] = {0, 0, 0, 0, 0, 0};\n",
    "for(int i = 0; i < 100; i++){\n",
    "  data[seeded_random_int(0, 5)]++;\n",
    "}\n",
    "\n",
    "// Display the results histogram\n",
    "for(int i = 0; i < 6; i++){\n",
    "  cout << i + 1 << \": \"\n",
    "       << string(data[i], '*') //repeats char '*' data[i] times\n",
    "       << endl;   \n",
    "}\n",
    "\n",
    "auto end = chrono::high_resolution_clock::now(); // Take the second time snapshot\n",
    "\n",
    "chrono::duration<double, nano> running_time = end - start;\n",
    "\n",
    "cout << \"Experiment took \" << running_time.count() << \" nanoseconds to run.\" << endl;\n"
   ]
  },
  {
   "cell_type": "markdown",
   "metadata": {},
   "source": [
    "Here, we are using the `high_resolution_clock` and `duration<>` facilities defined by the `<chrono>` header file. These facilities are defined within a name space called `chrono` nested within the `std` name space. This is why we put `chrono::` in front of these facilities.\n",
    "\n",
    "At the core of the `chrono` library are the fundamental notions of:\n",
    "- **clocks**: A clock has of a start point (an epoch) and a tick rate. For example, a clock may start on January 1, 1970 and tick every second. The above `chrono::high_resolution_clock` is a clock with the shortest tick period possible.\n",
    "- **Time points**: A time point is the duration since the clock epoch. The function `now()` returns a time point, which makes `start` and `end` time points.\n",
    "- **Durations**: A duration represents a span of time, such as an hour or 30 minutes. A duration can also represent the difference between two time points. The above `running_time` is a duration. Durations can be represented in different time units such as `std::nano` (for nanoseconds), `std::micro` (for microseconds), `std::milli` (for milliseconds), ect.\n",
    "\n",
    "### <a id=\"ch01\">CHALLENGE 01</a>\n",
    "In the code cell below, write a program that simulates the experiment of flipping a coin 1000 times and counting how many heads and tails are encountered. Display the results of your experiment and the time it took in microseconds to run it."
   ]
  },
  {
   "cell_type": "code",
   "execution_count": null,
   "metadata": {},
   "outputs": [],
   "source": [
    "//TODO"
   ]
  },
  {
   "cell_type": "markdown",
   "metadata": {},
   "source": [
    "# Searching\n",
    "Before looking into searching, we need to talk about **iterators** which are essential to the C++ STL library.\n",
    "\n",
    "## Iterators\n",
    "An iterator is a generalization of the pointer concept. It points to an item within a container and can be used to get to the next item. A pointer is the simplest form of iterators.\n",
    "\n",
    "To implement an iterator, we define a class and overloaded the `*` (dereference) and `++` (increment), `==` (equals), and `!=` (not equals) operators to make it look and behave like pointers. Here is a class named `Array` defining a container with a fixed size.\n",
    "\n",
    "```c++\n",
    "#include <initializer_list>\n",
    "\n",
    "template<typename T>\n",
    "class Array {\n",
    "private: \n",
    "    T *items; \n",
    "    int sz = 0;\n",
    "    \n",
    "public: \n",
    "    Array(int s): sz(c), items(new T[s]){} \n",
    "    \n",
    "    T operator[](int i) { return items[i]; }\n",
    "    T& operator[](int i)const { return items[i]; }\n",
    "    int size(){ return sz; }\n",
    "    \n",
    "    ~Array(){\n",
    "        delete[] items;\n",
    "    }\n",
    "}; \n",
    "```\n",
    "\n",
    "We can define an iterator class named `ArrayIterator` and use it to augment the `Array` class with a `search` function that returns an iterator pointing to the found item if any. We can also use it to support the range-based for loop (or for-each loop) by implementing the `begin()` and `end()` functions, both of which return `ArrayIterator` objects. Implementing these two functions allows us to write something like this:\n",
    "\n",
    "```c++\n",
    "Array<double> arr(3);\n",
    "arr[0] = 2.5;\n",
    "arr[1] = 5.0;\n",
    "arr[2] = 7.5;\n",
    "for(double d : arr) {\n",
    "    cout << d << endl;\n",
    "}\n",
    "```\n",
    "\n",
    "Here is the `ArrayIterator` class."
   ]
  },
  {
   "cell_type": "code",
   "execution_count": null,
   "metadata": {},
   "outputs": [],
   "source": [
    "template<typename T>\n",
    "class ArrayIterator{\n",
    "private:\n",
    "    T* item = nullptr;\n",
    "public:\n",
    "  ArrayIterator(T* ptr): item(ptr){}\n",
    "  ArrayIterator<T>& operator++(){ // an operator to move to the next item\n",
    "    item = ++item;\n",
    "    return *this;\n",
    "  }\n",
    "    \n",
    "  T operator*(){ return *item; } // dereference operator\n",
    "  bool operator==(const ArrayIterator<T>& rhs) const { return item == rhs.item; }\n",
    "  bool operator!=(const ArrayIterator<T>& rhs) const { return item != rhs.item; }\n",
    "};"
   ]
  },
  {
   "cell_type": "markdown",
   "metadata": {},
   "source": [
    "We now can refactor the above `Array` class so as to use iterators."
   ]
  },
  {
   "cell_type": "code",
   "execution_count": null,
   "metadata": {},
   "outputs": [],
   "source": [
    "#include <initializer_list>\n",
    "\n",
    "template<typename T>\n",
    "class Array {\n",
    "private: \n",
    "    T *items; \n",
    "    int sz = 0; \n",
    "public: \n",
    "    Array(int s): sz(s), items(new T[s]){} \n",
    "    \n",
    "    T operator[](int i) const { return items[i]; }\n",
    "    T& operator[](int i) { return items[i]; }\n",
    "    int size(){ return sz; }\n",
    "    \n",
    "    ArrayIterator<T> search(T e) const {\n",
    "        for(int i = 0; i < sz; i++){\n",
    "            if(items[i] == e) return ArrayIterator<T>(items + i);\n",
    "        }\n",
    "        \n",
    "        return ArrayIterator<T>(items + sz);\n",
    "    }\n",
    "    \n",
    "    ArrayIterator<T> binarySearch(T e ) const{\n",
    "        int first = 0;\n",
    "        int last = sz - 1;\n",
    "        int mid;\n",
    "\n",
    "        while (first <= last) {\n",
    "            mid = (first + last) / 2;\n",
    "            if(items[mid] == e) return ArrayIterator<T>(items + mid);\n",
    "            else if (items[mid] > e) last = mid - 1;\n",
    "            else first = mid + 1;\n",
    "        }\n",
    "\n",
    "        return ArrayIterator<T>(items + sz);\n",
    "    }\n",
    "    \n",
    "    ArrayIterator<T> begin() { return ArrayIterator<T>(items); }\n",
    "    ArrayIterator<T> end() { return ArrayIterator<T>(items + sz); }\n",
    "    \n",
    "    ~Array(){\n",
    "        delete[] items;\n",
    "    }\n",
    "}; "
   ]
  },
  {
   "cell_type": "markdown",
   "metadata": {},
   "source": [
    "Notice how the `end()` function does not point to the last item in the array; rather it points to the one next to it. \n",
    "\n",
    "Having done that, we can now test this class and its iterators."
   ]
  },
  {
   "cell_type": "code",
   "execution_count": null,
   "metadata": {},
   "outputs": [],
   "source": [
    "Array<double> arr(3);\n",
    "arr[0] = 2.5;\n",
    "arr[1] = 5.0;\n",
    "arr[2] = 7.5;\n",
    "for(double d : arr) {\n",
    "    cout << d << endl;\n",
    "}\n",
    "\n",
    "auto it = arr.search(5.0);\n",
    "if(it != arr.end()) {\n",
    "    cout << \"\\nSearching \" << *it << \" was found.\" << endl;\n",
    "} else {\n",
    "    cout << \"Not found.\" << endl;\n",
    "}"
   ]
  },
  {
   "cell_type": "markdown",
   "metadata": {},
   "source": [
    "## Sequential search\n",
    "Searching an array (fixed-sized or dynamic) or a linked list for a given value involves comparing the values of some or all items in the array to that value. If found, the search stops and the result is return.\n",
    "\n",
    "This search can be done either sequentially or using binary search. In sequential search, we start by comparing the value of the first item in the array to the searched for value and, if it is not the same, moving to the next item. We continue to do this until we reach the last item of the array. For an array or linked list with $n$ items, sequential search takes $O(n)$ time.\n",
    "\n",
    "Here is the sequential search algorithm form the above `Array` class.\n",
    "\n",
    "```c++\n",
    "ArrayIterator<T> search(T e) const {\n",
    "    for(int i = 0; i < sz; i++){\n",
    "        if(items[i] == e) return ArrayIterator<T>(items + i);\n",
    "    }\n",
    "\n",
    "    return ArrayIterator<T>(items + sz);\n",
    "}\n",
    "```\n",
    "Searching a built-in C++ array is similar.\n",
    "\n",
    "For a linked List, the sequential search looks like the following:\n",
    "```c++\n",
    "bool find(T info) {\n",
    "    auto current = front;\n",
    "    while(current){\n",
    "        if(current->info == info){\n",
    "            return true;\n",
    "        }\n",
    "\n",
    "        current = current->next;\n",
    "    }\n",
    "\n",
    "    return false;      \n",
    "}\n",
    "```\n",
    "It also takes $O(n)$ time.\n",
    "\n",
    "The best-case scenario happens when the searched for value matches the first item. The worst-case happens when the searched for value matches the last item or is not found at all.\n",
    "\n",
    "Analyzing the average-case requires:\n",
    "- Considering all possible cases.\n",
    "- Finding the number of comparisons for each case.\n",
    "- Adding the number of comparisons together\n",
    "- Dividing total number of comparisons by the number of cases\n",
    "\n",
    "That is:\n",
    "\n",
    "$Avg. Time = \\frac{1 + 2 + 3 + ... + n}{n} = \\frac{1}{n} \\frac{n(n+1)}{2} = \\frac{n+1}{2}$\n"
   ]
  },
  {
   "cell_type": "markdown",
   "metadata": {},
   "source": [
    "### <a id=\"ch02\">CHALLENGE 02</a>\n",
    "**Q1**. What is the running time, in Big-O notation, of sequentially searching a linked list in reverse order (back to front)?"
   ]
  },
  {
   "cell_type": "raw",
   "metadata": {},
   "source": [
    "Your answer goes here"
   ]
  },
  {
   "cell_type": "markdown",
   "metadata": {},
   "source": [
    "**Q2**. What is the running time in Big-O notation of the average-case sequential search?"
   ]
  },
  {
   "cell_type": "raw",
   "metadata": {},
   "source": [
    "Your answer goes here"
   ]
  },
  {
   "cell_type": "markdown",
   "metadata": {},
   "source": [
    "## Binary search\n",
    "For large arrays or linked lists, sequential search is expensive; we need a better algorithm. Binary search is a much better algorithm for searching arrays. The array, however, must be sorted first. Here is the binary search function from the above `Array` class.\n",
    "\n",
    "```c++\n",
    "ArrayIterator<T> binarySearch(T e ) const{\n",
    "    int first = 0;\n",
    "    int last = sz - 1;\n",
    "    int mid;\n",
    "\n",
    "    while (first <= last) {\n",
    "        mid = (first + last) / 2;\n",
    "        if(items[mid] == e) return ArrayIterator<T>(items + mid);\n",
    "        else if (items[mid] > e) last = mid - 1;\n",
    "        else first = mid + 1;\n",
    "    }\n",
    "\n",
    "    return ArrayIterator<T>(items + sz);\n",
    "}\n",
    "```\n",
    "\n",
    "This algorithm searches a sorted array by first dividing the list in half. If the searched for value is less than the item in the middle, narrow the search to the lower half. Otherwise narrow it to the upper half. Repeatedly keep check doing this until the value is found or the interval is empty.\n",
    "\n",
    "How much time does binary search take?\n",
    "\n",
    "Assume we have an array of 128 items. Let's consider the worst case scenario of looking for an item that is not in the list and is greater than any item in it. This means searching will always narrow to the right half. The running time depents on how many iterations the `while` loop takes. As shown below, there are 7 ($lg(128) = 7$) iterations. In the first iteration, the list `[0-127]` is divided into two halves: `[0-63]` and `[64-127]`. In the second iteration, the `[64-127]` is divided into two halves: `[64-95]` and `[96-127]`.\n",
    "\n",
    "```bash\n",
    "ARR: [0----------------------------------------------------127]\n",
    " 01: [0-63][64---------------------------------------------127]\n",
    " 02:       [64-95][96--------------------------------------127]\n",
    " 03:              [96-111][112-----------------------------127]\n",
    " 04:                      [112-119][120--------------------127]\n",
    " 05:                               [120-123][124-----------127]\n",
    " 06:                                        [124-125][126--127]\n",
    " 07:                                                 [126][127]\n",
    "```\n",
    "\n",
    "The running time of this algorithm equals the number of iterations. For an array with $n$ items, the binary search algorithm takes $O(lg(n))$ to run which is much faster than the $O(n)$ time we saw earlier with sequential search. \n",
    "\n",
    "Let's conclude this section by comparing the running times of the sequential and binary search algorithms side by side."
   ]
  },
  {
   "cell_type": "code",
   "execution_count": null,
   "metadata": {},
   "outputs": [],
   "source": [
    "#include<iostream>\n",
    "#include<chrono>\n",
    "#include<random>\n",
    "#include<iomanip>\n",
    "\n",
    "using namespace std;"
   ]
  },
  {
   "cell_type": "code",
   "execution_count": null,
   "metadata": {
    "scrolled": true
   },
   "outputs": [],
   "source": [
    "template<typename T>\n",
    "void print_running_time(Array<T>& arr){\n",
    "    auto ss_start = chrono::high_resolution_clock::now();\n",
    "    arr.search(random_int(1, arr.size()));\n",
    "    auto ss_end = chrono::high_resolution_clock::now(); \n",
    "    chrono::duration<double, nano> ss_rt = ss_end - ss_start;\n",
    "\n",
    "    auto bs_start = chrono::high_resolution_clock::now();\n",
    "    arr.binarySearch(random_int(1, arr.size()));\n",
    "    auto bs_end = chrono::high_resolution_clock::now(); \n",
    "    chrono::duration<double, nano> bs_rt = bs_end - bs_start;\n",
    "\n",
    "    cout << setw(20) << ss_rt.count() << setw(20) << bs_rt.count()  << endl;\n",
    "}"
   ]
  },
  {
   "cell_type": "code",
   "execution_count": null,
   "metadata": {},
   "outputs": [],
   "source": [
    "cout << setw(20) << \"Sequential\" << setw(20) << \"Binary\"  << endl;\n",
    "\n",
    "int size = 1024;\n",
    "while(size > 127){\n",
    "    Array<int> arr(size);\n",
    "    for(int i = 0; i < size; i++){ arr[i] = i; }\n",
    "    print_running_time(arr);\n",
    "    size /= 2;\n",
    "}\n"
   ]
  },
  {
   "cell_type": "markdown",
   "metadata": {},
   "source": [
    "### <a id=\"ch03\">CHALLENGE 03</a>\n",
    "**Q1**. The binary search algorithm does not work on sorted linked lists. Why is that?"
   ]
  },
  {
   "cell_type": "raw",
   "metadata": {},
   "source": [
    "Your answer goes here"
   ]
  }
 ],
 "metadata": {
  "kernelspec": {
   "display_name": "C++17",
   "language": "C++17",
   "name": "xcpp17"
  },
  "language_info": {
   "codemirror_mode": "text/x-c++src",
   "file_extension": ".cpp",
   "mimetype": "text/x-c++src",
   "name": "c++",
   "version": "17"
  }
 },
 "nbformat": 4,
 "nbformat_minor": 2
}
