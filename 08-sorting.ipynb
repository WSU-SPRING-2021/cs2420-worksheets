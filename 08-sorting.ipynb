{
 "cells": [
  {
   "cell_type": "markdown",
   "metadata": {},
   "source": [
    "### Learning Objectives\n",
    "* To be able to sort a unsorted data efficiently.\n",
    "* To distinguish between the different kinds of sorting algorithm.\n",
    "\n",
    "### Instructions\n",
    "Read and study the following sections, run their code examples and solve their challenges. This worksheet has the following challenges:\n",
    "* [CHALLENGE 01](#ch01)\n",
    "* [CHALLENGE 02](#ch02)\n",
    "* [CHALLENGE 03](#ch03)\n",
    "* [CHALLENGE 04](#ch04)\n",
    "\n",
    "Run your coding challenges and fix any errors they might have before downloading and submitting your completed worksheet for grading. When done, open the menu **File >> Download as >> HTML (.html)** to download your worksheet in HTML format. **Submit the downloaded *.html* file via Canvas**.\n",
    "\n",
    "# Sorting\n",
    "In this worksheet, we study the different ways of sorting datasets; that is arranging data elements in an ascending or descending order. We will cover six sorting algorithms all of which are comparison-based. These algorithms are **bubble sort, selection sort, insertion sort, merge sort, quick sort**, and **heap sort**. The first three algorithms (bubble, selection, and insertion) are often described as elementary, the last three algorithms (merge, quick, and heap) are considered fast.\n",
    "\n",
    "We will start by generating a vector of random integers to sort. Keep in mind that these algorithms are applicable to more that integers.\n",
    "\n",
    "First we declare some needed variables and a function for printing datasets."
   ]
  },
  {
   "cell_type": "code",
   "execution_count": 1,
   "metadata": {
    "scrolled": true
   },
   "outputs": [],
   "source": [
    "#include <iostream>\n",
    "#include <iomanip>\n",
    "#include <string>\n",
    "#include <random>\n",
    "#include <vector>\n",
    "#include <cstdlib>\n",
    "\n",
    "const int MAX_SIZE = 13;\n",
    "const int MIN_NUM = 101;\n",
    "const int MAX_NUM = 299;\n"
   ]
  },
  {
   "cell_type": "code",
   "execution_count": 2,
   "metadata": {},
   "outputs": [],
   "source": [
    "template<typename T>\n",
    "void printData(std::vector<T>& data){\n",
    "    for(int i = 0; i < data.size(); i++){\n",
    "        if(i != 0) std::cout << \", \";\n",
    "        std::cout << data[i];\n",
    "    }\n",
    "    std::cout << std::endl;\n",
    "}"
   ]
  },
  {
   "cell_type": "markdown",
   "metadata": {},
   "source": [
    "Now we generate the vector and print its values."
   ]
  },
  {
   "cell_type": "code",
   "execution_count": 3,
   "metadata": {},
   "outputs": [
    {
     "name": "stdout",
     "output_type": "stream",
     "text": [
      "Original: 243, 170, 225, 135, 181, 189, 295, 227, 135, 211, 271, 177, 269\n"
     ]
    }
   ],
   "source": [
    "std::default_random_engine en;\n",
    "std::uniform_int_distribution<> dist{MIN_NUM, MAX_NUM};\n",
    "\n",
    "std::vector<int> original_data;\n",
    "for(int i = 0; i < MAX_SIZE; i++){\n",
    "    original_data.push_back(dist(en));\n",
    "}\n",
    "\n",
    "std::cout << \"Original: \"; printData(original_data);"
   ]
  },
  {
   "cell_type": "markdown",
   "metadata": {},
   "source": [
    "We are now ready for our first elementary algorithm: bubble sort.\n",
    "\n",
    "## Bubble sort\n",
    "Bubble sort works by swapping elements repeatedly until the whole dataset is sorted. With a dataset such as\n",
    "\n",
    "```\n",
    "243, 170, 225, 135\n",
    "```\n",
    "\n",
    "we have two loops: an outer loop with index `i` and inner loop with index `j`. In the beginning both `i` and `j` are set to `0`. In the first outer loop iteration, bubble sort works by checking if 170 (j + 1) < 243 (j) and if so swapping them. This leads to:\n",
    "\n",
    "```\n",
    "170, 243, 225, 135\n",
    "```\n",
    "and `j` advances to `1`. It then checks if 225(j + 1) < 243 (j) and if so swaps them. This leads to: \n",
    "\n",
    "```\n",
    "170, 225, 243, 135\n",
    "```\n",
    "\n",
    "Again `j` advances to `2` and it checks if 135 (j + 1) < 243 (j) and if so swaps them, which leads to:\n",
    "\n",
    "```\n",
    "170, 225, 135, 243\n",
    "```\n",
    "\n",
    "This is the end of the first outer loop iteration, and, as you can see, the largest element `243` is in its correct place. \n",
    "\n",
    "After this `i` advances to `1` and `j` changes back to `0`. At the end of the second outer loop iteration, the second largest element will be in its correct place, and so on.\n",
    "\n",
    "Here is how this algorithm is implemented."
   ]
  },
  {
   "cell_type": "code",
   "execution_count": 4,
   "metadata": {},
   "outputs": [],
   "source": [
    "template<typename T>\n",
    "void bubbleSort(std::vector<T>& data) {\n",
    "    for(int i = 0; i < MAX_SIZE - 1; i++){\n",
    "        for(int j = 0; j < MAX_SIZE - i - 1; j++){\n",
    "            if(data[j + 1] < data[j]){\n",
    "                std::swap(data[j + 1], data[j]);\n",
    "            }\n",
    "        }\n",
    "    }\n",
    "}"
   ]
  },
  {
   "cell_type": "markdown",
   "metadata": {},
   "source": [
    "Let's test this algorithm by first copying the original vector into a new one named `data` and then sorting it using `bubbleSort`."
   ]
  },
  {
   "cell_type": "code",
   "execution_count": 5,
   "metadata": {},
   "outputs": [
    {
     "name": "stdout",
     "output_type": "stream",
     "text": [
      "Before: 243, 170, 225, 135, 181, 189, 295, 227, 135, 211, 271, 177, 269\n",
      " After: 135, 135, 170, 177, 181, 189, 211, 225, 227, 243, 269, 271, 295\n"
     ]
    }
   ],
   "source": [
    "std::vector<int> data = original_data; // copy original data to data\n",
    "\n",
    "std::cout << \"Before: \"; printData(data);\n",
    "bubbleSort(data);\n",
    "std::cout << \" After: \"; printData(data);"
   ]
  },
  {
   "cell_type": "markdown",
   "metadata": {},
   "source": [
    "Having these two outer loops means that in the worst case, the bubble sort takes $O(n^2)$ time to run.\n",
    "\n",
    "## Selection sort\n",
    "Selection sort works by finding the smallest element and swapping it with the first element in the dataset. Then it finds the second smallest element and swaps it with the second element in the dataset. The algorithm goes on like this until all the data elements are sorted. Here is how this algorithm is implemented."
   ]
  },
  {
   "cell_type": "code",
   "execution_count": 6,
   "metadata": {},
   "outputs": [],
   "source": [
    "template<typename T>\n",
    "void selectionSort(std::vector<T>& data) {\n",
    "    for(int i = 0; i < MAX_SIZE - 1; i++){\n",
    "        // Find the minimum element  \n",
    "        int min_index = i;\n",
    "        for(int j = i + 1; j < MAX_SIZE; j++){\n",
    "            if(data[j] < data[min_index]){\n",
    "                min_index = j;\n",
    "            }\n",
    "        }\n",
    "        \n",
    "        std::swap(data[min_index], data[i]);\n",
    "    }\n",
    "}"
   ]
  },
  {
   "cell_type": "markdown",
   "metadata": {},
   "source": [
    "Let's test this algorithm by resetting the `data` vector to the original one before sorting it using `selectionSort`."
   ]
  },
  {
   "cell_type": "code",
   "execution_count": 7,
   "metadata": {},
   "outputs": [
    {
     "name": "stdout",
     "output_type": "stream",
     "text": [
      "Before: 243, 170, 225, 135, 181, 189, 295, 227, 135, 211, 271, 177, 269\n",
      " After: 135, 135, 170, 177, 181, 189, 211, 225, 227, 243, 269, 271, 295\n"
     ]
    }
   ],
   "source": [
    "data = original_data; // reset data\n",
    "\n",
    "std::cout << \"Before: \"; printData(data);\n",
    "selectionSort(data);\n",
    "std::cout << \" After: \"; printData(data);"
   ]
  },
  {
   "cell_type": "markdown",
   "metadata": {},
   "source": [
    "### <a id=\"ch01\">CHALLENGE 01</a>\n",
    "**Q1**. What is the running time in Big-O notation of the above `selectionSort` function?"
   ]
  },
  {
   "cell_type": "raw",
   "metadata": {},
   "source": [
    "Your answer goes here"
   ]
  },
  {
   "cell_type": "markdown",
   "metadata": {},
   "source": [
    "**Q2**. Complete the function bellow so as to make the vector sorted in descending order."
   ]
  },
  {
   "cell_type": "code",
   "execution_count": 8,
   "metadata": {},
   "outputs": [],
   "source": [
    "template<typename T>\n",
    "void reversedSelectionSort(std::vector<T>& data) {\n",
    "    //TODO\n",
    "}"
   ]
  },
  {
   "cell_type": "markdown",
   "metadata": {},
   "source": [
    "## Insertion sort\n",
    "Insertion sort works in the way we typically sort cards in our hands. This algorithm uses two nested loops. The outer loop is controlled by the index `i` which starts at `1`. The inner loop use the index `j` which starts at the same value as `i`. The `i` index increments by one with every outer loop iteration, and the `j` index decrements by one with every inner loop iteration. \n",
    "\n",
    "The insertion sort works by dividing the dataset into two parts: sorted and unsorted. \n",
    "- The sorted part starts with the element at index `0` until but not equal to the element at index `i`. That is the interval $[0 - i)$. \n",
    "- The unsorted part contains the elements of the interval $[i - N)$.\n",
    "\n",
    "With every outer loop iteration, the sorted part grows by one more element while the unsorted part shrinks by one element as well.\n",
    "\n",
    "Here is how this algorithm is implemented."
   ]
  },
  {
   "cell_type": "code",
   "execution_count": 9,
   "metadata": {},
   "outputs": [],
   "source": [
    "template<typename T>\n",
    "void insertionSort(std::vector<T>& data) {\n",
    "    for(int i = 1; i < MAX_SIZE; i++){\n",
    "        for(int j = i; j > 0 && data[j] < data[j - 1]; j--){\n",
    "            std::swap(data[j], data[j-1]);\n",
    "        }\n",
    "    }\n",
    "}"
   ]
  },
  {
   "cell_type": "markdown",
   "metadata": {},
   "source": [
    "Let's test this algorithm by resetting the `data` vector to the original one before sorting it using `insertionSort`."
   ]
  },
  {
   "cell_type": "code",
   "execution_count": 10,
   "metadata": {},
   "outputs": [
    {
     "name": "stdout",
     "output_type": "stream",
     "text": [
      "Before: 243, 170, 225, 135, 181, 189, 295, 227, 135, 211, 271, 177, 269\n",
      " After: 135, 135, 170, 177, 181, 189, 211, 225, 227, 243, 269, 271, 295\n"
     ]
    }
   ],
   "source": [
    "data = original_data; // reset data\n",
    "\n",
    "std::cout << \"Before: \"; printData(data);\n",
    "insertionSort(data);\n",
    "std::cout << \" After: \"; printData(data);"
   ]
  },
  {
   "cell_type": "markdown",
   "metadata": {},
   "source": [
    "### <a id=\"ch02\">CHALLENGE 02</a>\n",
    "**Q1**. What is the running time in Big-O notation of the above `insertionSort` function?"
   ]
  },
  {
   "cell_type": "raw",
   "metadata": {},
   "source": [
    "Your answer goes here"
   ]
  },
  {
   "cell_type": "markdown",
   "metadata": {},
   "source": [
    "**Q2**. A sorting algorithm is said to be **stable** if two elements with equal values appear in the same order in the sorted vector as they appear in the unsorted vector. Knowing that the bubble sort algorithm about is **stable** and that the selection sort is **not stable**, is the insertion sort algorithm above stable?"
   ]
  },
  {
   "cell_type": "raw",
   "metadata": {},
   "source": [
    "Your answer goes here"
   ]
  },
  {
   "cell_type": "markdown",
   "metadata": {},
   "source": [
    "# Fast sorting algorithms\n",
    "## Merge sort\n",
    "The merge sort is a **divide-and-conquer** algorithm that works by recursively dividing the dataset in half sorting each half before merging the sorted halves. For example the dataset:\n",
    "\n",
    "```\n",
    "243, 170, 225, 135, 181, 189, 295, 227\n",
    "```\n",
    "is divided into `243, 170, 225, 135` and`181, 189, 295, 227`. Each half is sorted recursively using merge sort before they are merged to produce the final sorted dataset. Here is how division in half works for the above example:\n",
    "\n",
    "```\n",
    "            243, 170, 225, 135, 181, 189, 295, 227                  --> Tree root (unsorted)\n",
    "                              |\n",
    "             +----------------+----------------+\n",
    "             |                                 |\n",
    "     243, 170, 225, 135                181, 189, 295, 227\n",
    "             |                                 |\n",
    "      +--------------+                +--------+-------+\n",
    "      |              |                |                |\n",
    "  243, 170        225, 135         181, 189         295, 227\n",
    "     |               |                |                |\n",
    " +---+----+      +---+----+       +---+----+       +---+----+\n",
    " |        |      |        |       |        |       |        |\n",
    "243      170    225      135     181      189     295      227      --> Tree leaves\n",
    "```\n",
    "which looks like a tree. As we can see, the subsets keep being divided in half until there is only one element per set.\n",
    "\n",
    "The actual sorting happens at the merging step, which starts at the leaves of the tree and move up to the root. Here is how the example above is merged.\n",
    "\n",
    "```\n",
    "243      170    225      135     181      189     295      227     --> Tree leaves\n",
    " |        |      |        |       |        |       |        |\n",
    " +---+----+      +---+----+       +---+----+       +---+----+\n",
    "     |               |                |                |\n",
    "  170, 243        135, 225         181, 189         227, 295  \n",
    "     |               |                |                |  \n",
    "     +-------+-------+                +--------+-------+\n",
    "             |                                 |\n",
    "     135, 170, 225, 243                181, 189, 227, 295\n",
    "             |                                 |     \n",
    "             +----------------+----------------+\n",
    "                              |\n",
    "            135, 170, 181, 189, 225, 227, 243, 295                  --> Tree root (sorted)\n",
    "```\n",
    "\n",
    "Here is how this algorithm is implemented."
   ]
  },
  {
   "cell_type": "code",
   "execution_count": 11,
   "metadata": {},
   "outputs": [],
   "source": [
    "template<typename T>\n",
    "void merge(std::vector<T>& data, std::vector<T>& aux, int lo, int mid, int hi){\n",
    "  int i = lo;\n",
    "  int j = mid + 1;\n",
    "\n",
    "  for(int k = lo; k <= hi; k++){\n",
    "    if(i > mid) aux[k] = data[j++];\n",
    "    else if(j > hi) aux[k] = data[i++];\n",
    "    else if(data[i] < data[j]){\n",
    "      aux[k] = data[i++];\n",
    "    }else{\n",
    "      aux[k] = data[j++];\n",
    "    }\n",
    "  }\n",
    "\n",
    "  // copying aux back to data\n",
    "  for(int i = lo; i <= hi; i++){\n",
    "    data[i] = aux[i];\n",
    "  }\n",
    "}\n",
    "\n",
    "template<typename T>\n",
    "void mergeSort(std::vector<T>& data, std::vector<T>& aux, int lo, int hi){\n",
    "  if (hi <= lo) return;            // The base case\n",
    "\n",
    "  int mid = lo + (hi - lo)/2;      // Divide in half\n",
    "  mergeSort(data, aux, lo, mid);   // Sort first half\n",
    "  mergeSort(data, aux, mid+1, hi); // Sort second half\n",
    "    \n",
    "  merge(data, aux, lo, mid, hi);\n",
    "}\n",
    "\n",
    "template<typename T>\n",
    "void mergeSort(std::vector<T>& data) {\n",
    "  std::vector<T> aux(data.size());\n",
    "  mergeSort(data, aux, 0, data.size()-1);\n",
    "}"
   ]
  },
  {
   "cell_type": "markdown",
   "metadata": {},
   "source": [
    "Let's test this algorithm by resetting the `data` vector to the original one before sorting it using `mergeSort`."
   ]
  },
  {
   "cell_type": "code",
   "execution_count": 12,
   "metadata": {},
   "outputs": [
    {
     "name": "stdout",
     "output_type": "stream",
     "text": [
      "Before: 243, 170, 225, 135, 181, 189, 295, 227, 135, 211, 271, 177, 269\n",
      " After: 135, 135, 170, 177, 181, 189, 211, 225, 227, 243, 269, 271, 295\n"
     ]
    }
   ],
   "source": [
    "data = original_data; // reset data\n",
    "\n",
    "std::cout << \"Before: \"; printData(data);\n",
    "mergeSort(data);\n",
    "std::cout << \" After: \"; printData(data);"
   ]
  },
  {
   "cell_type": "markdown",
   "metadata": {},
   "source": [
    "Analyzing the running time of merge sort is interesting. It depends on the height (number of division levels) in the tree. In the example above, we have a vector of $8$ elements and the divide-and-conquer tree has $3$ levels. That means for a vector of size $n$, the height of the tree will be $log(n)$. And because each level of the tree involves merging $n$ elements, the overall running time of the merge sort is $O(n log(n))$. "
   ]
  },
  {
   "cell_type": "markdown",
   "metadata": {},
   "source": [
    "## Quick sort\n",
    "As the name implies, quick sort is one of the fastest sort algorithms in practice. Like merge sort, quick sort is a divide and Conquer algorithm. It picks an element as a pivot and partitions the dataset into two parts:\n",
    "- one part containing all the elements less than the pivot and\n",
    "- another containing the rest of the elements; that is those that are greater than or equal to the pivot.\n",
    "\n",
    "Every partition is then recursively sorted using quick sort. \n",
    "\n",
    "Given a pivot element $p$, partitioning puts $p$ at its correct sorted position, puts all the elements less than it before it, and puts all the elements greater than or equal to it after it.\n",
    "\n",
    "Partitioning is a key step in quick sort; it is where the actual sorting happens. There are many strategies to picking a pivot to partition the dataset around:\n",
    "* First element is always the pivot\n",
    "* Last element is always the pivot (implemented below)\n",
    "* Randomly pick an element to be the pivot. This can improve performance; we will implement it in class.\n",
    "\n",
    "Let's see an example in action. Given the dataset:\n",
    "\n",
    "```\n",
    "243, 170, 225, 135, 181, 189, 295, 227\n",
    "```\n",
    "Here is how quick sort recursively partitions it. The pivot elements used for partitioning and sub-partitioning are placed in parentheses.\n",
    "\n",
    "```\n",
    "                 243, 170, 225, 135, 181, 189, 295, (227)\n",
    "                                        |\n",
    "                +-----------------------+-------------+\n",
    "                |                       |             |\n",
    "        170, 225, 135, 181, (189)       |            295, (243)\n",
    "                |                       |               |\n",
    "         +---------------+-------+      |      +--------+-------+\n",
    "         |               |       |      |      |                |\n",
    "     170, 135, (181)     |       |      |      |                |\n",
    "             |           |       |      |      |                |\n",
    "    +------+-------+     |       |      |      |                |\n",
    "    |              |     |       |      |      |                |\n",
    "   170, (135)      |     |       |      |      |                |\n",
    "      |            |     |       |      |      |                |\n",
    " +----+----+       |     |       |      |      |                |\n",
    " |         |       |     |       |      |      |                |\n",
    "135       170     181   189     225    227    243              295\n",
    "\n",
    "```\n",
    "\n",
    "Here is how this algorithm is implemented."
   ]
  },
  {
   "cell_type": "code",
   "execution_count": 13,
   "metadata": {},
   "outputs": [],
   "source": [
    "template<typename T>\n",
    "int partition(std::vector<T>& data, int lo, int hi){\n",
    "    // Defines i which is used to calculate where p's position is.\n",
    "    // In the begining i is right before the first element\n",
    "    int i = lo - 1;\n",
    "    for(int j = lo; j < hi; j++){\n",
    "        if(data[j] < data[hi]){\n",
    "            std::swap(data[++i], data[j]);\n",
    "        }\n",
    "    }\n",
    "    // Please pivot in its correct position.\n",
    "    std::swap(data[i + 1], data[hi]);\n",
    "    \n",
    "    return i + 1;\n",
    "}\n",
    "\n",
    "template<typename T>\n",
    "void quickSort(std::vector<T>& data, int lo, int hi){\n",
    "  if(lo < hi){\n",
    "      int m = partition(data, lo, hi);\n",
    "      quickSort(data, lo, m - 1);\n",
    "      quickSort(data, m + 1, hi);\n",
    "  }\n",
    "}\n",
    "\n",
    "template<typename T>\n",
    "void quickSort(std::vector<T>& data){\n",
    "    quickSort(data, 0, data.size() - 1);\n",
    "}"
   ]
  },
  {
   "cell_type": "markdown",
   "metadata": {},
   "source": [
    "Let's test this algorithm by resetting the `data` vector to the original one before sorting it using `quickSort`."
   ]
  },
  {
   "cell_type": "code",
   "execution_count": 14,
   "metadata": {},
   "outputs": [
    {
     "name": "stdout",
     "output_type": "stream",
     "text": [
      "Before: 243, 170, 225, 135, 181, 189, 295, 227, 135, 211, 271, 177, 269\n",
      " After: 135, 135, 170, 177, 181, 189, 211, 225, 227, 243, 269, 271, 295\n"
     ]
    }
   ],
   "source": [
    "data = original_data; // reset data\n",
    "\n",
    "std::cout << \"Before: \"; printData(data);\n",
    "quickSort(data);\n",
    "std::cout << \" After: \"; printData(data);"
   ]
  },
  {
   "cell_type": "markdown",
   "metadata": {},
   "source": [
    "As you can see from the example above, the performance of quick sort depends on the height of the partitioning tree. If we are lucky in our selection of the pivot elements, the datasets and subsets split in halves resulting in a balanced tree with a $log(n)$ height. In this case, the overall running time of quick sort will be $O(n log(n))$.\n",
    "\n",
    "In the worst case, we might get extremely unlucky with our pivot elements and datasets are partitioned into two uneven parts: one with a single element and another with the rest of the elements. When this happens, the overall running time of quick sort become $n^2$. This is why randomly selecting a pivot element makes this worst case scenario highly unlikely.\n",
    "\n",
    "### <a id=\"ch03\">CHALLENGE 03</a>\n",
    "Going back to the definition of a **stable sort**, is the quick sort implementation above stable?"
   ]
  },
  {
   "cell_type": "raw",
   "metadata": {},
   "source": [
    "Your answer goes here"
   ]
  },
  {
   "cell_type": "markdown",
   "metadata": {},
   "source": [
    "## Heap sort\n",
    "Heap sort involves first thinking or (re-imagining) the dataset as a complete binary tree. For example, the dataset:\n",
    "\n",
    "```\n",
    "243, 170, 225, 135, 181, 189, 295, 227\n",
    "```\n",
    "\n",
    "can be thought of as the following **complete binary tree**.\n",
    "\n",
    "```\n",
    "        243\n",
    "        / \\\n",
    "       /   \\\n",
    "      /     \\\n",
    "     /       \\\n",
    "    /         \\\n",
    "  170         225\n",
    "   /\\          /\\\n",
    "  /  \\        /  \\\n",
    " /    \\      /    \\\n",
    "135  181    189  295\n",
    " |\n",
    " |\n",
    "227\n",
    "```\n",
    "\n",
    "According to <a href=\"https://en.wikipedia.org/wiki/Binary_tree#Types_of_binary_trees\">Wikipedia</a>, a **complete binary tree** is a binary tree (each parent has at most two children) in which every level, except possibly the last, is completely filled, and all nodes are as far left as possible.\n",
    "\n",
    "That means, the first element of the dataset becomes the root element of the tree and the only element at the top level. The second level will have the next two elements, the third level the next 4 elements, the fourth level the next 8 elements, and so on. Given an element at index $p$, the left child of this element will be at index $2 \\times p + 1$ while the right child of this element will be at index $2 \\times p + 2$, assuming all indices are zero-based.\n",
    "\n",
    "But being a complete binary tree is not enough for heap sort. The dataset must also be a **binary heap**, which is defined as a complete binary tree in which every parent element is smaller(or greater) than its two children elements. As you can see the tree above is not a binary heap. Why?\n",
    "\n",
    "There are two kinds of binary heaps. A **maximum binary heap** is one where every parent element is greater than its children elements. A **minimum binary heap**, on the other hand, is one where every parent element is smaller than its children elements.\n",
    "\n",
    "Heap sort takes a dataset and converts it into a maximum (or minimum) binary heap. A binary heap is not necessarily a sorted dataset; it is just a start. In a maximum binary heap, the root element is the largest element.\n",
    "\n",
    "The following is heap sort implementation using a maximum binary heap. It works as follows;\n",
    "- It builds a binary heap\n",
    "- It swaps the root element of the heap (the largest element) with the last element of the dataset and shrinks the heap size by one.\n",
    "- It fixes the heap by calling the `heapify` function recursively at index `0`.\n",
    "- It repeats the previous two steps until the heap size shrinks to one.\n",
    "\n",
    "Here are the steps of building a binary heap for the above complete binary tree.\n",
    "\n",
    "```\n",
    "        243                                     243\n",
    "        / \\                                     / \\\n",
    "       /   \\                                   /   \\\n",
    "      /     \\                                 /     \\\n",
    "     /       \\                               /       \\\n",
    "    /         \\                             /         \\\n",
    "  170         225           =>            170         225          =>\n",
    "   /\\          /\\                          /\\          /\\\n",
    "  /  \\        /  \\                        /  \\        /  \\\n",
    " /    \\      /    \\                      /    \\      /    \\\n",
    "135  181    189  295                    227  181    189  295\n",
    " |                                       |\n",
    " |                                       |\n",
    "227                                     135\n",
    "\n",
    "        243                                     243\n",
    "        / \\                                     / \\\n",
    "       /   \\                                   /   \\\n",
    "      /     \\                                 /     \\\n",
    "     /       \\                               /       \\\n",
    "    /         \\                             /         \\\n",
    "  170         295           =>            227         295          =>\n",
    "   /\\          /\\                          /\\          /\\\n",
    "  /  \\        /  \\                        /  \\        /  \\\n",
    " /    \\      /    \\                      /    \\      /    \\\n",
    "135  181    189  225                    170  181    189  225\n",
    " |                                       |\n",
    " |                                       |\n",
    "227                                     135\n",
    "\n",
    "        295\n",
    "        / \\\n",
    "       /   \\\n",
    "      /     \\\n",
    "     /       \\\n",
    "    /         \\\n",
    "  227         243\n",
    "   /\\          /\\\n",
    "  /  \\        /  \\\n",
    " /    \\      /    \\\n",
    "170  181    189  225\n",
    " |\n",
    " |\n",
    "135\n",
    "```\n",
    "\n",
    "Here is how this algorithm is implemented."
   ]
  },
  {
   "cell_type": "code",
   "execution_count": 15,
   "metadata": {},
   "outputs": [],
   "source": [
    "template<typename T>\n",
    "void heapify(std::vector<T>& data, int p, int hsz){\n",
    "    int left = 2 * p + 1;\n",
    "    int right = left + 1;\n",
    "    int largest = p;\n",
    "    if(left < hsz && data[p] < data[left]) {\n",
    "        largest = left;\n",
    "    }\n",
    "\n",
    "    if(right < hsz && data[largest] < data[right]) {\n",
    "        largest = right;\n",
    "    }\n",
    "\n",
    "    if(largest != p){\n",
    "        std::swap(data[p], data[largest]);\n",
    "        heapify(data, largest, hsz);\n",
    "    }\n",
    "}\n",
    "\n",
    "template<typename T>\n",
    "void buildHeap(std::vector<T>& data){\n",
    "    for(int i = data.size() / 2 - 1; i >= 0; i--){\n",
    "        heapify(data, i, data.size());\n",
    "    }\n",
    "}\n",
    "\n",
    "template<typename T>\n",
    "void heapSort(std::vector<T>& data){\n",
    "    buildHeap(data);\n",
    "    for(int i = data.size()  - 1; i > 0; i--){\n",
    "        std::swap(data[0], data[i]);\n",
    "        heapify(data, 0, i);\n",
    "    }\n",
    "}"
   ]
  },
  {
   "cell_type": "markdown",
   "metadata": {},
   "source": [
    "Let's test this algorithm by resetting the `data` vector to the original one before sorting it using `heapSort`."
   ]
  },
  {
   "cell_type": "code",
   "execution_count": 16,
   "metadata": {
    "scrolled": false
   },
   "outputs": [
    {
     "name": "stdout",
     "output_type": "stream",
     "text": [
      "Before: 243, 170, 225, 135, 181, 189, 295, 227, 135, 211, 271, 177, 269\n",
      " After: 135, 135, 170, 177, 181, 189, 211, 225, 227, 243, 269, 271, 295\n"
     ]
    }
   ],
   "source": [
    "data = original_data; // reset data\n",
    "\n",
    "std::cout << \"Before: \"; printData(data);\n",
    "heapSort(data);\n",
    "std::cout << \" After: \"; printData(data);"
   ]
  },
  {
   "cell_type": "markdown",
   "metadata": {},
   "source": [
    "Like merge sort, the running time of heap sort is $O(n log(n))$. This is because the binary heap has a height of $O(log(n))$.\n",
    "\n",
    "### <a id=\"ch04\">CHALLENGE 04</a>\n",
    "Given the data set\n",
    "```\n",
    "35, 81, 89, 95, 27, 15, 21\n",
    "```\n",
    "**Q1**. Build a complete binary tree for this dataset in the cell below."
   ]
  },
  {
   "cell_type": "raw",
   "metadata": {},
   "source": [
    "Your answer goes here"
   ]
  },
  {
   "cell_type": "markdown",
   "metadata": {},
   "source": [
    "**Q2**. Build a maximum binary heap for the complete binary tree of **Q1**."
   ]
  },
  {
   "cell_type": "raw",
   "metadata": {},
   "source": [
    "Your answer goes here"
   ]
  },
  {
   "cell_type": "markdown",
   "metadata": {},
   "source": [
    "## Summary\n",
    "All the sorting algorithms above are comparison-based; the use comparison operators such as < to establish order of any two values. The slowest algorithm runs in $O(n^2)$ and the fastest runs in $O(n log(n))$. As a matter of fact, it can be mathematically proved that:\n",
    "\n",
    "<blockquote>\n",
    "    A comparison-based sort algorithm can do no better than $O(n log(n))$. \n",
    "</blockquote>"
   ]
  }
 ],
 "metadata": {
  "kernelspec": {
   "display_name": "C++17",
   "language": "C++17",
   "name": "xcpp17"
  },
  "language_info": {
   "codemirror_mode": "text/x-c++src",
   "file_extension": ".cpp",
   "mimetype": "text/x-c++src",
   "name": "c++",
   "version": "17"
  }
 },
 "nbformat": 4,
 "nbformat_minor": 2
}
