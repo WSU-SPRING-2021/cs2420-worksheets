{
 "cells": [
  {
   "cell_type": "markdown",
   "metadata": {},
   "source": [
    "### Learning Objectives\n",
    "* To be able to define what a BST and search for, insert and delete elements from it.\n",
    "* To be able to identify and fix AVL property violations. \n",
    "* To use function pointers to traverse a BST.\n",
    "\n",
    "### Instructions\n",
    "Read and study the following sections, run their code examples and solve their challenges. This worksheet has the following challenges:\n",
    "* [CHALLENGE 01](#ch01)\n",
    "* [CHALLENGE 02](#ch02)\n",
    "* [CHALLENGE 03](#ch03)\n",
    "* [CHALLENGE 04](#ch04)\n",
    "\n",
    "Run your coding challenges and fix any errors they might have before downloading and submitting your completed worksheet for grading. When done, open the menu **File >> Download as >> HTML (.html)** to download your worksheet in HTML format. **Submit the downloaded *.html* file via Canvas**."
   ]
  },
  {
   "cell_type": "markdown",
   "metadata": {},
   "source": [
    "## Function pointers\n",
    "Before we talk about the main topic of this worksheet, we'll digress a bit to cover **function pointers** in C++, which we will need for our implementation of binary search trees.\n",
    "\n",
    "A function pointer is as the name states a pointer to a function. That is, it points to the starting position of the function code. Because it points to code and not data, it cannot be allocated or deallocated using **new** or **delete**. It's a special pointer for special situations. \n",
    "\n",
    "Say for example, you have the following two functions:"
   ]
  },
  {
   "cell_type": "code",
   "execution_count": null,
   "metadata": {},
   "outputs": [],
   "source": [
    "#include <iostream>\n",
    "#include <string>\n",
    "\n",
    "void hello(std::string name, int times){\n",
    "    for(int i = 0; i < times; i++){\n",
    "        std::cout << \"Hello \" << name << \"!\";\n",
    "    }\n",
    "}"
   ]
  },
  {
   "cell_type": "code",
   "execution_count": null,
   "metadata": {},
   "outputs": [],
   "source": [
    "void welcome(std::string name, int times){\n",
    "    for(int i = 0; i < times; i++){\n",
    "        std::cout << \"Welcome \" << name << \"!\";\n",
    "    }\n",
    "}"
   ]
  },
  {
   "cell_type": "markdown",
   "metadata": {},
   "source": [
    "The statement:"
   ]
  },
  {
   "cell_type": "code",
   "execution_count": null,
   "metadata": {},
   "outputs": [],
   "source": [
    "void (*greet)(std::string, int);"
   ]
  },
  {
   "cell_type": "markdown",
   "metadata": {},
   "source": [
    "defines a function pointer named `greet` that can point to any function that returns `void` and takes two arguments: a string and an integer. Because both `hello` and `welcome` functions have matching prototypes (return type (`void`) and argument list (a string and an integer)), the function pointer `greet` can be used to point to any of them. For example, let's point `greet` to function `welcome`."
   ]
  },
  {
   "cell_type": "code",
   "execution_count": null,
   "metadata": {},
   "outputs": [],
   "source": [
    "greet = welcome;"
   ]
  },
  {
   "cell_type": "markdown",
   "metadata": {},
   "source": [
    "As you can see, the function name `welcome` is used to get the address of its function. Now we can use `greet` to call the `welcome` function."
   ]
  },
  {
   "cell_type": "code",
   "execution_count": null,
   "metadata": {
    "scrolled": true
   },
   "outputs": [],
   "source": [
    "greet(\"John\", 3);"
   ]
  },
  {
   "cell_type": "markdown",
   "metadata": {},
   "source": [
    "We can re-point `greet` to function `hello` and then use it to say `Hello` to `John` three times."
   ]
  },
  {
   "cell_type": "code",
   "execution_count": null,
   "metadata": {},
   "outputs": [],
   "source": [
    "greet = hello;\n",
    "greet(\"John\", 3);"
   ]
  },
  {
   "cell_type": "markdown",
   "metadata": {},
   "source": [
    "We can also pass function pointers as arguments to functions. Let's see a more useful example. \n",
    "\n",
    "In the sorting worksheet, we have the following implementation of insertion sort:\n",
    "\n",
    "```c++\n",
    "template<typename T>\n",
    "void insertionSort(std::vector<T>& data) {\n",
    "    for(int i = 1; i < data.size(); i++){\n",
    "        for(int j = i; j > 0 && data[j] < data[j - 1]; j--){\n",
    "            std::swap(data[j], data[j-1]);\n",
    "        }\n",
    "    }\n",
    "}\n",
    "\n",
    "```\n",
    "which can only sort the data vector ascendingly. Let's use a function pointer to refactor this function so that it supports both ascending and descending sorting. To start, we create the following comparison functions."
   ]
  },
  {
   "cell_type": "code",
   "execution_count": null,
   "metadata": {},
   "outputs": [],
   "source": [
    "template<typename T>\n",
    "bool lessThan(T a, T b){ return a < b; }"
   ]
  },
  {
   "cell_type": "code",
   "execution_count": null,
   "metadata": {},
   "outputs": [],
   "source": [
    "template<typename T>\n",
    "bool greaterThan(T a, T b) { return a > b; }"
   ]
  },
  {
   "cell_type": "markdown",
   "metadata": {},
   "source": [
    "Now we implement insertion sort without hardcoding the `<` operator. "
   ]
  },
  {
   "cell_type": "code",
   "execution_count": null,
   "metadata": {},
   "outputs": [],
   "source": [
    "#include <vector>\n",
    "template<typename T>\n",
    "void insertionSort(std::vector<T>& data, bool(*compare)(T,T) = lessThan) {\n",
    "    for(int i = 1; i < data.size(); i++){\n",
    "        for(int j = i; j > 0 && compare(data[j], data[j - 1]); j--){\n",
    "            std::swap(data[j], data[j-1]);\n",
    "        }\n",
    "    }\n",
    "}"
   ]
  },
  {
   "cell_type": "markdown",
   "metadata": {},
   "source": [
    "This new implementation uses a function pointer named `compare` with a prototype matching that of `lessThan` and `greaterThan`. This function pointer is passed as an argument to `insertionSort` and points to the `lessThan` function by default. Let's see how we can use this new implementation to sort the following data."
   ]
  },
  {
   "cell_type": "code",
   "execution_count": null,
   "metadata": {},
   "outputs": [],
   "source": [
    "std::vector<int> my_data = { 8, 7, 9, 3, 0, 4, 9, 10, 13, 5 };\n",
    "insertionSort(my_data);\n",
    "for(int d : my_data){ std::cout << d << \" \"; }"
   ]
  },
  {
   "cell_type": "markdown",
   "metadata": {},
   "source": [
    "And to sort the same data descendingly, we run:"
   ]
  },
  {
   "cell_type": "code",
   "execution_count": null,
   "metadata": {},
   "outputs": [],
   "source": [
    "insertionSort(my_data, greaterThan);\n",
    "for(int d : my_data){ std::cout << d << \" \"; }"
   ]
  },
  {
   "cell_type": "markdown",
   "metadata": {},
   "source": [
    "We now get back to our main topic.\n",
    "\n",
    "\n",
    "# Binary search trees\n",
    "A binary search tree (or BST for short) is a data structure that organizes data into a tree-like structure. Such a structure provides an efficient way not only for inserting elements into a tree, but also for searching them or deleting them. In other words, a BST achieves all the benefits of a linked list with a few extra benefits. It makes it possible to search data in $O(log(n))$ time which was only possible with binary search for arrays, not linked lists.\n",
    "\n",
    "Typically, the data elements that are stored in a BST are unique; **no two elements are have the same value**. Think about a dictionary; you only want to have a single entry per word.\n",
    "\n",
    "In a BST, every data element is a node. Being binary means that a node can have at most two children. If a node does not have children, it's called a **leaf**. Let's see an example:\n",
    "\n",
    "```\n",
    "          6\n",
    "       /    \\\n",
    "     /        \\\n",
    "    3          8\n",
    "  /   \\      /   \\\n",
    " /     \\    /     \\\n",
    "1       4  7       9\n",
    "```\n",
    "\n",
    "In this tree, we call the element at the top (6) the **root**. It has two children: **left** and **right**. The left child of 6 is 3 and the right child of 6 is 8. Similarly, node 3 has two children: 1 (left) and 4(right). The same goes for node 8 with its children 7(left) and 9(right). The nodes 1, 4, 7, and 9 are leaves; they have no children. All nodes, except for the **root**, have a parent. For example, node 8 is the parent of both 7 and 9.\n",
    "\n",
    "Being a binary search tree (BST) means having the following property: **every node is greater than all the nodes to its left and is less than all the nodes to its right.**. We call this the **binary search property** and it must be maintained for every node in the BST. For example, node 6 is greater that all the nodes to its left (3, 1, and 4) and is less than all the nodes to its right (8, 7, and 9).\n",
    "\n",
    "With this property, the order in which elements are inserted into the BST controls the shape of the tree. Say for example we have the following data and and we enter them into the BST in the order from left to right.\n",
    "```\n",
    "12, 8, 16, 2, 17, 3, 9, 1\n",
    "```\n",
    "\n",
    "We start with an empty BST. When we insert 12, it becomes the root of the tree (and the one and only node in it at this time). The tree will look like this:\n",
    "```\n",
    "                          12\n",
    "```\n",
    "\n",
    "Now we insert 8. Because 8 is less than 12, it will be inserted as the left child of 12. The tree changes to:\n",
    "```\n",
    "                          12\n",
    "                         /\n",
    "                        8\n",
    "```\n",
    "Then we insert 16 which is greater than 12. This makes 16 the right child of 12. The tree becomes:\n",
    "```\n",
    "                          12\n",
    "                         /  \\\n",
    "                        8    16\n",
    "```\n",
    "Entering 2, leads to a tree like:\n",
    "```\n",
    "                          12\n",
    "                         /  \\\n",
    "                        8    16\n",
    "                       /\n",
    "                      2\n",
    "```\n",
    "Then we enter 17:\n",
    "```\n",
    "                          12\n",
    "                         /  \\\n",
    "                        8    16\n",
    "                       /       \\\n",
    "                      2         17\n",
    "```\n",
    "Then we enter 3:\n",
    "```\n",
    "                          12\n",
    "                         /  \\\n",
    "                        8    16\n",
    "                       /       \\\n",
    "                      2         17\n",
    "                       \\\n",
    "                        3\n",
    "```\n",
    "Then we enter 9:\n",
    "```\n",
    "                          12\n",
    "                         /   \\\n",
    "                        8     16\n",
    "                       / \\      \\\n",
    "                      2   9      17\n",
    "                       \\\n",
    "                        3\n",
    "```\n",
    "And finally we enter 1:\n",
    "\n",
    "```\n",
    "                          12\n",
    "                         /   \\\n",
    "                        8     16\n",
    "                       / \\      \\\n",
    "                      2   9      17\n",
    "                     / \\\n",
    "                    1   3\n",
    "```\n",
    "As you can see the binary tree property is maintained throughout the whole tree. \n",
    "\n",
    "\n",
    "Now we define a few properties of the tree. The **size of the tree** is how many nodes it has. The above BST has a size of 8. The **height of the tree** is the number of the nodes in the longest path connecting the root to a leave. We have two longest paths: 12-8-2-1 and 12-8-2-3. They both have 4 nodes which is the height of the tree.\n",
    "\n",
    "The height of the tree is important, it determines the running time required to insert, delete, or search for an element in the tree."
   ]
  },
  {
   "cell_type": "markdown",
   "metadata": {},
   "source": [
    "### <a id=\"ch01\">CHALLENGE 01</a>\n",
    "**Q1.** Draw the BST that results from inserting the data `12, 8, 16, 2, 17, 3, 9, 1` in the order from right to left."
   ]
  },
  {
   "cell_type": "raw",
   "metadata": {},
   "source": [
    "Your answer goes here"
   ]
  },
  {
   "cell_type": "markdown",
   "metadata": {},
   "source": [
    "**Q2.** Draw the BST that results from inserting the data `a, b, c, d, e, f` in an ascending order (a to f)"
   ]
  },
  {
   "cell_type": "raw",
   "metadata": {},
   "source": [
    "Your answer goes here"
   ]
  },
  {
   "cell_type": "markdown",
   "metadata": {},
   "source": [
    "## Implementing BST\n",
    "To implement a BST, we need two things:\n",
    "* a structure representing what a node looks like, and\n",
    "* a pointer to the root node of the tree\n",
    "\n",
    "Here is the node structure. "
   ]
  },
  {
   "cell_type": "code",
   "execution_count": null,
   "metadata": {},
   "outputs": [],
   "source": [
    "template <typename T>\n",
    "struct Node {\n",
    "  T info;\n",
    "  Node *left;\n",
    "  Node *right;\n",
    "  Node(T info) : info(info), left(nullptr), right(nullptr) {}\n",
    "};"
   ]
  },
  {
   "cell_type": "markdown",
   "metadata": {},
   "source": [
    "Every node has two pointers (left and right) connecting it to its children. We can now use the `Node` structure to create a `BST` class which looks like this:"
   ]
  },
  {
   "cell_type": "code",
   "execution_count": null,
   "metadata": {},
   "outputs": [],
   "source": [
    "enum class Traversal { PRE_ORDER, IN_ORDER, POST_ORDER };"
   ]
  },
  {
   "cell_type": "code",
   "execution_count": null,
   "metadata": {},
   "outputs": [],
   "source": [
    "template <typename T>\n",
    "class BST {\n",
    "private:\n",
    "  Node<T> *root;\n",
    "\n",
    "public:\n",
    "  BST(): root(nullptr) {}\n",
    "  BST(const BST<T> &bt) = delete;\n",
    "  BST<T> &operator=(const BST<T> &bt) = delete;\n",
    "\n",
    "  bool empty() const { return !root; }\n",
    "  int size() const { return size(root); }\n",
    "  \n",
    "  void traverse(Traversal type, void (*show_node)(const Node<T> *)) const {\n",
    "    traverse(type, root, show_node);\n",
    "  }\n",
    "\n",
    "  bool search(T e) const; //TODO\n",
    "  void insert(T e); //TODO\n",
    "  void remove(T e); //TODO\n",
    "\n",
    "  ~BST(){ destroy(root); }\n",
    "\n",
    "private:\n",
    "  void destroy(Node<T> *node){\n",
    "    if (node) {\n",
    "      destroy(node->left);\n",
    "      destroy(node->right);\n",
    "\n",
    "      delete node;\n",
    "      node = nullptr;\n",
    "    }\n",
    "  }\n",
    "    \n",
    "  int size(const Node<T>* node); //TODO\n",
    "  void traverse(Traversal type, const Node<T> *node, \n",
    "                void (*show_node)(const Node<T> *)) const; //TODO\n",
    "};\n"
   ]
  },
  {
   "cell_type": "markdown",
   "metadata": {},
   "source": [
    "We now implement the functions marked with `//TODO`. \n",
    "\n",
    "## BST size\n",
    "As stated above, the size of a BST is the number of nodes it has. We can implement `size` recursively like this:"
   ]
  },
  {
   "cell_type": "code",
   "execution_count": null,
   "metadata": {},
   "outputs": [],
   "source": [
    "template <typename T>\n",
    "int BST<T>::size(const Node<T>* node){\n",
    "    if(node){\n",
    "        return 1 + size(node->left) + size(node->right);\n",
    "    }else{\n",
    "        return 0;\n",
    "    }\n",
    "}"
   ]
  },
  {
   "cell_type": "markdown",
   "metadata": {},
   "source": [
    "That is the size of any tree whose root is `node` is 1 plus the sum of its left tree and right tree sizes.\n",
    "\n",
    "## BST traversal\n",
    "Traversing a BST tree means visiting and reporting every node in it. There are three kinds of traversals based on when the node is reported out:\n",
    "- **Pre-order traversal:** where node is reported out before its left and right subtrees.\n",
    "- **In-order traversal:** where node is reported out after its left subtree and before its right subtree.\n",
    "- **Post-order traversal:** where node is reported out after its left and right subtrees.\n",
    "\n",
    "And we use a function pointer (`show_node`) to avoid hardcoding how a node is reported out. Here is our recursive traversal implementation."
   ]
  },
  {
   "cell_type": "code",
   "execution_count": null,
   "metadata": {},
   "outputs": [],
   "source": [
    "template <typename T>\n",
    "void BST<T>::traverse(Traversal type, const Node<T> *node, \n",
    "                      void (*show_node)(const Node<T> *)) const{\n",
    "    if (node) {\n",
    "      switch(type){\n",
    "      case Traversal::PRE_ORDER:\n",
    "        show_node(node);\n",
    "        traverse(type, node->left, show_node);\n",
    "        traverse(type, node->right, show_node);\n",
    "        break;\n",
    "      case Traversal::IN_ORDER:\n",
    "        traverse(type, node->left, show_node);\n",
    "        show_node(node);\n",
    "        traverse(type, node->right, show_node);\n",
    "        break;\n",
    "      case Traversal::POST_ORDER:\n",
    "        traverse(type, node->left, show_node);\n",
    "        traverse(type, node->right, show_node);\n",
    "        show_node(node);\n",
    "        break;  \n",
    "      }\n",
    "    }\n",
    "  }\n"
   ]
  },
  {
   "cell_type": "markdown",
   "metadata": {},
   "source": [
    "## Searching BST\n",
    "Searching a BST for a value `e` involves starting at the root node and and comparing that value to its info. If it's less than the root, we follow the left link, else we follow the right link. We keep doing this until the value is found or the bottom of the tree is reached. Here is how the implementation looks:"
   ]
  },
  {
   "cell_type": "code",
   "execution_count": null,
   "metadata": {},
   "outputs": [],
   "source": [
    "template <typename T>\n",
    "bool BST<T>::search(T e) const {\n",
    "    auto current = root;\n",
    "    while(current){\n",
    "      if(current->info == e){\n",
    "        return true;\n",
    "      }else if(e < current->info){\n",
    "        current = current->left;\n",
    "      }else if(e > current->info){\n",
    "        current = current->right;\n",
    "      }\n",
    "    }\n",
    "\n",
    "    return false;\n",
    "}  "
   ]
  },
  {
   "cell_type": "markdown",
   "metadata": {},
   "source": [
    "## Inserting an element into a BST\n",
    "Early on in this worksheet, we saw an example of constructing a BST by inserting elements into it one at a time. We start at the root and compare the new value to its info. if it's less than the root we go left, else we go right. The goal is find the node that is going to be the parent of the new value. When the search is done, we compare the new value to its to-be parent node, if it's less than it, we insert it as a left child; if it's greater than it we insert it as a right child. Here is the implementation for that. Notice that duplicate values are not allowed in this implementation."
   ]
  },
  {
   "cell_type": "code",
   "execution_count": null,
   "metadata": {},
   "outputs": [],
   "source": [
    "template <typename T>\n",
    "void BST<T>::insert(T e){\n",
    "    if(this->root){\n",
    "      auto current = this->root;\n",
    "      Node<T>* parent = nullptr;\n",
    "      while(current){\n",
    "        parent = current;\n",
    "        if(current->info == e){\n",
    "          throw std::runtime_error(\"element is already in the list\");\n",
    "        }else if(e < current->info){\n",
    "          current = current->left;\n",
    "        }else if(e > current->info){\n",
    "          current = current->right;\n",
    "        }\n",
    "      }\n",
    "\n",
    "      if(e < parent->info){\n",
    "        parent->left = new Node<T>(e);\n",
    "      }else{\n",
    "        parent->right = new Node<T>(e);\n",
    "      }\n",
    "    } else{\n",
    "      this->root = new Node<T>(e);\n",
    "    }\n",
    "}"
   ]
  },
  {
   "cell_type": "markdown",
   "metadata": {},
   "source": [
    "## Removing elements from a BST\n",
    "To remove an element `e` from a BST, we first search for that element and if it is not found, we return and do nothing. If it is found, however, we have a few cases to consider. Let's go over these cases with examples one by one.\n",
    "\n",
    "Say that we have this tree:\n",
    "\n",
    "```\n",
    "                          12\n",
    "                         /   \\\n",
    "                        8     14\n",
    "                       / \\      \\\n",
    "                      2   9      17\n",
    "                     / \\        /  \\    \n",
    "                    1   3      15   19\n",
    "```\n",
    "**CASE 1**: Removing a node that has no children. Let's remove node 1 which has no children, what do we get? Well! We get the following tree:\n",
    "\n",
    "```\n",
    "                          12\n",
    "                         /   \\\n",
    "                        8     14\n",
    "                       / \\      \\\n",
    "                      2   9      17\n",
    "                       \\        /  \\    \n",
    "                        3      15   19\n",
    "```\n",
    "We only had to delete the node 1 and make the left link of 2 null. The same goes if we were to delete 9; we delete it and make the right link of 8 null, which results in a tree like this:\n",
    "```\n",
    "                          12\n",
    "                         /   \\\n",
    "                        8     14\n",
    "                       /        \\\n",
    "                      2          17\n",
    "                       \\        /  \\    \n",
    "                        3      15   19\n",
    "```\n",
    "**CASE 2**: Removing a node with a left child only. For example, removing node 8 which has a left child 2, results in a tree like this:\n",
    "\n",
    "```\n",
    "                          12\n",
    "                         /   \\\n",
    "                        2     14\n",
    "                         \\      \\\n",
    "                          3      17\n",
    "                                /  \\    \n",
    "                               15   19                \n",
    "```\n",
    "Here we link 12 (8's parent) via a left link to 8's only left child(2) and then delete 8. If the to-be-deleted node is linked to its parent with a right link, then we link the parent to the only child of the to-be-deleted node via a right link.\n",
    "\n",
    "**CASE 3**: Removing a node with right child only. This is similar to **CASE 2**. For example, removing node 14 which has a right child 17, results in a tree like this:\n",
    "\n",
    "```\n",
    "                          12\n",
    "                        /    \\\n",
    "                       2     17\n",
    "                        \\    /  \\\n",
    "                         3  15   19               \n",
    "```\n",
    "Here we link 12 (14's parent) via a right link to 14's only right child(17) and then delete 14. If the to-be-deleted node is linked to its parent with a left link, then we link the parent to the only child of the to-be-deleted node via a left link.\n",
    "\n",
    "**CASE 4**: Removing a node with two children. Say that we want to delete a node `d` that has two children. First we go to the left size of node `d` and look for a node `m` with the maximum value of all nodes to the left of `d`. Having found `m`. We then exchange d's value with m's value and then delete the node m. For example, let's delete the node 17 which has two children 15 and 19. So d = 17 and m = 15 (the maximum value to the left of 17). We then move the value 15 to where 17 is and remove its leaf node, which results in a tree like this:\n",
    "\n",
    "```\n",
    "                          12\n",
    "                        /    \\\n",
    "                       2     15\n",
    "                        \\      \\\n",
    "                         3     19               \n",
    "```\n",
    "What about deleting the root node 12? If d = 12, then m = 3 (the maximum value to its left). That means getting the tree\n",
    "\n",
    "```\n",
    "                          3\n",
    "                        /   \\\n",
    "                       2     15\n",
    "                              \\\n",
    "                              19               \n",
    "```\n",
    "Here is the implementation of the remove function."
   ]
  },
  {
   "cell_type": "code",
   "execution_count": null,
   "metadata": {},
   "outputs": [],
   "source": [
    "template <typename T>\n",
    "void BST<T>::remove(T e){\n",
    "    // Search of the node to be deleted\n",
    "    auto node = this->root;\n",
    "    Node<T>* parent = nullptr;\n",
    "    bool is_left_child = false;\n",
    "    while(node){\n",
    "      if(node->info == e){\n",
    "        break;\n",
    "      }else {\n",
    "        parent = node;\n",
    "        if(e < node->info){\n",
    "          is_left_child = true;\n",
    "          node = node->left;\n",
    "        }else if(e > node->info){\n",
    "          is_left_child = false;\n",
    "          node = node->right;\n",
    "        }\n",
    "      }\n",
    "    }\n",
    "\n",
    "    if(node){\n",
    "      // CASE 1: Node has not children\n",
    "      if(!node->left && !node->right) {\n",
    "        if(is_left_child){\n",
    "          parent->left = nullptr;\n",
    "        }else{\n",
    "          parent->right = nullptr;\n",
    "        }\n",
    "      }else if(node->left && !node->right){\n",
    "        // CASE 2: Node has only a left child\n",
    "        if(is_left_child){\n",
    "          parent->left = node->left;\n",
    "        }else{\n",
    "          parent->right = node->left;\n",
    "        }\n",
    "      }else if(!node->left && node->right){\n",
    "        // CASE 3: Node has only a right child\n",
    "        if(is_left_child){\n",
    "          parent->left = node->right;\n",
    "        }else{\n",
    "          parent->right = node->right;\n",
    "        }\n",
    "      }else{\n",
    "        // CASE 4: Node has both left and right children\n",
    "        // First find the node with the maximum value on the left side\n",
    "        auto current = node->left;\n",
    "        Node<T>* beforeCurrent = nullptr;\n",
    "        while(current->right){\n",
    "          beforeCurrent = current;\n",
    "          current = current->right;\n",
    "        }\n",
    "\n",
    "        node->info = current->info;\n",
    "\n",
    "        if(beforeCurrent){\n",
    "          beforeCurrent->right = current->left;\n",
    "        }else{\n",
    "          node->left = current->left;\n",
    "        }\n",
    "\n",
    "        // Node to delete\n",
    "        node = current;\n",
    "      }\n",
    "      \n",
    "      delete node;\n",
    "      node = nullptr;\n",
    "    }\n",
    "}"
   ]
  },
  {
   "cell_type": "markdown",
   "metadata": {},
   "source": [
    "## Testing our implementation\n",
    "To test our implementation, we first need a function to print the node during tree traversal. Here is a simple function to do that. "
   ]
  },
  {
   "cell_type": "code",
   "execution_count": null,
   "metadata": {},
   "outputs": [],
   "source": [
    "template <typename T>\n",
    "void simplePrint(const Node<T> *node){\n",
    "    if(node){\n",
    "      std::cout << node->info << \" \";\n",
    "    }\n",
    "}"
   ]
  },
  {
   "cell_type": "markdown",
   "metadata": {},
   "source": [
    "Let's test our BST class."
   ]
  },
  {
   "cell_type": "code",
   "execution_count": null,
   "metadata": {
    "scrolled": true
   },
   "outputs": [],
   "source": [
    "BST<int> bst;\n",
    "std::vector<int> data = { 12, 8, 16, 2, 17, 3, 9, 1 };\n",
    "for(int d : data){ bst.insert(d); }\n",
    "\n",
    "bst.traverse(Traversal::IN_ORDER, simplePrint);"
   ]
  },
  {
   "cell_type": "markdown",
   "metadata": {},
   "source": [
    "### <a id=\"ch02\">CHALLENGE 02</a>\n",
    "**Q1**. Draw the BST that results from inserting the elements `{ 12, 8, 16, 2, 17, 3, 9, 1 }` from left to right."
   ]
  },
  {
   "cell_type": "raw",
   "metadata": {},
   "source": [
    "Your answer goes here"
   ]
  },
  {
   "cell_type": "markdown",
   "metadata": {},
   "source": [
    "**Q2**. What is the size of this BST?"
   ]
  },
  {
   "cell_type": "raw",
   "metadata": {},
   "source": [
    "Your answer goes here"
   ]
  },
  {
   "cell_type": "markdown",
   "metadata": {},
   "source": [
    "**Q2**. What is the height of this BST?"
   ]
  },
  {
   "cell_type": "raw",
   "metadata": {},
   "source": [
    "Your answer goes here"
   ]
  },
  {
   "cell_type": "markdown",
   "metadata": {},
   "source": [
    "**Q3**. How many leaves (leaf nodes) does it have?"
   ]
  },
  {
   "cell_type": "raw",
   "metadata": {},
   "source": [
    "Your answer goes here"
   ]
  },
  {
   "cell_type": "markdown",
   "metadata": {},
   "source": [
    "### <a id=\"ch03\">CHALLENGE 03</a>\n",
    "**Q1**. Starting with the BST of CHALLENGE 02, draw this BST after inserting 7."
   ]
  },
  {
   "cell_type": "raw",
   "metadata": {},
   "source": [
    "Your answer goes here"
   ]
  },
  {
   "cell_type": "markdown",
   "metadata": {},
   "source": [
    "**Q2**. Draw this BST after deleting 2. Which CASE was that?"
   ]
  },
  {
   "cell_type": "raw",
   "metadata": {},
   "source": [
    "Your answer goes here"
   ]
  },
  {
   "cell_type": "markdown",
   "metadata": {},
   "source": [
    "**Q3**. What will the height of this BST be after deleting 1?"
   ]
  },
  {
   "cell_type": "raw",
   "metadata": {},
   "source": [
    "Your answer goes here"
   ]
  },
  {
   "cell_type": "markdown",
   "metadata": {},
   "source": [
    "## Analyzing search, insert, and remove\n",
    "Looking at the search, insert, and remove functions, we see that there three functions, travel down the tree starting at the root. In the worst case, they go as far as the deepest leaf. Than means the running time for these algorithms is $O(h)$ where $h$ is the height of the BST. But what is $h$ in terms of $n$: the size of the tree? Well, it depends on whether you have a balanced BST or not. A unbalanced BST has most nodes in one side (left or right) and a few or none on the other side. Think about the following BST:\n",
    "```\n",
    "  5\n",
    "   \\\n",
    "    6\n",
    "     \\\n",
    "      7\n",
    "       \\\n",
    "        8\n",
    "```\n",
    "With an extremely unbalance tree like this, $h = n$, which means that searching, inserting, and removing will happen at linear time $O(n)$. If the tree is balanced (with similar(not necessarily equal) number of nodes on both sides), the we get a BST like this:\n",
    "```\n",
    "                          12\n",
    "                         /   \\\n",
    "                        8     14\n",
    "                       / \\      \\\n",
    "                      2   9      17\n",
    "                       \\        /  \\    \n",
    "                        3      15   19\n",
    "```\n",
    "where $h \\approx log(n)$ which means that searching, inserting, and removing will happen at close to logarithmic time $O(log(n))$.\n",
    "\n",
    "The question is then, how do make sure that our BST's are fairly balanced? Well we adopt and implement a *self-balancing* strategy. We have two such strategies: **AVL trees**, and **Red-Black trees**. The videos of this course and the in-class project will cover AVL trees."
   ]
  },
  {
   "cell_type": "markdown",
   "metadata": {},
   "source": [
    "### <a id=\"ch04\">CHALLENGE 04</a>\n",
    "In a BST created by inserting the following elements from left to right:\n",
    "```\n",
    "G, E, H, B, A, F, H, I, K, O, J\n",
    "```\n",
    "**Q1**. What will pre-order traversal print out? Separate values by space."
   ]
  },
  {
   "cell_type": "raw",
   "metadata": {},
   "source": [
    "Your answer goes here"
   ]
  },
  {
   "cell_type": "markdown",
   "metadata": {},
   "source": [
    "**Q2**. What will in-order traversal print out? Separate values by space."
   ]
  },
  {
   "cell_type": "raw",
   "metadata": {},
   "source": [
    "Your answer goes here"
   ]
  },
  {
   "cell_type": "markdown",
   "metadata": {},
   "source": [
    "**Q3**. What will post-order traversal print out? Separate values by space."
   ]
  },
  {
   "cell_type": "raw",
   "metadata": {},
   "source": [
    "Your answer goes here"
   ]
  },
  {
   "cell_type": "markdown",
   "metadata": {},
   "source": [
    "# AVL Trees\n",
    "An AVL tree is a self-balancing binary search tree that guarantees the height of the tree is approximately $log(n)$. The AVL tree attaches a height value to every node. The height of a node $x$ is the maximum number of nodes on the path from that node ($x$) to a leaf, including $x$ itself. And the height of the tree is the height of its root node. For example, here is an AVL tree, which as you see is a fairly balanced BST. \n",
    "\n",
    "```\n",
    "                          12\n",
    "                         /   \\\n",
    "                        8     14\n",
    "                       / \\    /  \\\n",
    "                      2   9  13   17\n",
    "                       \\         /  \\    \n",
    "                        3       15   19\n",
    "```\n",
    "Here are the heights of all the nodes in this tree:\n",
    "\n",
    "| Node  | Height |\n",
    "|-------|--------|\n",
    "| 12    | 4      |\n",
    "| 8     | 3      |\n",
    "| 14    | 3      |\n",
    "| 2     | 2      |\n",
    "| 9     | 1      |\n",
    "| 13    | 1      |\n",
    "| 17    | 2      |\n",
    "| 3     | 1      |\n",
    "| 15    | 1      |\n",
    "| 19    | 1      |\n",
    "\n",
    "\n",
    "The **AVL tree** self-balances by enforcing a **balancing condition** making sure that any node insertion or removal does not violate this condition. The balancing condition used by the AVL tree is the following:\n",
    "\n",
    "    At any given node, the difference in heights between the node's left child and the node's right child cannot be more than one. \n",
    "    \n",
    "We call this the **AVL property** and it must be maintained on all nodes. Take a moment to inspect the AVL tree above and to make sure that this property is not violated anywhere in the tree.\n",
    "\n",
    "Inserting new elements into the tree or removing existing nodes from the tree can result in a violation of this property. For example, inserting 25, results in BST like this:\n",
    "\n",
    "```\n",
    "                          12\n",
    "                         /   \\\n",
    "                        8     14\n",
    "                       / \\    /  \\\n",
    "                      2   9  13   17\n",
    "                       \\         /  \\    \n",
    "                        3       15   19\n",
    "                                      \\\n",
    "                                       25\n",
    "```\n",
    "This is not an AVL tree because the AVL property is violated at node 14. To see why that is the case, we calculate the height of node 14's left child (node 13) which is 1 and the height of its right child (node 17) which is 3. The  difference between these two heights $|1 - 3|$ is more than 1. To fix this we left-rotate node 14 (where the violation happens) as described in the lecture videos. This results in an AVL tree like this:\n",
    "\n",
    "```\n",
    "                           12\n",
    "                         /     \\\n",
    "                        8       17\n",
    "                       / \\     /  \\\n",
    "                      2   9   14   19\n",
    "                       \\     /  \\    \\    \n",
    "                        3   13   15   25\n",
    "```\n",
    "\n",
    "Removing node 9 will result in a BST that violates the AVL property like this:\n",
    "\n",
    "```\n",
    "                           12\n",
    "                         /     \\\n",
    "                        8       17\n",
    "                       /       /  \\\n",
    "                      2       14   19\n",
    "                       \\     /  \\    \\    \n",
    "                        3   13   15   25\n",
    "```\n",
    "The violation happens at node 8 because its left child has a height of 2 and its right child has height of 0 (no right child). The difference between 3 and 0 is more than one. We fix this by performing two (double) rotations. First we left-rotate at node 2 which results int the following BST tree (which is not yet an AVL tree):\n",
    "```\n",
    "                           12\n",
    "                         /     \\\n",
    "                        8       17\n",
    "                       /       /  \\\n",
    "                      3       14   19\n",
    "                     /        /  \\    \\    \n",
    "                    2       13   15   25\n",
    "```\n",
    "Then we right rotate at node 8, gives the following AVL tree.\n",
    "```\n",
    "                           12\n",
    "                         /     \\\n",
    "                        3       17\n",
    "                       / \\     /  \\\n",
    "                      2   8   14   19\n",
    "                              /  \\    \\    \n",
    "                           13   15   25\n",
    "```\n",
    "\n",
    "The details of the rotations needed to fix AVL property violations were discussed in the lecture videos. Here is a step-by-step summary of that process: \n",
    "\n",
    "- Starting from the bottom-up, find the node $x$ where the violation of the AVL property happens.\n",
    "- Find the node $y$ by finding the the child of $x$ with the larger height. if $x$'s left child has the larger height, then `y = x.left` else `y = x.right`.\n",
    "- Find which child of $y$ has the larger height.\n",
    "- Use the following rotation table.\n",
    "\n",
    "| $x$'s child with larger height | $y$'s child with larger height | Action               |\n",
    "|--------------------------------|--------------------------------|----------------------|\n",
    "| right                          | right                          | left-rotate at $x$   |\n",
    "| right                          | left                           | right-rotate at $y$<br>left-rotate at $x$   |\n",
    "| left                           | left                           | right-rotate at $x$   |\n",
    "| left                           | right                          | left-rotate at $y$<br>right-rotate at $x$   |\n",
    "\n",
    "# B-trees\n",
    "A B-tree is an efficient self-balancing search tree. It generalizes the notion of search trees to nodes with more than one key and more than two children. A b-tree of order $m$ is called an $m$-way b-tree and has the following properties:\n",
    "* All leaves are at the same level.\n",
    "* Non-leaf and non-root internal nodes have at least $\\lceil\\frac{m}{2}\\rceil$ children and at most $m$ children.\n",
    "* Leaves and non-root internal nodes have at least $\\lceil\\frac{m}{2}\\rceil - 1$ keys and at most $m - 1$ keys.\n",
    "* The root node has at least $2$ children and at most $m$ children. It has at least $1$ key and at most $m - 1$ keys.\n",
    "\n",
    "For example, for the common 5-way b-tree we have:\n",
    "* $m = 5$\n",
    "* $m - 1 = 4$\n",
    "* $\\lceil\\frac{m}{2}\\rceil = \\lceil\\frac{5}{2}\\rceil = \\lceil2.5\\rceil = 3$\n",
    "* For non-leaf and non-root internal nodes, $ 3 \\leq \\#\\ of\\ children \\leq 5$\n",
    "* For leaves and non-root internal nodes, $ 2 \\leq \\#\\ of\\ keys \\leq 4$\n",
    "* For the root node, $ 2 \\leq \\#\\ of\\ children \\leq 5$ and $ 1 \\leq \\#\\ of\\ keys \\leq 5$.\n",
    "\n",
    "Implementing B-trees is beyond the scope of this course. To get an idea on what this implementation would look like, here is a structure representing a node in a B-tree."
   ]
  },
  {
   "cell_type": "code",
   "execution_count": null,
   "metadata": {},
   "outputs": [],
   "source": [
    "template<typename T, int order>\n",
    "struct BNode {\n",
    "    int n; // Number of actual keys in node\n",
    "    T keys[order - 1];\n",
    "    BNode* children[order];\n",
    "};"
   ]
  },
  {
   "cell_type": "markdown",
   "metadata": {},
   "source": [
    "which as you can see is a generalization of the `Node<>` structure used for BST."
   ]
  }
 ],
 "metadata": {
  "kernelspec": {
   "display_name": "C++17",
   "language": "C++17",
   "name": "xcpp17"
  },
  "language_info": {
   "codemirror_mode": "text/x-c++src",
   "file_extension": ".cpp",
   "mimetype": "text/x-c++src",
   "name": "c++",
   "version": "17"
  }
 },
 "nbformat": 4,
 "nbformat_minor": 2
}
